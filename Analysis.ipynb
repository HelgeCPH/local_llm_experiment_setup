{
 "cells": [
  {
   "cell_type": "markdown",
   "id": "52c649d0",
   "metadata": {},
   "source": [
    "# Data Analysis Notebook\n",
    "\n",
    "## What is this?\n",
    "\n",
    "This notebook contains all code that is used to analysis the data for the paper \"Faster, More Accurate Results, and Better Grades: The Effect of a Local LLM in an Introductory Programming Exam\".\n",
    "\n",
    "## How to use it?\n",
    "\n",
    "If you want to reproduce the results and figures reported in the paper, execute each code cell in consecutive order. In particular, the code cells in section \"Data Cleansing\" have to be executed _before_ the remaining code cells!"
   ]
  },
  {
   "cell_type": "code",
   "execution_count": 1,
   "id": "d807064c",
   "metadata": {},
   "outputs": [],
   "source": [
    "import pandas as pd\n",
    "import numpy as np\n",
    "import matplotlib.pyplot as plt\n",
    "import seaborn as sns\n",
    "import scipy.stats as stats\n",
    "from scipy.stats import mannwhitneyu, spearmanr, anderson"
   ]
  },
  {
   "cell_type": "code",
   "execution_count": 2,
   "id": "9edea4c2",
   "metadata": {},
   "outputs": [],
   "source": [
    "df = pd.read_csv(\"data.csv\", delimiter=\";\")"
   ]
  },
  {
   "cell_type": "markdown",
   "id": "b08d4498",
   "metadata": {},
   "source": [
    "## Data Cleansing\n",
    "\n",
    "The columns `Task x`, contain the time (in seconds) it takes an experiment subject to solve the respective task `x`. In case two space separated integer values are recorded in this column, the first one denotes the time in seconds and the second records the number of prompts that were used.\n",
    "\n",
    "Since this is a dense notation, we split them into separate columns to facilitate later analysis."
   ]
  },
  {
   "cell_type": "code",
   "execution_count": 3,
   "id": "20186a76",
   "metadata": {},
   "outputs": [],
   "source": [
    "# Generate a separate CSV file only for the demographics data\n",
    "demographics_questions = [\n",
    "    \"In what subject was your bachelor?\", \n",
    "    \"How many years of developer experience do you have?\",\n",
    "    \"How many months is it since you coded in Java?\", \n",
    "    \"How many years of experience do you have with Visual Studio Code?\",\n",
    "    \"How much experience in years do you have in using an LLM(ChatGPT, CoPilot, Gemini)?\",\n",
    "    \"Which operating system do you usually use\"\n",
    "]\n",
    "df[[\"Participant\", ] + demographics_questions].dropna().to_csv(\"demographics.csv\", index=False)"
   ]
  },
  {
   "cell_type": "code",
   "execution_count": 3,
   "id": "96fc33b8",
   "metadata": {},
   "outputs": [],
   "source": [
    "%%bash\n",
    "# Generate a separate CSV file only for the numerical data\n",
    "python datacleansing.py\n",
    "# After this step, a file dataclean.csv is available"
   ]
  },
  {
   "cell_type": "markdown",
   "id": "ab39b477",
   "metadata": {},
   "source": [
    "## Demographics"
   ]
  },
  {
   "cell_type": "code",
   "execution_count": 4,
   "id": "0164ff90",
   "metadata": {},
   "outputs": [
    {
     "data": {
      "text/html": [
       "<div>\n",
       "<style scoped>\n",
       "    .dataframe tbody tr th:only-of-type {\n",
       "        vertical-align: middle;\n",
       "    }\n",
       "\n",
       "    .dataframe tbody tr th {\n",
       "        vertical-align: top;\n",
       "    }\n",
       "\n",
       "    .dataframe thead th {\n",
       "        text-align: right;\n",
       "    }\n",
       "</style>\n",
       "<table border=\"1\" class=\"dataframe\">\n",
       "  <thead>\n",
       "    <tr style=\"text-align: right;\">\n",
       "      <th></th>\n",
       "      <th>Participant</th>\n",
       "      <th>In what subject was your bachelor?</th>\n",
       "      <th>How many years of developer experience do you have?</th>\n",
       "      <th>How many months is it since you coded in Java?</th>\n",
       "      <th>How many years of experience do you have with Visual Studio Code?</th>\n",
       "      <th>How much experience in years do you have in using an LLM(ChatGPT, CoPilot, Gemini)?</th>\n",
       "      <th>Which operating system do you usually use</th>\n",
       "    </tr>\n",
       "  </thead>\n",
       "  <tbody>\n",
       "    <tr>\n",
       "      <th>0</th>\n",
       "      <td>1</td>\n",
       "      <td>Business Economics &amp; Information System</td>\n",
       "      <td>4.0</td>\n",
       "      <td>0.0</td>\n",
       "      <td>2.0</td>\n",
       "      <td>2.0</td>\n",
       "      <td>MacOS</td>\n",
       "    </tr>\n",
       "    <tr>\n",
       "      <th>1</th>\n",
       "      <td>2</td>\n",
       "      <td>International sales and marketing</td>\n",
       "      <td>2.0</td>\n",
       "      <td>0.0</td>\n",
       "      <td>2.0</td>\n",
       "      <td>0.5</td>\n",
       "      <td>Windows</td>\n",
       "    </tr>\n",
       "    <tr>\n",
       "      <th>2</th>\n",
       "      <td>3</td>\n",
       "      <td>Innovation and Entrepreneurship</td>\n",
       "      <td>1.0</td>\n",
       "      <td>0.0</td>\n",
       "      <td>1.0</td>\n",
       "      <td>1.0</td>\n",
       "      <td>MacOS</td>\n",
       "    </tr>\n",
       "    <tr>\n",
       "      <th>3</th>\n",
       "      <td>4</td>\n",
       "      <td>Visual Design (Game and Interaction Design)</td>\n",
       "      <td>4.0</td>\n",
       "      <td>2.0</td>\n",
       "      <td>2.0</td>\n",
       "      <td>0.0</td>\n",
       "      <td>Windows</td>\n",
       "    </tr>\n",
       "    <tr>\n",
       "      <th>4</th>\n",
       "      <td>5</td>\n",
       "      <td>Communication &amp; IT</td>\n",
       "      <td>2.0</td>\n",
       "      <td>3.0</td>\n",
       "      <td>2.0</td>\n",
       "      <td>1.0</td>\n",
       "      <td>MacOS</td>\n",
       "    </tr>\n",
       "    <tr>\n",
       "      <th>5</th>\n",
       "      <td>6</td>\n",
       "      <td>Physiotherapy</td>\n",
       "      <td>2.0</td>\n",
       "      <td>3.0</td>\n",
       "      <td>2.0</td>\n",
       "      <td>1.5</td>\n",
       "      <td>MacOS</td>\n",
       "    </tr>\n",
       "    <tr>\n",
       "      <th>6</th>\n",
       "      <td>7</td>\n",
       "      <td>Global Business Informatics</td>\n",
       "      <td>2.0</td>\n",
       "      <td>9.0</td>\n",
       "      <td>2.0</td>\n",
       "      <td>1.0</td>\n",
       "      <td>Windows</td>\n",
       "    </tr>\n",
       "    <tr>\n",
       "      <th>7</th>\n",
       "      <td>8</td>\n",
       "      <td>Literaturvidenskab</td>\n",
       "      <td>2.0</td>\n",
       "      <td>12.0</td>\n",
       "      <td>2.5</td>\n",
       "      <td>1.5</td>\n",
       "      <td>MacOS</td>\n",
       "    </tr>\n",
       "    <tr>\n",
       "      <th>8</th>\n",
       "      <td>9</td>\n",
       "      <td>Global Business Informatics</td>\n",
       "      <td>2.0</td>\n",
       "      <td>13.0</td>\n",
       "      <td>2.0</td>\n",
       "      <td>1.0</td>\n",
       "      <td>MacOS</td>\n",
       "    </tr>\n",
       "    <tr>\n",
       "      <th>9</th>\n",
       "      <td>10</td>\n",
       "      <td>Economy</td>\n",
       "      <td>1.5</td>\n",
       "      <td>8.0</td>\n",
       "      <td>1.5</td>\n",
       "      <td>0.5</td>\n",
       "      <td>MacOS</td>\n",
       "    </tr>\n",
       "    <tr>\n",
       "      <th>10</th>\n",
       "      <td>11</td>\n",
       "      <td>Modern India and South Asia Studies</td>\n",
       "      <td>1.5</td>\n",
       "      <td>8.0</td>\n",
       "      <td>1.5</td>\n",
       "      <td>0.5</td>\n",
       "      <td>Windows</td>\n",
       "    </tr>\n",
       "    <tr>\n",
       "      <th>11</th>\n",
       "      <td>12</td>\n",
       "      <td>Digital Design and Interactive Technologies</td>\n",
       "      <td>1.5</td>\n",
       "      <td>2.0</td>\n",
       "      <td>6.0</td>\n",
       "      <td>1.5</td>\n",
       "      <td>Windows</td>\n",
       "    </tr>\n",
       "    <tr>\n",
       "      <th>12</th>\n",
       "      <td>13</td>\n",
       "      <td>Sound Design</td>\n",
       "      <td>2.0</td>\n",
       "      <td>1.0</td>\n",
       "      <td>3.0</td>\n",
       "      <td>1.0</td>\n",
       "      <td>MacOS</td>\n",
       "    </tr>\n",
       "    <tr>\n",
       "      <th>13</th>\n",
       "      <td>14</td>\n",
       "      <td>Bachelor of education</td>\n",
       "      <td>0.0</td>\n",
       "      <td>7.0</td>\n",
       "      <td>1.5</td>\n",
       "      <td>1.0</td>\n",
       "      <td>Windows</td>\n",
       "    </tr>\n",
       "    <tr>\n",
       "      <th>14</th>\n",
       "      <td>15</td>\n",
       "      <td>Energy Engineering</td>\n",
       "      <td>2.0</td>\n",
       "      <td>12.0</td>\n",
       "      <td>2.0</td>\n",
       "      <td>1.0</td>\n",
       "      <td>Linux</td>\n",
       "    </tr>\n",
       "    <tr>\n",
       "      <th>15</th>\n",
       "      <td>16</td>\n",
       "      <td>Business economics &amp; IT</td>\n",
       "      <td>3.0</td>\n",
       "      <td>0.0</td>\n",
       "      <td>3.0</td>\n",
       "      <td>1.0</td>\n",
       "      <td>MacOS</td>\n",
       "    </tr>\n",
       "    <tr>\n",
       "      <th>16</th>\n",
       "      <td>17</td>\n",
       "      <td>Business</td>\n",
       "      <td>2.0</td>\n",
       "      <td>3.0</td>\n",
       "      <td>2.0</td>\n",
       "      <td>1.0</td>\n",
       "      <td>Windows</td>\n",
       "    </tr>\n",
       "    <tr>\n",
       "      <th>17</th>\n",
       "      <td>18</td>\n",
       "      <td>Gastronomy (Food Science and Agriculture)</td>\n",
       "      <td>1.5</td>\n",
       "      <td>0.0</td>\n",
       "      <td>1.5</td>\n",
       "      <td>1.0</td>\n",
       "      <td>MacOS</td>\n",
       "    </tr>\n",
       "    <tr>\n",
       "      <th>18</th>\n",
       "      <td>19</td>\n",
       "      <td>International Business in Asia</td>\n",
       "      <td>1.0</td>\n",
       "      <td>6.0</td>\n",
       "      <td>1.5</td>\n",
       "      <td>1.0</td>\n",
       "      <td>MacOS</td>\n",
       "    </tr>\n",
       "    <tr>\n",
       "      <th>19</th>\n",
       "      <td>20</td>\n",
       "      <td>IT &amp; Communication</td>\n",
       "      <td>2.0</td>\n",
       "      <td>0.0</td>\n",
       "      <td>3.0</td>\n",
       "      <td>1.0</td>\n",
       "      <td>MacOS</td>\n",
       "    </tr>\n",
       "    <tr>\n",
       "      <th>20</th>\n",
       "      <td>21</td>\n",
       "      <td>Radiograph</td>\n",
       "      <td>1.5</td>\n",
       "      <td>6.0</td>\n",
       "      <td>1.5</td>\n",
       "      <td>1.0</td>\n",
       "      <td>MacOS</td>\n",
       "    </tr>\n",
       "    <tr>\n",
       "      <th>21</th>\n",
       "      <td>22</td>\n",
       "      <td>Software Design</td>\n",
       "      <td>4.0</td>\n",
       "      <td>12.0</td>\n",
       "      <td>3.0</td>\n",
       "      <td>1.0</td>\n",
       "      <td>MacOS</td>\n",
       "    </tr>\n",
       "    <tr>\n",
       "      <th>22</th>\n",
       "      <td>23</td>\n",
       "      <td>Communication</td>\n",
       "      <td>1.0</td>\n",
       "      <td>6.0</td>\n",
       "      <td>1.5</td>\n",
       "      <td>1.0</td>\n",
       "      <td>Windows</td>\n",
       "    </tr>\n",
       "    <tr>\n",
       "      <th>23</th>\n",
       "      <td>24</td>\n",
       "      <td>International Business</td>\n",
       "      <td>1.0</td>\n",
       "      <td>3.0</td>\n",
       "      <td>1.5</td>\n",
       "      <td>1.0</td>\n",
       "      <td>MacOS</td>\n",
       "    </tr>\n",
       "  </tbody>\n",
       "</table>\n",
       "</div>"
      ],
      "text/plain": [
       "    Participant           In what subject was your bachelor?  \\\n",
       "0             1     Business Economics & Information System    \n",
       "1             2            International sales and marketing   \n",
       "2             3             Innovation and Entrepreneurship    \n",
       "3             4  Visual Design (Game and Interaction Design)   \n",
       "4             5                           Communication & IT   \n",
       "5             6                                Physiotherapy   \n",
       "6             7                  Global Business Informatics   \n",
       "7             8                           Literaturvidenskab   \n",
       "8             9                  Global Business Informatics   \n",
       "9            10                                      Economy   \n",
       "10           11          Modern India and South Asia Studies   \n",
       "11           12  Digital Design and Interactive Technologies   \n",
       "12           13                                 Sound Design   \n",
       "13           14                        Bachelor of education   \n",
       "14           15                           Energy Engineering   \n",
       "15           16                      Business economics & IT   \n",
       "16           17                                     Business   \n",
       "17           18    Gastronomy (Food Science and Agriculture)   \n",
       "18           19               International Business in Asia   \n",
       "19           20                           IT & Communication   \n",
       "20           21                                   Radiograph   \n",
       "21           22                              Software Design   \n",
       "22           23                                Communication   \n",
       "23           24                       International Business   \n",
       "\n",
       "    How many years of developer experience do you have?  \\\n",
       "0                                                 4.0     \n",
       "1                                                 2.0     \n",
       "2                                                 1.0     \n",
       "3                                                 4.0     \n",
       "4                                                 2.0     \n",
       "5                                                 2.0     \n",
       "6                                                 2.0     \n",
       "7                                                 2.0     \n",
       "8                                                 2.0     \n",
       "9                                                 1.5     \n",
       "10                                                1.5     \n",
       "11                                                1.5     \n",
       "12                                                2.0     \n",
       "13                                                0.0     \n",
       "14                                                2.0     \n",
       "15                                                3.0     \n",
       "16                                                2.0     \n",
       "17                                                1.5     \n",
       "18                                                1.0     \n",
       "19                                                2.0     \n",
       "20                                                1.5     \n",
       "21                                                4.0     \n",
       "22                                                1.0     \n",
       "23                                                1.0     \n",
       "\n",
       "    How many months is it since you coded in Java?  \\\n",
       "0                                              0.0   \n",
       "1                                              0.0   \n",
       "2                                              0.0   \n",
       "3                                              2.0   \n",
       "4                                              3.0   \n",
       "5                                              3.0   \n",
       "6                                              9.0   \n",
       "7                                             12.0   \n",
       "8                                             13.0   \n",
       "9                                              8.0   \n",
       "10                                             8.0   \n",
       "11                                             2.0   \n",
       "12                                             1.0   \n",
       "13                                             7.0   \n",
       "14                                            12.0   \n",
       "15                                             0.0   \n",
       "16                                             3.0   \n",
       "17                                             0.0   \n",
       "18                                             6.0   \n",
       "19                                             0.0   \n",
       "20                                             6.0   \n",
       "21                                            12.0   \n",
       "22                                             6.0   \n",
       "23                                             3.0   \n",
       "\n",
       "    How many years of experience do you have with Visual Studio Code?  \\\n",
       "0                                                 2.0                   \n",
       "1                                                 2.0                   \n",
       "2                                                 1.0                   \n",
       "3                                                 2.0                   \n",
       "4                                                 2.0                   \n",
       "5                                                 2.0                   \n",
       "6                                                 2.0                   \n",
       "7                                                 2.5                   \n",
       "8                                                 2.0                   \n",
       "9                                                 1.5                   \n",
       "10                                                1.5                   \n",
       "11                                                6.0                   \n",
       "12                                                3.0                   \n",
       "13                                                1.5                   \n",
       "14                                                2.0                   \n",
       "15                                                3.0                   \n",
       "16                                                2.0                   \n",
       "17                                                1.5                   \n",
       "18                                                1.5                   \n",
       "19                                                3.0                   \n",
       "20                                                1.5                   \n",
       "21                                                3.0                   \n",
       "22                                                1.5                   \n",
       "23                                                1.5                   \n",
       "\n",
       "    How much experience in years do you have in using an LLM(ChatGPT, CoPilot, Gemini)?  \\\n",
       "0                                                 2.0                                     \n",
       "1                                                 0.5                                     \n",
       "2                                                 1.0                                     \n",
       "3                                                 0.0                                     \n",
       "4                                                 1.0                                     \n",
       "5                                                 1.5                                     \n",
       "6                                                 1.0                                     \n",
       "7                                                 1.5                                     \n",
       "8                                                 1.0                                     \n",
       "9                                                 0.5                                     \n",
       "10                                                0.5                                     \n",
       "11                                                1.5                                     \n",
       "12                                                1.0                                     \n",
       "13                                                1.0                                     \n",
       "14                                                1.0                                     \n",
       "15                                                1.0                                     \n",
       "16                                                1.0                                     \n",
       "17                                                1.0                                     \n",
       "18                                                1.0                                     \n",
       "19                                                1.0                                     \n",
       "20                                                1.0                                     \n",
       "21                                                1.0                                     \n",
       "22                                                1.0                                     \n",
       "23                                                1.0                                     \n",
       "\n",
       "   Which operating system do you usually use  \n",
       "0                                      MacOS  \n",
       "1                                    Windows  \n",
       "2                                      MacOS  \n",
       "3                                    Windows  \n",
       "4                                      MacOS  \n",
       "5                                      MacOS  \n",
       "6                                    Windows  \n",
       "7                                      MacOS  \n",
       "8                                      MacOS  \n",
       "9                                      MacOS  \n",
       "10                                   Windows  \n",
       "11                                   Windows  \n",
       "12                                     MacOS  \n",
       "13                                   Windows  \n",
       "14                                     Linux  \n",
       "15                                     MacOS  \n",
       "16                                   Windows  \n",
       "17                                     MacOS  \n",
       "18                                     MacOS  \n",
       "19                                     MacOS  \n",
       "20                                     MacOS  \n",
       "21                                     MacOS  \n",
       "22                                   Windows  \n",
       "23                                     MacOS  "
      ]
     },
     "execution_count": 4,
     "metadata": {},
     "output_type": "execute_result"
    }
   ],
   "source": [
    "demo_df = pd.read_csv(\"demographics.csv\")\n",
    "demo_df"
   ]
  },
  {
   "cell_type": "code",
   "execution_count": 5,
   "id": "ce484e17",
   "metadata": {},
   "outputs": [],
   "source": [
    "sector_mapping = {\n",
    "    \"Business Economics & Information System\": \"business and economics\",\n",
    "    \"International sales and marketing\": \"business and economics\",\n",
    "    \"Innovation and Entrepreneurship\": \"business and economics\",\n",
    "    \"Visual Design (Game and Interaction Design)\": \"communications and media\",\n",
    "    \"Communication & IT\": \"IT and technology\",\n",
    "    \"Physiotherapy\": \"health and medicine\",\n",
    "    \"Global Business Informatics\": \"IT and technology\" ,\n",
    "    \"Literaturvidenskab\": \"communications and media\",\n",
    "    \"Global Business Informatics\": \"IT and technology\",\n",
    "    \"Economy\": \"business and economics\",\n",
    "    \"Modern India and South Asia Studies\": \"social sciences\",\n",
    "    \"Digital Design and Interactive Technologies\": \"communications and media\",\n",
    "    \"Sound Design\": \"IT and technology\",\n",
    "    \"Bachelor of education\": \"education\",\n",
    "    \"Energy Engineering\": \"IT and technology\",\n",
    "    \"Business economics & IT\": \"business and economics\",\n",
    "    \"Business\": \"business and economics\",\n",
    "    \"Gastronomy (Food Science and Agriculture)\": \"gastronomy\",\n",
    "    \"International Business in Asia\": \"business and economics\",\n",
    "    \"IT & Communication\": \"communications and media\",\n",
    "    \"Radiograph\": \"health and medicine\",\n",
    "    \"Software Design\": \"IT and technology\",\n",
    "    \"Communication\": \"communications and media\",\n",
    "    \"International Business\": \"business and economics\",\n",
    "}\n",
    "demo_df[\"sector\"] = demo_df[\"In what subject was your bachelor?\"].apply(lambda el: sector_mapping[el.strip()])"
   ]
  },
  {
   "cell_type": "code",
   "execution_count": 6,
   "id": "32191ea9",
   "metadata": {},
   "outputs": [
    {
     "data": {
      "text/plain": [
       "sector\n",
       "IT and technology           6\n",
       "business and economics      8\n",
       "communications and media    5\n",
       "education                   1\n",
       "gastronomy                  1\n",
       "health and medicine         2\n",
       "social sciences             1\n",
       "Name: Participant, dtype: int64"
      ]
     },
     "execution_count": 6,
     "metadata": {},
     "output_type": "execute_result"
    }
   ],
   "source": [
    "demo_df.groupby(\"sector\")[\"Participant\"].count()"
   ]
  },
  {
   "cell_type": "code",
   "execution_count": 7,
   "id": "54a96d35",
   "metadata": {},
   "outputs": [
    {
     "data": {
      "text/plain": [
       "count    24.000000\n",
       "mean      1.937500\n",
       "std       0.981486\n",
       "min       0.000000\n",
       "25%       1.500000\n",
       "50%       2.000000\n",
       "75%       2.000000\n",
       "max       4.000000\n",
       "Name: How many years of developer experience do you have?, dtype: float64"
      ]
     },
     "execution_count": 7,
     "metadata": {},
     "output_type": "execute_result"
    }
   ],
   "source": [
    "demo_df[\"How many years of developer experience do you have?\"].describe()"
   ]
  },
  {
   "cell_type": "code",
   "execution_count": 8,
   "id": "000225af",
   "metadata": {},
   "outputs": [
    {
     "data": {
      "text/plain": [
       "count    24.000000\n",
       "mean      4.833333\n",
       "std       4.429807\n",
       "min       0.000000\n",
       "25%       0.750000\n",
       "50%       3.000000\n",
       "75%       8.000000\n",
       "max      13.000000\n",
       "Name: How many months is it since you coded in Java?, dtype: float64"
      ]
     },
     "execution_count": 8,
     "metadata": {},
     "output_type": "execute_result"
    }
   ],
   "source": [
    "demo_df[\"How many months is it since you coded in Java?\"].describe()"
   ]
  },
  {
   "cell_type": "code",
   "execution_count": 9,
   "id": "58d6fc5e",
   "metadata": {},
   "outputs": [
    {
     "data": {
      "text/plain": [
       "count    24.000000\n",
       "mean      2.145833\n",
       "std       0.994323\n",
       "min       1.000000\n",
       "25%       1.500000\n",
       "50%       2.000000\n",
       "75%       2.125000\n",
       "max       6.000000\n",
       "Name: How many years of experience do you have with Visual Studio Code?, dtype: float64"
      ]
     },
     "execution_count": 9,
     "metadata": {},
     "output_type": "execute_result"
    }
   ],
   "source": [
    "demo_df[\"How many years of experience do you have with Visual Studio Code?\"].describe()"
   ]
  },
  {
   "cell_type": "code",
   "execution_count": 10,
   "id": "635285a5",
   "metadata": {},
   "outputs": [
    {
     "data": {
      "text/plain": [
       "count    24.000000\n",
       "mean      1.000000\n",
       "std       0.390095\n",
       "min       0.000000\n",
       "25%       1.000000\n",
       "50%       1.000000\n",
       "75%       1.000000\n",
       "max       2.000000\n",
       "Name: How much experience in years do you have in using an LLM(ChatGPT, CoPilot, Gemini)?, dtype: float64"
      ]
     },
     "execution_count": 10,
     "metadata": {},
     "output_type": "execute_result"
    }
   ],
   "source": [
    "demo_df[\"How much experience in years do you have in using an LLM(ChatGPT, CoPilot, Gemini)?\"].describe()"
   ]
  },
  {
   "cell_type": "markdown",
   "id": "d4952d18",
   "metadata": {},
   "source": [
    "## Results"
   ]
  },
  {
   "cell_type": "code",
   "execution_count": 11,
   "id": "02198e01",
   "metadata": {},
   "outputs": [],
   "source": [
    "df = pd.read_csv(\"dataclean.csv\")\n",
    "df.time = pd.to_timedelta(df.time, unit=\"s\")"
   ]
  },
  {
   "cell_type": "markdown",
   "id": "0075d050",
   "metadata": {},
   "source": [
    "sns.set_theme(rc = {\n",
    "    \"figure.figsize\" : (6.4, 4.8),\n",
    "    \"patch.linewidth\": 1.0\n",
    "})\n",
    "sns.set_style(\"ticks\", {\"axes.grid\" : False})\n",
    "sns.set_palette(\"tab10\")\n"
   ]
  },
  {
   "cell_type": "markdown",
   "id": "2b8aa396",
   "metadata": {
    "slideshow": {
     "slide_type": "slide"
    }
   },
   "source": [
    "###  RQ1: How does a local LLM affect students’ lead time in an IP exam?"
   ]
  },
  {
   "cell_type": "code",
   "execution_count": 12,
   "id": "38cc91f8",
   "metadata": {},
   "outputs": [],
   "source": [
    "mask = (df.llm_support == False)\n",
    "df.loc[mask, \"treatment\"] = \"without\"\n",
    "mask = (df.llm_support == True)\n",
    "df.loc[mask, \"treatment\"] = \"with\""
   ]
  },
  {
   "cell_type": "code",
   "execution_count": 13,
   "id": "86653c3c",
   "metadata": {},
   "outputs": [
    {
     "data": {
      "image/png": "[encoded data removed]",
      "text/plain": [
       "<Figure size 460.8x273.6 with 1 Axes>"
      ]
     },
     "metadata": {
      "needs_background": "light"
     },
     "output_type": "display_data"
    }
   ],
   "source": [
    "df_times = df.groupby([\"treatment\", \"experiment_subject\"])[\"time\"].sum().reset_index()\n",
    "df_times[\"time_in_5min_bins\"] = df_times.time.dt.seconds // 60 // 5 * 5\n",
    "\n",
    "bin_groups = sorted(df_times.time_in_5min_bins.unique())\n",
    "bin_groups_map = dict(zip(bin_groups, range(len(bin_groups))))\n",
    "bin_groups_label_map ={v: f\"{k}-{k+5}\" for k, v in bin_groups_map.items()}\n",
    "\n",
    "df_times[\"bin_group\"] = df_times.time_in_5min_bins.apply(lambda el: bin_groups_map[el]) \n",
    "df_times.sort_values(by=\"bin_group\", inplace=True)\n",
    "df_times[\"bin_labels\"] = df_times.bin_group.apply(lambda el: bin_groups_label_map[el]) \n",
    "\n",
    "plt.figure(figsize=(6.4, 3.8))\n",
    "p = sns.histplot(data=df_times, x=\"bin_labels\", hue=\"treatment\", multiple=\"dodge\", binwidth=5, shrink=.8,\n",
    "                 palette={\"with\": \"#ff7f0e\", \"without\": \"#5799c6\"}) # \"#1f77b4\"\n",
    "p.set(xlabel=\"Time in bins of five minutes\")\n",
    "p.set(yticks=(range(df_times.groupby(\"time_in_5min_bins\").bin_labels.count().max())))\n",
    "plt.savefig(\"images/time_comparison.pdf\", bbox_inches=\"tight\")"
   ]
  },
  {
   "cell_type": "code",
   "execution_count": 14,
   "id": "fb0fee50",
   "metadata": {},
   "outputs": [
    {
     "data": {
      "image/png": "[encoded data removed]",
      "text/plain": [
       "<Figure size 460.8x273.6 with 1 Axes>"
      ]
     },
     "metadata": {
      "needs_background": "light"
     },
     "output_type": "display_data"
    }
   ],
   "source": [
    "df_time_with_treatment = df[df.llm_support == True].groupby(\"experiment_subject\")[\"time\"].sum().reset_index()\n",
    "df_time_with_treatment.drop(columns=[\"experiment_subject\"], inplace=True)\n",
    "df_time_with_treatment[\"treatment\"] = \"with treatment\"\n",
    "df_time_wo_treatment = df[df.llm_support == False].groupby(\"experiment_subject\")[\"time\"].sum().reset_index()\n",
    "df_time_wo_treatment.drop(columns=[\"experiment_subject\"], inplace=True)\n",
    "df_time_wo_treatment[\"treatment\"] = \"without treatment\"\n",
    "\n",
    "df_times = pd.concat((df_time_wo_treatment, df_time_with_treatment), axis=0, ignore_index=True)\n",
    "df_times.time = df_times.time.dt.total_seconds() / 60\n",
    "\n",
    "plt.figure(figsize=(6.4, 3.8))\n",
    "p1 = sns.boxplot(data=df_times, x=\"treatment\", y=\"time\", boxprops={\"facecolor\": \"None\"})\n",
    "p2 = sns.swarmplot(data=df_times, x=\"treatment\", y=\"time\", zorder=.5)\n",
    "p1.set(xlabel=None)\n",
    "p1.set(ylabel=\"Time in minutes\")\n",
    "plt.savefig(\"images/time_comparison_boxplot.png\", bbox_inches=\"tight\")"
   ]
  },
  {
   "cell_type": "code",
   "execution_count": 15,
   "id": "5bc3219f",
   "metadata": {},
   "outputs": [
    {
     "data": {
      "text/html": [
       "<div>\n",
       "<style scoped>\n",
       "    .dataframe tbody tr th:only-of-type {\n",
       "        vertical-align: middle;\n",
       "    }\n",
       "\n",
       "    .dataframe tbody tr th {\n",
       "        vertical-align: top;\n",
       "    }\n",
       "\n",
       "    .dataframe thead th {\n",
       "        text-align: right;\n",
       "    }\n",
       "</style>\n",
       "<table border=\"1\" class=\"dataframe\">\n",
       "  <thead>\n",
       "    <tr style=\"text-align: right;\">\n",
       "      <th></th>\n",
       "      <th>without treatment</th>\n",
       "      <th>with treatment</th>\n",
       "    </tr>\n",
       "  </thead>\n",
       "  <tbody>\n",
       "    <tr>\n",
       "      <th>count</th>\n",
       "      <td>24</td>\n",
       "      <td>24</td>\n",
       "    </tr>\n",
       "    <tr>\n",
       "      <th>mean</th>\n",
       "      <td>0 days 00:25:08.083333333</td>\n",
       "      <td>0 days 00:19:15.625000</td>\n",
       "    </tr>\n",
       "    <tr>\n",
       "      <th>std</th>\n",
       "      <td>0 days 00:03:23.501931764</td>\n",
       "      <td>0 days 00:06:26.521703367</td>\n",
       "    </tr>\n",
       "    <tr>\n",
       "      <th>min</th>\n",
       "      <td>0 days 00:18:26</td>\n",
       "      <td>0 days 00:08:58</td>\n",
       "    </tr>\n",
       "    <tr>\n",
       "      <th>25%</th>\n",
       "      <td>0 days 00:22:47.750000</td>\n",
       "      <td>0 days 00:12:31.250000</td>\n",
       "    </tr>\n",
       "    <tr>\n",
       "      <th>50%</th>\n",
       "      <td>0 days 00:26:42</td>\n",
       "      <td>0 days 00:19:58</td>\n",
       "    </tr>\n",
       "    <tr>\n",
       "      <th>75%</th>\n",
       "      <td>0 days 00:27:43.250000</td>\n",
       "      <td>0 days 00:22:48.250000</td>\n",
       "    </tr>\n",
       "    <tr>\n",
       "      <th>max</th>\n",
       "      <td>0 days 00:29:53</td>\n",
       "      <td>0 days 00:34:14</td>\n",
       "    </tr>\n",
       "  </tbody>\n",
       "</table>\n",
       "</div>"
      ],
      "text/plain": [
       "               without treatment             with treatment\n",
       "count                         24                         24\n",
       "mean   0 days 00:25:08.083333333     0 days 00:19:15.625000\n",
       "std    0 days 00:03:23.501931764  0 days 00:06:26.521703367\n",
       "min              0 days 00:18:26            0 days 00:08:58\n",
       "25%       0 days 00:22:47.750000     0 days 00:12:31.250000\n",
       "50%              0 days 00:26:42            0 days 00:19:58\n",
       "75%       0 days 00:27:43.250000     0 days 00:22:48.250000\n",
       "max              0 days 00:29:53            0 days 00:34:14"
      ]
     },
     "execution_count": 15,
     "metadata": {},
     "output_type": "execute_result"
    }
   ],
   "source": [
    "df_time_with_treatment.rename(columns={\"time\": \"with treatment\"}, inplace=True)\n",
    "df_time_wo_treatment.rename(columns={\"time\": \"without treatment\"}, inplace=True)\n",
    "df_times = pd.merge(df_time_with_treatment, df_time_wo_treatment, left_index=True, right_index=True)\n",
    "df_times[[\"without treatment\", \"with treatment\"]].describe()"
   ]
  },
  {
   "cell_type": "code",
   "execution_count": 16,
   "id": "fd51791b",
   "metadata": {},
   "outputs": [
    {
     "name": "stdout",
     "output_type": "stream",
     "text": [
      "without treatment\n",
      "($q_{0} = 18{:}26\\unit{\\minute}$,\\n$q_{1} = 22{:}47\\unit{\\minute}$,\\n$q_{2} = 26{:}42\\unit{\\minute}$,\\n$q_{3} = 27{:}43\\unit{\\minute}$,\\n$q_{4} = 29{:}53\\unit{\\minute}$,\\n$\\mu = 25{:}08\\unit{\\minute}$,\\n$\\sigma = 3{:}23\\unit{\\minute}$)\n",
      "with treatment\n",
      "($q_{0} = 8{:}58\\unit{\\minute}$,\\n$q_{1} = 12{:}31\\unit{\\minute}$,\\n$q_{2} = 19{:}58\\unit{\\minute}$,\\n$q_{3} = 22{:}48\\unit{\\minute}$,\\n$q_{4} = 34{:}14\\unit{\\minute}$,\\n$\\mu = 19{:}15\\unit{\\minute}$,\\n$\\sigma = 6{:}26\\unit{\\minute}$)\n"
     ]
    }
   ],
   "source": [
    "def _convert_timedeltas(series, unit):\n",
    "    lines = []\n",
    "    for what, val in series.items():\n",
    "        val_str = \"\"\n",
    "        if type(val) == pd.Timedelta:\n",
    "            val_str = f\"{val.components.minutes}{{:}}{val.components.seconds:02d}\"\n",
    "        if what == \"min\":\n",
    "            lines.insert(0, f\"$q_{{0}} = {val_str}\\\\unit{{\\\\{unit}}}$\")\n",
    "        elif what == \"25%\":\n",
    "            lines.insert(1, f\"$q_{{1}} = {val_str}\\\\unit{{\\\\{unit}}}$\")\n",
    "        elif what == \"50%\":\n",
    "            lines.insert(2, f\"$q_{{2}} = {val_str}\\\\unit{{\\\\{unit}}}$\")\n",
    "        elif what == \"75%\":\n",
    "            lines.insert(3, f\"$q_{{3}} = {val_str}\\\\unit{{\\\\{unit}}}$\")\n",
    "        elif what == \"max\":\n",
    "            lines.insert(4, f\"$q_{{4}} = {val_str}\\\\unit{{\\\\{unit}}}$\")\n",
    "        elif what == \"mean\":\n",
    "            lines.insert(5, f\"$\\\\mu = {val_str}\\\\unit{{\\\\{unit}}}$\")            \n",
    "        elif what == \"std\":\n",
    "            lines.insert(6, f\"$\\\\sigma = {val_str}\\\\unit{{\\\\{unit}}}$\")\n",
    "    return lines\n",
    "    \n",
    "def to_latex_describe(df, unit):\n",
    "    for column in (\"without treatment\", \"with treatment\"):\n",
    "        print(column)\n",
    "        lines = _convert_timedeltas(df[column].describe(), unit)\n",
    "        lines_str = \",\\\\n\".join(lines)\n",
    "        print(f'({lines_str})')\n",
    "\n",
    "\n",
    "to_latex_describe(df_times[[\"without treatment\", \"with treatment\"]], unit=\"minute\")"
   ]
  },
  {
   "cell_type": "markdown",
   "id": "492ad8fb",
   "metadata": {},
   "source": [
    "Test if data is normally distributed. Visual inspection of the histogram above suggests that the collected time data from the \"with treatment\" group is normally distributed, whereas the data from the \"without treatment\" group does not.\n",
    "\n",
    "To test if the data is normally distributed, we conduct an Anderson-Darling test, which tests the _\"null hypothesis that a random sample was drawn from a normal distribution (with unspecified mean and standard deviation)\"_, see [docs](https://docs.scipy.org/doc/scipy/reference/generated/scipy.stats.anderson.html).\n",
    "\n",
    "Since the value of the statistic is smaller than the critical value at a significance level of 5%, we cannot reject the null hypothesis for the \"with treatment\" group."
   ]
  },
  {
   "cell_type": "code",
   "execution_count": 17,
   "id": "b0ad4d2c",
   "metadata": {},
   "outputs": [
    {
     "data": {
      "text/plain": [
       "AndersonResult(statistic=0.5434872299135982, critical_values=array([0.513, 0.584, 0.701, 0.817, 0.972]), significance_level=array([15. , 10. ,  5. ,  2.5,  1. ]))"
      ]
     },
     "execution_count": 17,
     "metadata": {},
     "output_type": "execute_result"
    }
   ],
   "source": [
    "anderson(df_times[\"with treatment\"])"
   ]
  },
  {
   "cell_type": "markdown",
   "id": "24d3cf43",
   "metadata": {},
   "source": [
    "However, for the \"without treatment\" group, the value of the statistic exceeds the critical value at a significance level of 5%, therefore we reject the null hypothesis here."
   ]
  },
  {
   "cell_type": "code",
   "execution_count": 18,
   "id": "2734836d",
   "metadata": {},
   "outputs": [
    {
     "data": {
      "text/plain": [
       "AndersonResult(statistic=0.803778836614363, critical_values=array([0.513, 0.584, 0.701, 0.817, 0.972]), significance_level=array([15. , 10. ,  5. ,  2.5,  1. ]))"
      ]
     },
     "execution_count": 18,
     "metadata": {},
     "output_type": "execute_result"
    }
   ],
   "source": [
    "anderson(df_times[\"without treatment\"])"
   ]
  },
  {
   "cell_type": "markdown",
   "id": "a8ce200b",
   "metadata": {},
   "source": [
    "Since the data for the \"without treatment\" group is not uniformly distributed, we cannot apply a Student's T-test to assess the means of the two groups. But we can apply a Mann-Whitney-U test to test if the median of the two groups differ significantly. \n",
    "\n",
    "Null hypothesis $H_0$: the distributions of both populations are identical.\n",
    "The alternative hypothesis $H_1$ is that the distributions are not identical.\n",
    "Since the value of the statistic below is large and since the p-value is smaller than 0.05, we reject the null hypothesis, i.e., the distributions of both populations is different and the difference in the median listed below is statistically significant."
   ]
  },
  {
   "cell_type": "code",
   "execution_count": 19,
   "id": "87a83ce4",
   "metadata": {},
   "outputs": [
    {
     "data": {
      "text/plain": [
       "MannwhitneyuResult(statistic=116.0, pvalue=0.0004056716724965548)"
      ]
     },
     "execution_count": 19,
     "metadata": {},
     "output_type": "execute_result"
    }
   ],
   "source": [
    "mannwhitneyu(df_times[\"with treatment\"], df_times[\"without treatment\"])"
   ]
  },
  {
   "cell_type": "code",
   "execution_count": 20,
   "id": "9ddefe7b",
   "metadata": {},
   "outputs": [
    {
     "data": {
      "text/plain": [
       "('decrease', ['without treatment', 'with treatment'], 25.22)"
      ]
     },
     "execution_count": 20,
     "metadata": {},
     "output_type": "execute_result"
    }
   ],
   "source": [
    "def compute_improvement_pct(df, where=\"median\"):\n",
    "    \"\"\" Computes the percent-wise increase or decrease from withtout treatment to\n",
    "    with treatment, per default for the mean.\n",
    "    \n",
    "    Alternative values for where are \"mean\", \"min\", \"max\", \"q1\", \"q2\"\n",
    "    \"\"\"\n",
    "    if where == \"median\":\n",
    "        where = \"50%\"\n",
    "    elif where == \"q1\":\n",
    "        where = \"25%\"\n",
    "    elif where == \"q3\":\n",
    "        where = \"75%\"\n",
    "    # requires that input dataframe has without and with treatment columns\n",
    "    col_order = [\"without treatment\", \"with treatment\"]\n",
    "    change_ratio = df[col_order].describe().loc[where].pct_change()[\"with treatment\"]\n",
    "    growth = \"increase\" if change_ratio >= 0 else \"decrease\"\n",
    "    change_in_pct = round(abs(change_ratio) * 100, 2)\n",
    "    return growth, col_order, change_in_pct\n",
    "\n",
    "compute_improvement_pct(df_times)"
   ]
  },
  {
   "cell_type": "code",
   "execution_count": 21,
   "id": "7479faa3",
   "metadata": {},
   "outputs": [
    {
     "data": {
      "text/plain": [
       "('decrease', ['without treatment', 'with treatment'], 23.37)"
      ]
     },
     "execution_count": 21,
     "metadata": {},
     "output_type": "execute_result"
    }
   ],
   "source": [
    "compute_improvement_pct(df_times, where=\"mean\")"
   ]
  },
  {
   "cell_type": "markdown",
   "id": "afe79e0f",
   "metadata": {},
   "source": [
    "###  RQ2: How does a local LLM affect correctness of students’ source code in an IP exam?"
   ]
  },
  {
   "cell_type": "code",
   "execution_count": 22,
   "id": "902c1d4d",
   "metadata": {},
   "outputs": [],
   "source": [
    "df_test_ratios_with_treatment = df[df.llm_support == True].groupby(\"experiment_subject\")[\"test_ratio\"].first().reset_index()\n",
    "df_test_ratios_wo_treatment = df[df.llm_support == False].groupby(\"experiment_subject\")[\"test_ratio\"].first().reset_index()\n",
    "df_test_ratios = pd.merge(df_test_ratios_with_treatment, df_test_ratios_wo_treatment, on=\"experiment_subject\")\n",
    "df_test_ratios.rename(columns={\"test_ratio_x\": \"with treatment\", \"test_ratio_y\": \"without treatment\"}, inplace=True)\n",
    "df_test_ratios.drop(columns=[\"experiment_subject\"], inplace=True)"
   ]
  },
  {
   "cell_type": "code",
   "execution_count": 23,
   "id": "c30d4c90",
   "metadata": {},
   "outputs": [
    {
     "data": {
      "image/png": "[encoded data removed]",
      "text/plain": [
       "<Figure size 460.8x273.6 with 1 Axes>"
      ]
     },
     "metadata": {
      "needs_background": "light"
     },
     "output_type": "display_data"
    }
   ],
   "source": [
    "df_test_ratios = df.groupby([\"treatment\", \"experiment_subject\"])[\"test_ratio\"].first().reset_index()\n",
    "df_test_ratios[\"test_ratio_in_10%_bins\"] = df_test_ratios.test_ratio // 10 * 10\n",
    "\n",
    "bin_groups = sorted(df_test_ratios[\"test_ratio_in_10%_bins\"].unique())\n",
    "bin_groups_map = dict(zip(bin_groups, range(len(bin_groups))))\n",
    "bin_groups_label_map = {v: f\"{k}-{k+10}\" for k, v in bin_groups_map.items()}\n",
    "\n",
    "df_test_ratios[\"bin_group\"] = df_test_ratios[\"test_ratio_in_10%_bins\"].apply(lambda el: bin_groups_map[el] if el < 100 else bin_groups_map[el-10]) \n",
    "df_test_ratios.sort_values(by=\"bin_group\", inplace=True)\n",
    "df_test_ratios[\"bin_labels\"] = df_test_ratios.bin_group.apply(lambda el: bin_groups_label_map[el])\n",
    "\n",
    "plt.figure(figsize=(6.4, 3.8))\n",
    "p = sns.histplot(data=df_test_ratios, x=\"bin_labels\", hue=\"treatment\", multiple=\"dodge\",  binwidth=10,  shrink=.8)\n",
    "p.set(xlabel=\"Ratio in % of passed test suite in bins of 10%\")\n",
    "plt.savefig(\"images/test_ratio_comparison.pdf\", bbox_inches=\"tight\")"
   ]
  },
  {
   "cell_type": "code",
   "execution_count": 24,
   "id": "0b6eb0bf",
   "metadata": {},
   "outputs": [
    {
     "data": {
      "image/png": "[encoded data removed]",
      "text/plain": [
       "<Figure size 460.8x273.6 with 1 Axes>"
      ]
     },
     "metadata": {
      "needs_background": "light"
     },
     "output_type": "display_data"
    }
   ],
   "source": [
    "df_test_ratios_with_treatment = df[df.llm_support == True].groupby(\"experiment_subject\")[\"test_ratio\"].first().reset_index()\n",
    "df_test_ratios_with_treatment[\"treatment\"] = \"with treatment\"\n",
    "df_test_ratios_wo_treatment = df[df.llm_support == False].groupby(\"experiment_subject\")[\"test_ratio\"].first().reset_index()\n",
    "df_test_ratios_wo_treatment[\"treatment\"] = \"without treatment\"\n",
    "df_test_ratios = pd.concat((df_test_ratios_wo_treatment, df_test_ratios_with_treatment), axis=0, ignore_index=True)\n",
    "\n",
    "plt.figure(figsize=(6.4, 3.8))\n",
    "p1 = sns.boxplot(data=df_test_ratios, x=\"treatment\", y=\"test_ratio\", boxprops={\"facecolor\": \"None\"})\n",
    "p2 = sns.swarmplot(data=df_test_ratios, x=\"treatment\", y=\"test_ratio\", zorder=.5)\n",
    "p1.set(xlabel=None)\n",
    "p1.set(ylabel=\"Test ratio in %\")\n",
    "plt.savefig(\"images/test_ratio_comparison_boxplot.pdf\", bbox_inches=\"tight\")"
   ]
  },
  {
   "cell_type": "code",
   "execution_count": 25,
   "id": "cde55b71",
   "metadata": {},
   "outputs": [
    {
     "data": {
      "text/html": [
       "<div>\n",
       "<style scoped>\n",
       "    .dataframe tbody tr th:only-of-type {\n",
       "        vertical-align: middle;\n",
       "    }\n",
       "\n",
       "    .dataframe tbody tr th {\n",
       "        vertical-align: top;\n",
       "    }\n",
       "\n",
       "    .dataframe thead th {\n",
       "        text-align: right;\n",
       "    }\n",
       "</style>\n",
       "<table border=\"1\" class=\"dataframe\">\n",
       "  <thead>\n",
       "    <tr style=\"text-align: right;\">\n",
       "      <th></th>\n",
       "      <th>without treatment</th>\n",
       "      <th>with treatment</th>\n",
       "    </tr>\n",
       "  </thead>\n",
       "  <tbody>\n",
       "    <tr>\n",
       "      <th>count</th>\n",
       "      <td>24.000000</td>\n",
       "      <td>24.000000</td>\n",
       "    </tr>\n",
       "    <tr>\n",
       "      <th>mean</th>\n",
       "      <td>67.875000</td>\n",
       "      <td>94.083333</td>\n",
       "    </tr>\n",
       "    <tr>\n",
       "      <th>std</th>\n",
       "      <td>28.627005</td>\n",
       "      <td>7.143965</td>\n",
       "    </tr>\n",
       "    <tr>\n",
       "      <th>min</th>\n",
       "      <td>12.000000</td>\n",
       "      <td>75.000000</td>\n",
       "    </tr>\n",
       "    <tr>\n",
       "      <th>25%</th>\n",
       "      <td>54.750000</td>\n",
       "      <td>89.000000</td>\n",
       "    </tr>\n",
       "    <tr>\n",
       "      <th>50%</th>\n",
       "      <td>72.500000</td>\n",
       "      <td>96.000000</td>\n",
       "    </tr>\n",
       "    <tr>\n",
       "      <th>75%</th>\n",
       "      <td>90.500000</td>\n",
       "      <td>100.000000</td>\n",
       "    </tr>\n",
       "    <tr>\n",
       "      <th>max</th>\n",
       "      <td>100.000000</td>\n",
       "      <td>100.000000</td>\n",
       "    </tr>\n",
       "  </tbody>\n",
       "</table>\n",
       "</div>"
      ],
      "text/plain": [
       "       without treatment  with treatment\n",
       "count          24.000000       24.000000\n",
       "mean           67.875000       94.083333\n",
       "std            28.627005        7.143965\n",
       "min            12.000000       75.000000\n",
       "25%            54.750000       89.000000\n",
       "50%            72.500000       96.000000\n",
       "75%            90.500000      100.000000\n",
       "max           100.000000      100.000000"
      ]
     },
     "execution_count": 25,
     "metadata": {},
     "output_type": "execute_result"
    }
   ],
   "source": [
    "df_test_ratios = pd.merge(df_test_ratios_with_treatment, df_test_ratios_wo_treatment, on=\"experiment_subject\")\n",
    "df_test_ratios.rename(columns={\"test_ratio_x\": \"with treatment\", \"test_ratio_y\": \"without treatment\"}, inplace=True)\n",
    "df_test_ratios.drop(columns=[\"experiment_subject\"], inplace=True)\n",
    "df_test_ratios[[\"without treatment\", \"with treatment\"]].describe()"
   ]
  },
  {
   "cell_type": "code",
   "execution_count": 26,
   "id": "863656a5",
   "metadata": {},
   "outputs": [
    {
     "name": "stdout",
     "output_type": "stream",
     "text": [
      "without treatment\n",
      "($q_{0} = 12.00\\unit{\\percent}$,\\n$q_{1} = 54.75\\unit{\\percent}$,\\n$q_{2} = 72.50\\unit{\\percent}$,\\n$q_{3} = 90.50\\unit{\\percent}$,\\n$q_{4} = 100.00\\unit{\\percent}$,\\n$\\mu = 67.88\\unit{\\percent}$,\\n$\\sigma = 28.63\\unit{\\percent}$)\n",
      "with treatment\n",
      "($q_{0} = 75.00\\unit{\\percent}$,\\n$q_{1} = 89.00\\unit{\\percent}$,\\n$q_{2} = 96.00\\unit{\\percent}$,\\n$q_{3} = 100.00\\unit{\\percent}$,\\n$q_{4} = 100.00\\unit{\\percent}$,\\n$\\mu = 94.08\\unit{\\percent}$,\\n$\\sigma = 7.14\\unit{\\percent}$)\n"
     ]
    }
   ],
   "source": [
    "def _convert_floats(series, unit):\n",
    "    lines = []\n",
    "    for what, val in series.items():\n",
    "        val_str = f\"{val:.2f}\"\n",
    "        unit_str = \"\"\n",
    "        if unit:\n",
    "            unit_str = f\"\\\\unit{{\\\\{unit}}}\"\n",
    "        if what == \"min\":\n",
    "            lines.insert(0, f\"$q_{{0}} = {val_str}{unit_str}$\")\n",
    "        elif what == \"25%\":\n",
    "            lines.insert(1, f\"$q_{{1}} = {val_str}{unit_str}$\")\n",
    "        elif what == \"50%\":\n",
    "            lines.insert(2, f\"$q_{{2}} = {val_str}{unit_str}$\")\n",
    "        elif what == \"75%\":\n",
    "            lines.insert(3, f\"$q_{{3}} = {val_str}{unit_str}$\")\n",
    "        elif what == \"max\":\n",
    "            lines.insert(4, f\"$q_{{4}} = {val_str}{unit_str}$\")\n",
    "        elif what == \"mean\":\n",
    "            lines.insert(5, f\"$\\\\mu = {val_str}{unit_str}$\")            \n",
    "        elif what == \"std\":\n",
    "            lines.insert(6, f\"$\\\\sigma = {val_str}{unit_str}$\")\n",
    "    return lines\n",
    "    \n",
    "def to_latex_describe(df, unit):\n",
    "    for column in (\"without treatment\", \"with treatment\"):\n",
    "        print(column)\n",
    "        lines = _convert_floats(df[column].describe(), unit)\n",
    "        lines_str = \",\\\\n\".join(lines)\n",
    "        print(f'({lines_str})')\n",
    "\n",
    "\n",
    "to_latex_describe(df_test_ratios[[\"without treatment\", \"with treatment\"]], unit=\"percent\")"
   ]
  },
  {
   "cell_type": "code",
   "execution_count": 27,
   "id": "0490c21d",
   "metadata": {},
   "outputs": [
    {
     "data": {
      "text/plain": [
       "AndersonResult(statistic=1.6231796884959273, critical_values=array([0.513, 0.584, 0.701, 0.817, 0.972]), significance_level=array([15. , 10. ,  5. ,  2.5,  1. ]))"
      ]
     },
     "execution_count": 27,
     "metadata": {},
     "output_type": "execute_result"
    }
   ],
   "source": [
    "anderson(df_test_ratios[\"with treatment\"])"
   ]
  },
  {
   "cell_type": "code",
   "execution_count": 28,
   "id": "dac76bbd",
   "metadata": {},
   "outputs": [
    {
     "data": {
      "text/plain": [
       "AndersonResult(statistic=0.7631029260096156, critical_values=array([0.513, 0.584, 0.701, 0.817, 0.972]), significance_level=array([15. , 10. ,  5. ,  2.5,  1. ]))"
      ]
     },
     "execution_count": 28,
     "metadata": {},
     "output_type": "execute_result"
    }
   ],
   "source": [
    "anderson(df_test_ratios[\"without treatment\"])"
   ]
  },
  {
   "cell_type": "code",
   "execution_count": 29,
   "id": "e6b759ca",
   "metadata": {},
   "outputs": [
    {
     "data": {
      "text/plain": [
       "MannwhitneyuResult(statistic=462.5, pvalue=0.00026680993018062443)"
      ]
     },
     "execution_count": 29,
     "metadata": {},
     "output_type": "execute_result"
    }
   ],
   "source": [
    "mannwhitneyu(df_test_ratios[\"with treatment\"], df_test_ratios[\"without treatment\"])"
   ]
  },
  {
   "cell_type": "code",
   "execution_count": 30,
   "id": "8b6eaf9c",
   "metadata": {},
   "outputs": [
    {
     "data": {
      "text/plain": [
       "('increase', ['without treatment', 'with treatment'], 32.41)"
      ]
     },
     "execution_count": 30,
     "metadata": {},
     "output_type": "execute_result"
    }
   ],
   "source": [
    "compute_improvement_pct(df_test_ratios)"
   ]
  },
  {
   "cell_type": "code",
   "execution_count": 31,
   "id": "12648ab4",
   "metadata": {},
   "outputs": [
    {
     "data": {
      "text/plain": [
       "('increase', ['without treatment', 'with treatment'], 38.61)"
      ]
     },
     "execution_count": 31,
     "metadata": {},
     "output_type": "execute_result"
    }
   ],
   "source": [
    "compute_improvement_pct(df_test_ratios, where=\"mean\")"
   ]
  },
  {
   "cell_type": "markdown",
   "id": "352d376c",
   "metadata": {},
   "source": [
    "### RQ3: How does a local LLM affect students’ test scores in an IP exam?"
   ]
  },
  {
   "cell_type": "code",
   "execution_count": 32,
   "id": "4c44c6bb",
   "metadata": {},
   "outputs": [
    {
     "data": {
      "image/png": "[encoded data removed]",
      "text/plain": [
       "<Figure size 460.8x273.6 with 1 Axes>"
      ]
     },
     "metadata": {
      "needs_background": "light"
     },
     "output_type": "display_data"
    }
   ],
   "source": [
    "min_points, max_points, binwidth = 0, 120, 10\n",
    "\n",
    "df_points = df.groupby([\"treatment\", \"experiment_subject\"])[\"points\"].sum().reset_index()\n",
    "df_points[\"points_in_10_bins\"] = df_points.points // binwidth * binwidth\n",
    "\n",
    "bin_groups = range(min_points, max_points, binwidth)\n",
    "bin_groups_map = dict(zip(bin_groups, range(len(bin_groups))))\n",
    "bin_groups_label_map = {v: f\"{k}-{k+10}\" for k, v in bin_groups_map.items()}\n",
    "\n",
    "df_points[\"bin_group\"] = df_points.points_in_10_bins.apply(lambda el: bin_groups_map[el] if el < max_points else bin_groups_map[el-10]) \n",
    "df_points.sort_values(by=\"bin_group\", inplace=True)\n",
    "df_points[\"bin_labels\"] = df_points.bin_group.apply(lambda el: bin_groups_label_map[el])\n",
    "\n",
    "plt.figure(figsize=(6.4, 3.8))\n",
    "p = sns.histplot(data=df_points, x=\"bin_labels\", hue=\"treatment\", multiple=\"dodge\",  binwidth=10,  shrink=.8)\n",
    "p.set(xlabel=\"Number of points scored in bins of 10 points\")\n",
    "plt.xticks(rotation=30)\n",
    "plt.savefig(\"images/point_comparison.pdf\", bbox_inches=\"tight\")"
   ]
  },
  {
   "cell_type": "code",
   "execution_count": 33,
   "id": "a6f5fefe",
   "metadata": {},
   "outputs": [
    {
     "data": {
      "image/png": "[encoded data removed]",
      "text/plain": [
       "<Figure size 460.8x273.6 with 1 Axes>"
      ]
     },
     "metadata": {
      "needs_background": "light"
     },
     "output_type": "display_data"
    }
   ],
   "source": [
    "df_points_with_treatment = df[df.llm_support == True].groupby(\"experiment_subject\")[\"points\"].sum().reset_index()\n",
    "df_points_with_treatment[\"treatment\"] = \"with treatment\"\n",
    "df_points_wo_treatment = df[df.llm_support == False].groupby(\"experiment_subject\")[\"points\"].sum().reset_index()\n",
    "df_points_wo_treatment[\"treatment\"] = \"without treatment\"\n",
    "\n",
    "df_points = pd.concat((df_points_wo_treatment, df_points_with_treatment), axis=0, ignore_index=True)\n",
    "df_points.drop(columns=[\"experiment_subject\"], inplace=True)\n",
    "\n",
    "plt.figure(figsize=(6.4, 3.8))\n",
    "p1 = sns.boxplot(data=df_points, x=\"treatment\", y=\"points\", boxprops={\"facecolor\": \"None\"})\n",
    "p2 = sns.swarmplot(data=df_points, x=\"treatment\", y=\"points\", zorder=.5)\n",
    "p1.set(xlabel=None)\n",
    "p1.set(ylabel=\"Number of points\")\n",
    "plt.savefig(\"images/point_comparison_boxplot.pdf\", bbox_inches=\"tight\")"
   ]
  },
  {
   "cell_type": "code",
   "execution_count": 34,
   "id": "dead8029",
   "metadata": {},
   "outputs": [
    {
     "data": {
      "text/html": [
       "<div>\n",
       "<style scoped>\n",
       "    .dataframe tbody tr th:only-of-type {\n",
       "        vertical-align: middle;\n",
       "    }\n",
       "\n",
       "    .dataframe tbody tr th {\n",
       "        vertical-align: top;\n",
       "    }\n",
       "\n",
       "    .dataframe thead th {\n",
       "        text-align: right;\n",
       "    }\n",
       "</style>\n",
       "<table border=\"1\" class=\"dataframe\">\n",
       "  <thead>\n",
       "    <tr style=\"text-align: right;\">\n",
       "      <th></th>\n",
       "      <th>without treatment</th>\n",
       "      <th>with treatment</th>\n",
       "    </tr>\n",
       "  </thead>\n",
       "  <tbody>\n",
       "    <tr>\n",
       "      <th>count</th>\n",
       "      <td>24.000000</td>\n",
       "      <td>24.000000</td>\n",
       "    </tr>\n",
       "    <tr>\n",
       "      <th>mean</th>\n",
       "      <td>84.500000</td>\n",
       "      <td>111.583333</td>\n",
       "    </tr>\n",
       "    <tr>\n",
       "      <th>std</th>\n",
       "      <td>26.362028</td>\n",
       "      <td>8.208779</td>\n",
       "    </tr>\n",
       "    <tr>\n",
       "      <th>min</th>\n",
       "      <td>14.000000</td>\n",
       "      <td>97.000000</td>\n",
       "    </tr>\n",
       "    <tr>\n",
       "      <th>25%</th>\n",
       "      <td>73.500000</td>\n",
       "      <td>104.250000</td>\n",
       "    </tr>\n",
       "    <tr>\n",
       "      <th>50%</th>\n",
       "      <td>87.500000</td>\n",
       "      <td>113.500000</td>\n",
       "    </tr>\n",
       "    <tr>\n",
       "      <th>75%</th>\n",
       "      <td>102.000000</td>\n",
       "      <td>118.500000</td>\n",
       "    </tr>\n",
       "    <tr>\n",
       "      <th>max</th>\n",
       "      <td>119.000000</td>\n",
       "      <td>120.000000</td>\n",
       "    </tr>\n",
       "  </tbody>\n",
       "</table>\n",
       "</div>"
      ],
      "text/plain": [
       "       without treatment  with treatment\n",
       "count          24.000000       24.000000\n",
       "mean           84.500000      111.583333\n",
       "std            26.362028        8.208779\n",
       "min            14.000000       97.000000\n",
       "25%            73.500000      104.250000\n",
       "50%            87.500000      113.500000\n",
       "75%           102.000000      118.500000\n",
       "max           119.000000      120.000000"
      ]
     },
     "execution_count": 34,
     "metadata": {},
     "output_type": "execute_result"
    }
   ],
   "source": [
    "df_points_with_treatment = df[df.llm_support == True].groupby(\"experiment_subject\")[\"points\"].sum().reset_index()\n",
    "df_points_wo_treatment = df[df.llm_support == False].groupby(\"experiment_subject\")[\"points\"].sum().reset_index()\n",
    "df_points = pd.merge(df_points_with_treatment, df_points_wo_treatment, on=\"experiment_subject\", how=\"outer\")\n",
    "df_points.rename(columns={\"points_x\": \"with treatment\", \"points_y\": \"without treatment\"}, inplace=True)\n",
    "df_points.drop(columns=[\"experiment_subject\"], inplace=True)\n",
    "df_points[[\"without treatment\", \"with treatment\"]].describe()"
   ]
  },
  {
   "cell_type": "code",
   "execution_count": 35,
   "id": "52720f8a",
   "metadata": {},
   "outputs": [
    {
     "name": "stdout",
     "output_type": "stream",
     "text": [
      "without treatment\n",
      "($q_{0} = 14.00$,\\n$q_{1} = 73.50$,\\n$q_{2} = 87.50$,\\n$q_{3} = 102.00$,\\n$q_{4} = 119.00$,\\n$\\mu = 84.50$,\\n$\\sigma = 26.36$)\n",
      "with treatment\n",
      "($q_{0} = 97.00$,\\n$q_{1} = 104.25$,\\n$q_{2} = 113.50$,\\n$q_{3} = 118.50$,\\n$q_{4} = 120.00$,\\n$\\mu = 111.58$,\\n$\\sigma = 8.21$)\n"
     ]
    }
   ],
   "source": [
    "to_latex_describe(df_points[[\"without treatment\", \"with treatment\"]], unit=\"\")"
   ]
  },
  {
   "cell_type": "code",
   "execution_count": 36,
   "id": "1a4648c2",
   "metadata": {},
   "outputs": [
    {
     "data": {
      "text/plain": [
       "AndersonResult(statistic=1.2443488934861264, critical_values=array([0.513, 0.584, 0.701, 0.817, 0.972]), significance_level=array([15. , 10. ,  5. ,  2.5,  1. ]))"
      ]
     },
     "execution_count": 36,
     "metadata": {},
     "output_type": "execute_result"
    }
   ],
   "source": [
    "anderson(df_points[\"with treatment\"])"
   ]
  },
  {
   "cell_type": "code",
   "execution_count": 37,
   "id": "2fb3442c",
   "metadata": {},
   "outputs": [
    {
     "data": {
      "text/plain": [
       "AndersonResult(statistic=0.4447877817152488, critical_values=array([0.513, 0.584, 0.701, 0.817, 0.972]), significance_level=array([15. , 10. ,  5. ,  2.5,  1. ]))"
      ]
     },
     "execution_count": 37,
     "metadata": {},
     "output_type": "execute_result"
    }
   ],
   "source": [
    "anderson(df_points[\"without treatment\"])"
   ]
  },
  {
   "cell_type": "code",
   "execution_count": 38,
   "id": "c952ac1d",
   "metadata": {},
   "outputs": [
    {
     "data": {
      "text/plain": [
       "MannwhitneyuResult(statistic=494.0, pvalue=2.1943369188347926e-05)"
      ]
     },
     "execution_count": 38,
     "metadata": {},
     "output_type": "execute_result"
    }
   ],
   "source": [
    "mannwhitneyu(df_points[\"with treatment\"], df_points[\"without treatment\"])"
   ]
  },
  {
   "cell_type": "code",
   "execution_count": 39,
   "id": "3d2c93b8",
   "metadata": {},
   "outputs": [
    {
     "data": {
      "text/plain": [
       "('increase', ['without treatment', 'with treatment'], 29.71)"
      ]
     },
     "execution_count": 39,
     "metadata": {},
     "output_type": "execute_result"
    }
   ],
   "source": [
    "compute_improvement_pct(df_points)"
   ]
  },
  {
   "cell_type": "code",
   "execution_count": 40,
   "id": "975fc3e0",
   "metadata": {},
   "outputs": [
    {
     "data": {
      "text/plain": [
       "('increase', ['without treatment', 'with treatment'], 32.05)"
      ]
     },
     "execution_count": 40,
     "metadata": {},
     "output_type": "execute_result"
    }
   ],
   "source": [
    "compute_improvement_pct(df_points, where=\"mean\")"
   ]
  },
  {
   "cell_type": "code",
   "execution_count": 41,
   "id": "88dc4364",
   "metadata": {},
   "outputs": [
    {
     "data": {
      "image/png": "[encoded data removed]",
      "text/plain": [
       "<Figure size 460.8x273.6 with 1 Axes>"
      ]
     },
     "metadata": {
      "needs_background": "light"
     },
     "output_type": "display_data"
    }
   ],
   "source": [
    "df_grades = df.groupby([\"treatment\", \"experiment_subject\"])[\"grade\"].first().reset_index()\n",
    "\n",
    "group_ids = range(0, 7)  # 7 step scale\n",
    "grades = [-3, 0, 2, 4, 7, 10, 12]\n",
    "grade_labels = [\"-3\", \"00\", \"02\", \"4\", \"7\", \"10\", \"12\"]\n",
    "grade_map = dict(zip(grades, group_ids))\n",
    "grade_label_map = dict(zip(group_ids, grade_labels))\n",
    "\n",
    "df_grades[\"group\"] = df_grades.grade.apply(lambda el: grade_map[el]) \n",
    "df_grades.sort_values(by=\"group\", inplace=True)\n",
    "df_grades[\"grade_labels\"] = df_grades.group.apply(lambda el: grade_label_map[el])\n",
    "\n",
    "plt.figure(figsize=(6.4, 3.8))\n",
    "p = sns.histplot(data=df_grades, x=\"grade_labels\", hue=\"treatment\", multiple=\"dodge\",  binwidth=10,  shrink=.8)\n",
    "p.set(xlabel=\"Grade\")\n",
    "plt.savefig(\"images/grade_comparison.pdf\", bbox_inches=\"tight\")"
   ]
  },
  {
   "cell_type": "code",
   "execution_count": 42,
   "id": "ab6237a4",
   "metadata": {},
   "outputs": [
    {
     "data": {
      "image/png": "[encoded data removed]",
      "text/plain": [
       "<Figure size 460.8x273.6 with 1 Axes>"
      ]
     },
     "metadata": {
      "needs_background": "light"
     },
     "output_type": "display_data"
    }
   ],
   "source": [
    "df_grades_with_treatment = df[df.llm_support == True].groupby(\"experiment_subject\")[\"grade\"].first().reset_index()\n",
    "df_grades_with_treatment[\"treatment\"] = \"with treatment\"\n",
    "df_grades_wo_treatment = df[df.llm_support == False].groupby(\"experiment_subject\")[\"grade\"].first().reset_index()\n",
    "df_grades_wo_treatment[\"treatment\"] = \"without treatment\"\n",
    "\n",
    "df_grades = pd.concat((df_grades_wo_treatment, df_grades_with_treatment), axis=0, ignore_index=True)\n",
    "df_grades.drop(columns=[\"experiment_subject\"], inplace=True)\n",
    "\n",
    "df_grades[\"group\"] = df_grades.grade.apply(lambda el: grade_map[el]) \n",
    "\n",
    "plt.figure(figsize=(6.4, 3.8))\n",
    "p1 = sns.boxplot(data=df_grades, x=\"treatment\", y=\"group\", boxprops={\"facecolor\": \"None\"})\n",
    "p2 = sns.swarmplot(data=df_grades, x=\"treatment\", y=\"group\", zorder=.5)\n",
    "p1.set(xlabel=None)\n",
    "p1.set(ylabel=\"Grade\")\n",
    "p1.set_yticks(range(7), labels=[\"-3\", \"00\", \"02\", \"4\", \"7\", \"10\", \"12\"])\n",
    "plt.savefig(\"images/grade_comparison_boxplot.pdf\", bbox_inches=\"tight\")"
   ]
  },
  {
   "cell_type": "code",
   "execution_count": 43,
   "id": "c67e07f4",
   "metadata": {},
   "outputs": [
    {
     "data": {
      "text/html": [
       "<div>\n",
       "<style scoped>\n",
       "    .dataframe tbody tr th:only-of-type {\n",
       "        vertical-align: middle;\n",
       "    }\n",
       "\n",
       "    .dataframe tbody tr th {\n",
       "        vertical-align: top;\n",
       "    }\n",
       "\n",
       "    .dataframe thead th {\n",
       "        text-align: right;\n",
       "    }\n",
       "</style>\n",
       "<table border=\"1\" class=\"dataframe\">\n",
       "  <thead>\n",
       "    <tr style=\"text-align: right;\">\n",
       "      <th></th>\n",
       "      <th>without treatment</th>\n",
       "      <th>with treatment</th>\n",
       "    </tr>\n",
       "  </thead>\n",
       "  <tbody>\n",
       "    <tr>\n",
       "      <th>count</th>\n",
       "      <td>24.000000</td>\n",
       "      <td>24.000000</td>\n",
       "    </tr>\n",
       "    <tr>\n",
       "      <th>mean</th>\n",
       "      <td>7.791667</td>\n",
       "      <td>11.416667</td>\n",
       "    </tr>\n",
       "    <tr>\n",
       "      <th>std</th>\n",
       "      <td>4.032252</td>\n",
       "      <td>0.928611</td>\n",
       "    </tr>\n",
       "    <tr>\n",
       "      <th>min</th>\n",
       "      <td>-3.000000</td>\n",
       "      <td>10.000000</td>\n",
       "    </tr>\n",
       "    <tr>\n",
       "      <th>25%</th>\n",
       "      <td>6.250000</td>\n",
       "      <td>10.000000</td>\n",
       "    </tr>\n",
       "    <tr>\n",
       "      <th>50%</th>\n",
       "      <td>8.500000</td>\n",
       "      <td>12.000000</td>\n",
       "    </tr>\n",
       "    <tr>\n",
       "      <th>75%</th>\n",
       "      <td>10.500000</td>\n",
       "      <td>12.000000</td>\n",
       "    </tr>\n",
       "    <tr>\n",
       "      <th>max</th>\n",
       "      <td>12.000000</td>\n",
       "      <td>12.000000</td>\n",
       "    </tr>\n",
       "  </tbody>\n",
       "</table>\n",
       "</div>"
      ],
      "text/plain": [
       "       without treatment  with treatment\n",
       "count          24.000000       24.000000\n",
       "mean            7.791667       11.416667\n",
       "std             4.032252        0.928611\n",
       "min            -3.000000       10.000000\n",
       "25%             6.250000       10.000000\n",
       "50%             8.500000       12.000000\n",
       "75%            10.500000       12.000000\n",
       "max            12.000000       12.000000"
      ]
     },
     "execution_count": 43,
     "metadata": {},
     "output_type": "execute_result"
    }
   ],
   "source": [
    "df_grades = pd.merge(df_grades_with_treatment, df_grades_wo_treatment, on=\"experiment_subject\", how=\"outer\")\n",
    "df_grades.rename(columns={\"grade_x\": \"with treatment\", \"grade_y\": \"without treatment\"}, inplace=True)\n",
    "\n",
    "df_grades[[\"without treatment\", \"with treatment\"]].describe()"
   ]
  },
  {
   "cell_type": "code",
   "execution_count": 44,
   "id": "17e9cd9a",
   "metadata": {},
   "outputs": [
    {
     "name": "stdout",
     "output_type": "stream",
     "text": [
      "without treatment\n",
      "($q_{0} = -3.00$,\\n$q_{1} = 6.25$,\\n$q_{2} = 8.50$,\\n$q_{3} = 10.50$,\\n$q_{4} = 12.00$,\\n$\\mu = 7.79$,\\n$\\sigma = 4.03$)\n",
      "with treatment\n",
      "($q_{0} = 10.00$,\\n$q_{1} = 10.00$,\\n$q_{2} = 12.00$,\\n$q_{3} = 12.00$,\\n$q_{4} = 12.00$,\\n$\\mu = 11.42$,\\n$\\sigma = 0.93$)\n"
     ]
    }
   ],
   "source": [
    "to_latex_describe(df_grades[[\"without treatment\", \"with treatment\"]], unit=\"\")"
   ]
  },
  {
   "cell_type": "code",
   "execution_count": 45,
   "id": "2b787e91",
   "metadata": {},
   "outputs": [
    {
     "data": {
      "text/plain": [
       "AndersonResult(statistic=5.1648645777396, critical_values=array([0.513, 0.584, 0.701, 0.817, 0.972]), significance_level=array([15. , 10. ,  5. ,  2.5,  1. ]))"
      ]
     },
     "execution_count": 45,
     "metadata": {},
     "output_type": "execute_result"
    }
   ],
   "source": [
    "anderson(df_grades[\"with treatment\"])"
   ]
  },
  {
   "cell_type": "code",
   "execution_count": 46,
   "id": "33731a19",
   "metadata": {},
   "outputs": [
    {
     "data": {
      "text/plain": [
       "AndersonResult(statistic=1.0218881095046655, critical_values=array([0.513, 0.584, 0.701, 0.817, 0.972]), significance_level=array([15. , 10. ,  5. ,  2.5,  1. ]))"
      ]
     },
     "execution_count": 46,
     "metadata": {},
     "output_type": "execute_result"
    }
   ],
   "source": [
    "anderson(df_grades[\"without treatment\"])"
   ]
  },
  {
   "cell_type": "code",
   "execution_count": 47,
   "id": "ab7ff260",
   "metadata": {},
   "outputs": [
    {
     "data": {
      "text/plain": [
       "MannwhitneyuResult(statistic=462.0, pvalue=0.00012301770813022747)"
      ]
     },
     "execution_count": 47,
     "metadata": {},
     "output_type": "execute_result"
    }
   ],
   "source": [
    "mannwhitneyu(df_grades[\"with treatment\"], df_grades[\"without treatment\"])"
   ]
  },
  {
   "cell_type": "code",
   "execution_count": 48,
   "id": "21c24e23",
   "metadata": {},
   "outputs": [
    {
     "data": {
      "text/plain": [
       "('increase', ['without treatment', 'with treatment'], 41.18)"
      ]
     },
     "execution_count": 48,
     "metadata": {},
     "output_type": "execute_result"
    }
   ],
   "source": [
    "compute_improvement_pct(df_grades)"
   ]
  },
  {
   "cell_type": "code",
   "execution_count": 49,
   "id": "088b2245",
   "metadata": {},
   "outputs": [
    {
     "data": {
      "text/plain": [
       "('increase', ['without treatment', 'with treatment'], 46.52)"
      ]
     },
     "execution_count": 49,
     "metadata": {},
     "output_type": "execute_result"
    }
   ],
   "source": [
    "compute_improvement_pct(df_grades, where=\"mean\")"
   ]
  },
  {
   "cell_type": "markdown",
   "id": "ddb54b65",
   "metadata": {},
   "source": [
    "### RQ4: How does the way students prompt a local LLM affect their grade?"
   ]
  },
  {
   "cell_type": "code",
   "execution_count": 50,
   "id": "81b35bd7",
   "metadata": {},
   "outputs": [
    {
     "data": {
      "image/png": "[encoded data removed]",
      "text/plain": [
       "<Figure size 460.8x273.6 with 1 Axes>"
      ]
     },
     "metadata": {
      "needs_background": "light"
     },
     "output_type": "display_data"
    }
   ],
   "source": [
    "df_prompts = df[df.llm_support == True].groupby(\"experiment_subject\")[\"no_prompts\"].sum().reset_index()\n",
    "df_prompts.drop(columns=[\"experiment_subject\"], inplace=True)\n",
    "df_prompts.no_prompts = df_prompts.no_prompts.astype(int)\n",
    "\n",
    "\n",
    "plt.figure(figsize=(6.4, 3.8))\n",
    "p = sns.countplot(data=df_prompts, x=\"no_prompts\", color=\"#ff9f4b\", edgecolor=\"black\")\n",
    "p.set(xlabel=\"Number of prompts\", ylabel=\"Number of experimental subjects\")\n",
    "plt.savefig(\"images/prompt_histogram.pdf\", bbox_inches=\"tight\")"
   ]
  },
  {
   "cell_type": "code",
   "execution_count": 51,
   "id": "6df30279",
   "metadata": {},
   "outputs": [
    {
     "data": {
      "text/html": [
       "<div>\n",
       "<style scoped>\n",
       "    .dataframe tbody tr th:only-of-type {\n",
       "        vertical-align: middle;\n",
       "    }\n",
       "\n",
       "    .dataframe tbody tr th {\n",
       "        vertical-align: top;\n",
       "    }\n",
       "\n",
       "    .dataframe thead th {\n",
       "        text-align: right;\n",
       "    }\n",
       "</style>\n",
       "<table border=\"1\" class=\"dataframe\">\n",
       "  <thead>\n",
       "    <tr style=\"text-align: right;\">\n",
       "      <th></th>\n",
       "      <th>no_prompts</th>\n",
       "    </tr>\n",
       "  </thead>\n",
       "  <tbody>\n",
       "    <tr>\n",
       "      <th>count</th>\n",
       "      <td>24.000000</td>\n",
       "    </tr>\n",
       "    <tr>\n",
       "      <th>mean</th>\n",
       "      <td>6.708333</td>\n",
       "    </tr>\n",
       "    <tr>\n",
       "      <th>std</th>\n",
       "      <td>2.985169</td>\n",
       "    </tr>\n",
       "    <tr>\n",
       "      <th>min</th>\n",
       "      <td>1.000000</td>\n",
       "    </tr>\n",
       "    <tr>\n",
       "      <th>25%</th>\n",
       "      <td>5.000000</td>\n",
       "    </tr>\n",
       "    <tr>\n",
       "      <th>50%</th>\n",
       "      <td>6.500000</td>\n",
       "    </tr>\n",
       "    <tr>\n",
       "      <th>75%</th>\n",
       "      <td>9.000000</td>\n",
       "    </tr>\n",
       "    <tr>\n",
       "      <th>max</th>\n",
       "      <td>13.000000</td>\n",
       "    </tr>\n",
       "  </tbody>\n",
       "</table>\n",
       "</div>"
      ],
      "text/plain": [
       "       no_prompts\n",
       "count   24.000000\n",
       "mean     6.708333\n",
       "std      2.985169\n",
       "min      1.000000\n",
       "25%      5.000000\n",
       "50%      6.500000\n",
       "75%      9.000000\n",
       "max     13.000000"
      ]
     },
     "execution_count": 51,
     "metadata": {},
     "output_type": "execute_result"
    }
   ],
   "source": [
    "df_prompts.describe()"
   ]
  },
  {
   "cell_type": "code",
   "execution_count": 52,
   "id": "bf157a12",
   "metadata": {},
   "outputs": [
    {
     "name": "stdout",
     "output_type": "stream",
     "text": [
      "no_prompts\n",
      "($q_{0} = 1.00$,\\n$q_{1} = 5.00$,\\n$q_{2} = 6.50$,\\n$q_{3} = 9.00$,\\n$q_{4} = 13.00$,\\n$\\mu = 6.71$,\\n$\\sigma = 2.99$)\n"
     ]
    }
   ],
   "source": [
    "def to_latex_describe_cols(df, unit):\n",
    "    for column in df.columns:\n",
    "        print(column)\n",
    "        lines = _convert_floats(df[column].describe(), unit)\n",
    "        lines_str = \",\\\\n\".join(lines)\n",
    "        print(f'({lines_str})')\n",
    "\n",
    "to_latex_describe_cols(df_prompts, unit=\"\")"
   ]
  },
  {
   "cell_type": "code",
   "execution_count": 53,
   "id": "c1156db6",
   "metadata": {},
   "outputs": [
    {
     "data": {
      "image/png": "[encoded data removed]",
      "text/plain": [
       "<Figure size 460.8x273.6 with 1 Axes>"
      ]
     },
     "metadata": {
      "needs_background": "light"
     },
     "output_type": "display_data"
    }
   ],
   "source": [
    "df_prompts = df[df.llm_support == True].groupby(\"experiment_subject\")[\"no_prompts\"].sum().reset_index()\n",
    "df_prompts_grades = pd.merge(df_prompts, df_grades_with_treatment, on=\"experiment_subject\")\n",
    "df_prompts_grades.drop(columns=[\"experiment_subject\"], inplace=True)\n",
    "\n",
    "df_prompts_grades[\"group\"] = df_prompts_grades.grade.apply(lambda el: grade_map[el]) \n",
    "\n",
    "plt.figure(figsize=(6.4, 3.8))\n",
    "p = sns.scatterplot(data=df_prompts_grades, x=\"no_prompts\", y=\"group\", color=\"#ff9f4b\", edgecolor=\"black\")\n",
    "p.set(xlabel = \"Number of prompts\", ylabel=\"Grade\")\n",
    "p.set_yticks(range(7), labels=[\"-3\", \"00\", \"02\", \"4\", \"7\", \"10\", \"12\"]) \n",
    "plt.savefig(\"images/grade_prompt_comparison.pdf\", bbox_inches=\"tight\")"
   ]
  },
  {
   "cell_type": "code",
   "execution_count": 54,
   "id": "b8af0cf1",
   "metadata": {},
   "outputs": [
    {
     "data": {
      "text/plain": [
       "SpearmanrResult(correlation=0.2560509901961664, pvalue=0.2271685140863654)"
      ]
     },
     "execution_count": 54,
     "metadata": {},
     "output_type": "execute_result"
    }
   ],
   "source": [
    "spearmanr(df_prompts_grades.no_prompts, df_prompts_grades.grade)"
   ]
  },
  {
   "cell_type": "code",
   "execution_count": 251,
   "id": "ab36e682",
   "metadata": {},
   "outputs": [
    {
     "data": {
      "image/png": "[encoded data removed]",
      "text/plain": [
       "<Figure size 720x432 with 1 Axes>"
      ]
     },
     "metadata": {
      "needs_background": "light"
     },
     "output_type": "display_data"
    }
   ],
   "source": [
    "oi = df_prompts_per_subject.groupby([\"exam_set\", \"experiment_subject\", \"task_no\"]).no_prompts.first().reset_index()\n",
    "\n",
    "no_prompts_per_exam_set = []\n",
    "for exam_set_no in range(1, 3):\n",
    "    no_prompts_per_subject = []\n",
    "    for exp_subj_no in oi[oi.exam_set == exam_set_no].experiment_subject.unique():\n",
    "        no_prompts_per_task = list(oi[(oi.exam_set == exam_set_no) & (oi.experiment_subject == exp_subj_no)].no_prompts.values)\n",
    "        no_prompts_per_subject.append(no_prompts_per_task)\n",
    "    no_prompts_per_exam_set.append(no_prompts_per_subject)\n",
    "\n",
    "exam_set1_prompts = np.array(no_prompts_per_exam_set[0])\n",
    "exam_set2_prompts = np.array(np.hstack((no_prompts_per_exam_set[1], np.zeros((12, 2)))))\n",
    "\n",
    "tasks = np.arange(1, exam_set1_prompts.shape[1] + 1)\n",
    "no_subjects_per_group = exam_set1_prompts.shape[0]\n",
    "\n",
    "colors_exam_set1 = plt.cm.magma(np.linspace(0.2, 0.8, no_subjects_per_group))\n",
    "colors_exam_set2 = plt.cm.summer(np.linspace(0, 0.8, no_subjects_per_group))\n",
    "\n",
    "fig, ax = plt.subplots(figsize=(10, 6))\n",
    "\n",
    "for i in range(no_subjects_per_group):\n",
    "    ax.bar(tasks - 0.2, exam_set1_prompts[i], bottom=np.sum(exam_set1_prompts[:i], axis=0), color=colors_exam_set1[i], \n",
    "    width=0.4, edgecolor=\"black\", linewidth=1)\n",
    "    ax.bar(tasks + 0.2, exam_set2_prompts[i], bottom=np.sum(exam_set2_prompts[:i], axis=0), color=colors_exam_set2[i], \n",
    "    width=0.4, edgecolor=\"black\", linewidth=1)\n",
    "\n",
    "ax.set_xlabel(\"Task\")\n",
    "ax.set_ylabel(\"Number of Prompts\")\n",
    "# ax.set_title(\"Number of Prompts Used by Subjects to Solve Tasks\")\n",
    "\n",
    "legend_labels = [f\"{i+1}\" for i in range(no_subjects_per_group * 2)]\n",
    "#ax.legend(legend_labels, title=\"Subjects\", loc=\"upper left\", bbox_to_anchor=(1, 1))\n",
    "\n",
    "plt.xticks(tasks)\n",
    "plt.tight_layout()\n",
    "plt.savefig(\"images/no_prompts_per_task_per_subject.pdf\", bbox_inches=\"tight\")\n",
    "#plt.show()"
   ]
  }
 ],
 "metadata": {
  "kernelspec": {
   "display_name": "Python 3 (ipykernel)",
   "language": "python",
   "name": "python3"
  },
  "language_info": {
   "codemirror_mode": {
    "name": "ipython",
    "version": 3
   },
   "file_extension": ".py",
   "mimetype": "text/x-python",
   "name": "python",
   "nbconvert_exporter": "python",
   "pygments_lexer": "ipython3",
   "version": "3.9.12"
  }
 },
 "nbformat": 4,
 "nbformat_minor": 5
}
