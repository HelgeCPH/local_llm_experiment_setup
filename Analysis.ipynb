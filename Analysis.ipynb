{
 "cells": [
  {
   "cell_type": "markdown",
   "id": "5cdbddd0",
   "metadata": {},
   "source": [
    "# Data Analysis Notebook\n",
    "\n",
    "## What is this?\n",
    "\n",
    "This notebook contains all code that is used to analysis the data for the paper \"Faster, More Accurate Results, and Better Grades: The Effect of a Local LLM in an Introductory Programming Exam\".\n",
    "\n",
    "## How to use it?\n",
    "\n",
    "If you want to reproduce the results and figures reported in the paper, execute each code cell in consecutive order. In particular, the code cells in section \"Data Cleansing\" have to be executed _before_ the remaining code cells!"
   ]
  },
  {
   "cell_type": "code",
   "execution_count": 1,
   "id": "395a1f0f",
   "metadata": {},
   "outputs": [],
   "source": [
    "import pandas as pd\n",
    "import numpy as np\n",
    "import matplotlib.pyplot as plt\n",
    "import seaborn as sns\n",
    "import scipy.stats as stats\n",
    "from scipy.stats import mannwhitneyu, spearmanr\n",
    "\n",
    "sns.set_palette(\"Set2\")\n",
    "plt.rcParams.update({'font.size': 14})"
   ]
  },
  {
   "cell_type": "code",
   "execution_count": 22,
   "id": "bff1b6f9",
   "metadata": {},
   "outputs": [],
   "source": [
    "df = pd.read_csv(\"data.csv\", delimiter=';')"
   ]
  },
  {
   "cell_type": "markdown",
   "id": "5084c4ba",
   "metadata": {},
   "source": [
    "## Data Cleansing\n",
    "\n",
    "The columns `Task x`, contain the time (in seconds) it takes an experiment subject to solve the respective task `x`. In case two space separated integer values are recorded in this column, the first one denotes the time in seconds and the second records the number of prompts that were used.\n",
    "\n",
    "Since this is a dense notation, we split them into separate columns to facilitate later analysis."
   ]
  },
  {
   "cell_type": "code",
   "execution_count": null,
   "id": "cc0202ec",
   "metadata": {},
   "outputs": [],
   "source": [
    "# Generate a separate CSV file only for the demographics data\n",
    "demographics_questions = [\n",
    "    \"In what subject was your bachelor?\", \n",
    "    \"How many years of developer experience do you have?\",\n",
    "    \"How many months is it since you coded in Java?\", \n",
    "    \"How many years of experience do you have with Visual Studio Code?\",\n",
    "    \"How much experience in years do you have in using an LLM(ChatGPT, CoPilot, Gemini)?\",\n",
    "    \"Which operating system do you usually use\"\n",
    "]\n",
    "df[[\"Participant\", ] + demographics_questions].dropna().to_csv(\"demographics.csv\", index=False)"
   ]
  },
  {
   "cell_type": "code",
   "execution_count": 155,
   "id": "39ab8607",
   "metadata": {},
   "outputs": [],
   "source": [
    "%%bash\n",
    "# Generate a separate CSV file only for the numerical data\n",
    "python datacleansing.py\n",
    "# After this step, a file dataclean.csv is available"
   ]
  },
  {
   "cell_type": "markdown",
   "id": "5c1168e9",
   "metadata": {},
   "source": [
    "## Demographics"
   ]
  },
  {
   "cell_type": "code",
   "execution_count": 79,
   "id": "eeb99d4d",
   "metadata": {},
   "outputs": [
    {
     "data": {
      "text/html": [
       "<div>\n",
       "<style scoped>\n",
       "    .dataframe tbody tr th:only-of-type {\n",
       "        vertical-align: middle;\n",
       "    }\n",
       "\n",
       "    .dataframe tbody tr th {\n",
       "        vertical-align: top;\n",
       "    }\n",
       "\n",
       "    .dataframe thead th {\n",
       "        text-align: right;\n",
       "    }\n",
       "</style>\n",
       "<table border=\"1\" class=\"dataframe\">\n",
       "  <thead>\n",
       "    <tr style=\"text-align: right;\">\n",
       "      <th></th>\n",
       "      <th>Participant</th>\n",
       "      <th>In what subject was your bachelor?</th>\n",
       "      <th>How many years of developer experience do you have?</th>\n",
       "      <th>How many months is it since you coded in Java?</th>\n",
       "      <th>How many years of experience do you have with Visual Studio Code?</th>\n",
       "      <th>How much experience in years do you have in using an LLM(ChatGPT, CoPilot, Gemini)?</th>\n",
       "      <th>Which operating system do you usually use</th>\n",
       "    </tr>\n",
       "  </thead>\n",
       "  <tbody>\n",
       "    <tr>\n",
       "      <th>0</th>\n",
       "      <td>1</td>\n",
       "      <td>Business Economics &amp; Information System</td>\n",
       "      <td>4.0</td>\n",
       "      <td>0.0</td>\n",
       "      <td>2.0</td>\n",
       "      <td>2.0</td>\n",
       "      <td>MacOS</td>\n",
       "    </tr>\n",
       "    <tr>\n",
       "      <th>1</th>\n",
       "      <td>2</td>\n",
       "      <td>International sales and marketing</td>\n",
       "      <td>2.0</td>\n",
       "      <td>0.0</td>\n",
       "      <td>2.0</td>\n",
       "      <td>0.5</td>\n",
       "      <td>Windows</td>\n",
       "    </tr>\n",
       "    <tr>\n",
       "      <th>2</th>\n",
       "      <td>3</td>\n",
       "      <td>Innovation and Entrepreneurship</td>\n",
       "      <td>1.0</td>\n",
       "      <td>0.0</td>\n",
       "      <td>1.0</td>\n",
       "      <td>1.0</td>\n",
       "      <td>MacOS</td>\n",
       "    </tr>\n",
       "    <tr>\n",
       "      <th>3</th>\n",
       "      <td>4</td>\n",
       "      <td>Visual Design (Game and Interaction Design)</td>\n",
       "      <td>4.0</td>\n",
       "      <td>2.0</td>\n",
       "      <td>2.0</td>\n",
       "      <td>0.0</td>\n",
       "      <td>Windows</td>\n",
       "    </tr>\n",
       "    <tr>\n",
       "      <th>4</th>\n",
       "      <td>5</td>\n",
       "      <td>Communication &amp; IT</td>\n",
       "      <td>2.0</td>\n",
       "      <td>3.0</td>\n",
       "      <td>2.0</td>\n",
       "      <td>1.0</td>\n",
       "      <td>MacOS</td>\n",
       "    </tr>\n",
       "    <tr>\n",
       "      <th>5</th>\n",
       "      <td>6</td>\n",
       "      <td>Physiotherapy</td>\n",
       "      <td>2.0</td>\n",
       "      <td>3.0</td>\n",
       "      <td>2.0</td>\n",
       "      <td>1.5</td>\n",
       "      <td>MacOS</td>\n",
       "    </tr>\n",
       "    <tr>\n",
       "      <th>6</th>\n",
       "      <td>7</td>\n",
       "      <td>Global Business Informatics</td>\n",
       "      <td>2.0</td>\n",
       "      <td>9.0</td>\n",
       "      <td>2.0</td>\n",
       "      <td>1.0</td>\n",
       "      <td>Windows</td>\n",
       "    </tr>\n",
       "    <tr>\n",
       "      <th>7</th>\n",
       "      <td>8</td>\n",
       "      <td>Literaturvidenskab</td>\n",
       "      <td>2.0</td>\n",
       "      <td>12.0</td>\n",
       "      <td>2.5</td>\n",
       "      <td>1.5</td>\n",
       "      <td>MacOS</td>\n",
       "    </tr>\n",
       "    <tr>\n",
       "      <th>8</th>\n",
       "      <td>9</td>\n",
       "      <td>Global Business Informatics</td>\n",
       "      <td>2.0</td>\n",
       "      <td>13.0</td>\n",
       "      <td>2.0</td>\n",
       "      <td>1.0</td>\n",
       "      <td>MacOS</td>\n",
       "    </tr>\n",
       "    <tr>\n",
       "      <th>9</th>\n",
       "      <td>10</td>\n",
       "      <td>Economy</td>\n",
       "      <td>1.5</td>\n",
       "      <td>8.0</td>\n",
       "      <td>1.5</td>\n",
       "      <td>0.5</td>\n",
       "      <td>MacOS</td>\n",
       "    </tr>\n",
       "    <tr>\n",
       "      <th>10</th>\n",
       "      <td>11</td>\n",
       "      <td>Modern India and South Asia Studies</td>\n",
       "      <td>1.5</td>\n",
       "      <td>8.0</td>\n",
       "      <td>1.5</td>\n",
       "      <td>0.5</td>\n",
       "      <td>Windows</td>\n",
       "    </tr>\n",
       "    <tr>\n",
       "      <th>11</th>\n",
       "      <td>12</td>\n",
       "      <td>Digital Design and Interactive Technologies</td>\n",
       "      <td>1.5</td>\n",
       "      <td>2.0</td>\n",
       "      <td>6.0</td>\n",
       "      <td>1.5</td>\n",
       "      <td>Windows</td>\n",
       "    </tr>\n",
       "    <tr>\n",
       "      <th>12</th>\n",
       "      <td>13</td>\n",
       "      <td>Sound Design</td>\n",
       "      <td>2.0</td>\n",
       "      <td>1.0</td>\n",
       "      <td>3.0</td>\n",
       "      <td>1.0</td>\n",
       "      <td>MacOS</td>\n",
       "    </tr>\n",
       "    <tr>\n",
       "      <th>13</th>\n",
       "      <td>14</td>\n",
       "      <td>Bachelor of education</td>\n",
       "      <td>0.0</td>\n",
       "      <td>7.0</td>\n",
       "      <td>1.5</td>\n",
       "      <td>1.0</td>\n",
       "      <td>Windows</td>\n",
       "    </tr>\n",
       "    <tr>\n",
       "      <th>14</th>\n",
       "      <td>15</td>\n",
       "      <td>Energy Engineering</td>\n",
       "      <td>2.0</td>\n",
       "      <td>12.0</td>\n",
       "      <td>2.0</td>\n",
       "      <td>1.0</td>\n",
       "      <td>Linux</td>\n",
       "    </tr>\n",
       "    <tr>\n",
       "      <th>15</th>\n",
       "      <td>16</td>\n",
       "      <td>Business economics &amp; IT</td>\n",
       "      <td>3.0</td>\n",
       "      <td>0.0</td>\n",
       "      <td>3.0</td>\n",
       "      <td>1.0</td>\n",
       "      <td>MacOS</td>\n",
       "    </tr>\n",
       "    <tr>\n",
       "      <th>16</th>\n",
       "      <td>17</td>\n",
       "      <td>Business</td>\n",
       "      <td>2.0</td>\n",
       "      <td>3.0</td>\n",
       "      <td>2.0</td>\n",
       "      <td>1.0</td>\n",
       "      <td>Windows</td>\n",
       "    </tr>\n",
       "    <tr>\n",
       "      <th>17</th>\n",
       "      <td>18</td>\n",
       "      <td>Gastronomy (Food Science and Agriculture)</td>\n",
       "      <td>1.5</td>\n",
       "      <td>0.0</td>\n",
       "      <td>1.5</td>\n",
       "      <td>1.0</td>\n",
       "      <td>MacOS</td>\n",
       "    </tr>\n",
       "    <tr>\n",
       "      <th>18</th>\n",
       "      <td>19</td>\n",
       "      <td>International Business in Asia</td>\n",
       "      <td>1.0</td>\n",
       "      <td>6.0</td>\n",
       "      <td>1.5</td>\n",
       "      <td>1.0</td>\n",
       "      <td>MacOS</td>\n",
       "    </tr>\n",
       "    <tr>\n",
       "      <th>19</th>\n",
       "      <td>20</td>\n",
       "      <td>IT &amp; Communication</td>\n",
       "      <td>2.0</td>\n",
       "      <td>0.0</td>\n",
       "      <td>3.0</td>\n",
       "      <td>1.0</td>\n",
       "      <td>MacOS</td>\n",
       "    </tr>\n",
       "    <tr>\n",
       "      <th>20</th>\n",
       "      <td>21</td>\n",
       "      <td>Radiograph</td>\n",
       "      <td>1.5</td>\n",
       "      <td>6.0</td>\n",
       "      <td>1.5</td>\n",
       "      <td>1.0</td>\n",
       "      <td>MacOS</td>\n",
       "    </tr>\n",
       "    <tr>\n",
       "      <th>21</th>\n",
       "      <td>22</td>\n",
       "      <td>Software Design</td>\n",
       "      <td>4.0</td>\n",
       "      <td>12.0</td>\n",
       "      <td>3.0</td>\n",
       "      <td>1.0</td>\n",
       "      <td>MacOS</td>\n",
       "    </tr>\n",
       "    <tr>\n",
       "      <th>22</th>\n",
       "      <td>23</td>\n",
       "      <td>Communication</td>\n",
       "      <td>1.0</td>\n",
       "      <td>6.0</td>\n",
       "      <td>1.5</td>\n",
       "      <td>1.0</td>\n",
       "      <td>Windows</td>\n",
       "    </tr>\n",
       "    <tr>\n",
       "      <th>23</th>\n",
       "      <td>24</td>\n",
       "      <td>International Business</td>\n",
       "      <td>1.0</td>\n",
       "      <td>3.0</td>\n",
       "      <td>1.5</td>\n",
       "      <td>1.0</td>\n",
       "      <td>MacOS</td>\n",
       "    </tr>\n",
       "  </tbody>\n",
       "</table>\n",
       "</div>"
      ],
      "text/plain": [
       "    Participant           In what subject was your bachelor?  \\\n",
       "0             1     Business Economics & Information System    \n",
       "1             2            International sales and marketing   \n",
       "2             3             Innovation and Entrepreneurship    \n",
       "3             4  Visual Design (Game and Interaction Design)   \n",
       "4             5                           Communication & IT   \n",
       "5             6                                Physiotherapy   \n",
       "6             7                  Global Business Informatics   \n",
       "7             8                           Literaturvidenskab   \n",
       "8             9                  Global Business Informatics   \n",
       "9            10                                      Economy   \n",
       "10           11          Modern India and South Asia Studies   \n",
       "11           12  Digital Design and Interactive Technologies   \n",
       "12           13                                 Sound Design   \n",
       "13           14                        Bachelor of education   \n",
       "14           15                           Energy Engineering   \n",
       "15           16                      Business economics & IT   \n",
       "16           17                                     Business   \n",
       "17           18    Gastronomy (Food Science and Agriculture)   \n",
       "18           19               International Business in Asia   \n",
       "19           20                           IT & Communication   \n",
       "20           21                                   Radiograph   \n",
       "21           22                              Software Design   \n",
       "22           23                                Communication   \n",
       "23           24                       International Business   \n",
       "\n",
       "    How many years of developer experience do you have?  \\\n",
       "0                                                 4.0     \n",
       "1                                                 2.0     \n",
       "2                                                 1.0     \n",
       "3                                                 4.0     \n",
       "4                                                 2.0     \n",
       "5                                                 2.0     \n",
       "6                                                 2.0     \n",
       "7                                                 2.0     \n",
       "8                                                 2.0     \n",
       "9                                                 1.5     \n",
       "10                                                1.5     \n",
       "11                                                1.5     \n",
       "12                                                2.0     \n",
       "13                                                0.0     \n",
       "14                                                2.0     \n",
       "15                                                3.0     \n",
       "16                                                2.0     \n",
       "17                                                1.5     \n",
       "18                                                1.0     \n",
       "19                                                2.0     \n",
       "20                                                1.5     \n",
       "21                                                4.0     \n",
       "22                                                1.0     \n",
       "23                                                1.0     \n",
       "\n",
       "    How many months is it since you coded in Java?  \\\n",
       "0                                              0.0   \n",
       "1                                              0.0   \n",
       "2                                              0.0   \n",
       "3                                              2.0   \n",
       "4                                              3.0   \n",
       "5                                              3.0   \n",
       "6                                              9.0   \n",
       "7                                             12.0   \n",
       "8                                             13.0   \n",
       "9                                              8.0   \n",
       "10                                             8.0   \n",
       "11                                             2.0   \n",
       "12                                             1.0   \n",
       "13                                             7.0   \n",
       "14                                            12.0   \n",
       "15                                             0.0   \n",
       "16                                             3.0   \n",
       "17                                             0.0   \n",
       "18                                             6.0   \n",
       "19                                             0.0   \n",
       "20                                             6.0   \n",
       "21                                            12.0   \n",
       "22                                             6.0   \n",
       "23                                             3.0   \n",
       "\n",
       "    How many years of experience do you have with Visual Studio Code?  \\\n",
       "0                                                 2.0                   \n",
       "1                                                 2.0                   \n",
       "2                                                 1.0                   \n",
       "3                                                 2.0                   \n",
       "4                                                 2.0                   \n",
       "5                                                 2.0                   \n",
       "6                                                 2.0                   \n",
       "7                                                 2.5                   \n",
       "8                                                 2.0                   \n",
       "9                                                 1.5                   \n",
       "10                                                1.5                   \n",
       "11                                                6.0                   \n",
       "12                                                3.0                   \n",
       "13                                                1.5                   \n",
       "14                                                2.0                   \n",
       "15                                                3.0                   \n",
       "16                                                2.0                   \n",
       "17                                                1.5                   \n",
       "18                                                1.5                   \n",
       "19                                                3.0                   \n",
       "20                                                1.5                   \n",
       "21                                                3.0                   \n",
       "22                                                1.5                   \n",
       "23                                                1.5                   \n",
       "\n",
       "    How much experience in years do you have in using an LLM(ChatGPT, CoPilot, Gemini)?  \\\n",
       "0                                                 2.0                                     \n",
       "1                                                 0.5                                     \n",
       "2                                                 1.0                                     \n",
       "3                                                 0.0                                     \n",
       "4                                                 1.0                                     \n",
       "5                                                 1.5                                     \n",
       "6                                                 1.0                                     \n",
       "7                                                 1.5                                     \n",
       "8                                                 1.0                                     \n",
       "9                                                 0.5                                     \n",
       "10                                                0.5                                     \n",
       "11                                                1.5                                     \n",
       "12                                                1.0                                     \n",
       "13                                                1.0                                     \n",
       "14                                                1.0                                     \n",
       "15                                                1.0                                     \n",
       "16                                                1.0                                     \n",
       "17                                                1.0                                     \n",
       "18                                                1.0                                     \n",
       "19                                                1.0                                     \n",
       "20                                                1.0                                     \n",
       "21                                                1.0                                     \n",
       "22                                                1.0                                     \n",
       "23                                                1.0                                     \n",
       "\n",
       "   Which operating system do you usually use  \n",
       "0                                      MacOS  \n",
       "1                                    Windows  \n",
       "2                                      MacOS  \n",
       "3                                    Windows  \n",
       "4                                      MacOS  \n",
       "5                                      MacOS  \n",
       "6                                    Windows  \n",
       "7                                      MacOS  \n",
       "8                                      MacOS  \n",
       "9                                      MacOS  \n",
       "10                                   Windows  \n",
       "11                                   Windows  \n",
       "12                                     MacOS  \n",
       "13                                   Windows  \n",
       "14                                     Linux  \n",
       "15                                     MacOS  \n",
       "16                                   Windows  \n",
       "17                                     MacOS  \n",
       "18                                     MacOS  \n",
       "19                                     MacOS  \n",
       "20                                     MacOS  \n",
       "21                                     MacOS  \n",
       "22                                   Windows  \n",
       "23                                     MacOS  "
      ]
     },
     "execution_count": 79,
     "metadata": {},
     "output_type": "execute_result"
    }
   ],
   "source": [
    "demo_df = pd.read_csv(\"demographics.csv\")\n",
    "demo_df"
   ]
  },
  {
   "cell_type": "code",
   "execution_count": 63,
   "id": "1f8315ba",
   "metadata": {},
   "outputs": [],
   "source": [
    "sector_mapping = {\n",
    "    \"Business Economics & Information System\": \"business and economics\",\n",
    "    \"International sales and marketing\": \"business and economics\",\n",
    "    \"Innovation and Entrepreneurship\": \"business and economics\",\n",
    "    \"Visual Design (Game and Interaction Design)\": \"communications and media\",\n",
    "    \"Communication & IT\": \"IT and technology\",\n",
    "    \"Physiotherapy\": \"health and medicine\",\n",
    "    \"Global Business Informatics\": \"IT and technology\" ,\n",
    "    \"Literaturvidenskab\": \"communications and media\",\n",
    "    \"Global Business Informatics\": \"IT and technology\",\n",
    "    \"Economy\": \"business and economics\",\n",
    "    \"Modern India and South Asia Studies\": \"social sciences\",\n",
    "    \"Digital Design and Interactive Technologies\": \"communications and media\",\n",
    "    \"Sound Design\": \"IT and technology\",\n",
    "    \"Bachelor of education\": \"education\",\n",
    "    \"Energy Engineering\": \"IT and technology\",\n",
    "    \"Business economics & IT\": \"business and economics\",\n",
    "    \"Business\": \"business and economics\",\n",
    "    \"Gastronomy (Food Science and Agriculture)\": \"gastronomy\",\n",
    "    \"International Business in Asia\": \"business and economics\",\n",
    "    \"IT & Communication\": \"communications and media\",\n",
    "    \"Radiograph\": \"health and medicine\",\n",
    "    \"Software Design\": \"IT and technology\",\n",
    "    \"Communication\": \"communications and media\",\n",
    "    \"International Business\": \"business and economics\",\n",
    "}\n",
    "demo_df[\"sector\"] = demo_df[\"In what subject was your bachelor?\"].apply(lambda el: sector_mapping[el.strip()])"
   ]
  },
  {
   "cell_type": "code",
   "execution_count": 66,
   "id": "c0d58aa6",
   "metadata": {},
   "outputs": [
    {
     "data": {
      "text/plain": [
       "sector\n",
       "IT and technology           6\n",
       "business and economics      8\n",
       "communications and media    5\n",
       "education                   1\n",
       "gastronomy                  1\n",
       "health and medicine         2\n",
       "social sciences             1\n",
       "Name: Participant, dtype: int64"
      ]
     },
     "execution_count": 66,
     "metadata": {},
     "output_type": "execute_result"
    }
   ],
   "source": [
    "demo_df.groupby(\"sector\")[\"Participant\"].count()"
   ]
  },
  {
   "cell_type": "code",
   "execution_count": 68,
   "id": "39ed891c",
   "metadata": {},
   "outputs": [
    {
     "data": {
      "text/plain": [
       "count    24.000000\n",
       "mean      1.937500\n",
       "std       0.981486\n",
       "min       0.000000\n",
       "25%       1.500000\n",
       "50%       2.000000\n",
       "75%       2.000000\n",
       "max       4.000000\n",
       "Name: How many years of developer experience do you have?, dtype: float64"
      ]
     },
     "execution_count": 68,
     "metadata": {},
     "output_type": "execute_result"
    }
   ],
   "source": [
    "demo_df[\"How many years of developer experience do you have?\"].describe()"
   ]
  },
  {
   "cell_type": "code",
   "execution_count": 67,
   "id": "786606c3",
   "metadata": {},
   "outputs": [
    {
     "data": {
      "text/plain": [
       "count    24.000000\n",
       "mean      4.833333\n",
       "std       4.429807\n",
       "min       0.000000\n",
       "25%       0.750000\n",
       "50%       3.000000\n",
       "75%       8.000000\n",
       "max      13.000000\n",
       "Name: How many months is it since you coded in Java?, dtype: float64"
      ]
     },
     "execution_count": 67,
     "metadata": {},
     "output_type": "execute_result"
    }
   ],
   "source": [
    "demo_df[\"How many months is it since you coded in Java?\"].describe()"
   ]
  },
  {
   "cell_type": "code",
   "execution_count": 26,
   "id": "14b57cba",
   "metadata": {},
   "outputs": [
    {
     "data": {
      "text/plain": [
       "count    24.000000\n",
       "mean      2.145833\n",
       "std       0.994323\n",
       "min       1.000000\n",
       "25%       1.500000\n",
       "50%       2.000000\n",
       "75%       2.125000\n",
       "max       6.000000\n",
       "Name: How many years of experience do you have with Visual Studio Code?, dtype: float64"
      ]
     },
     "execution_count": 26,
     "metadata": {},
     "output_type": "execute_result"
    }
   ],
   "source": [
    "demo_df[\"How many years of experience do you have with Visual Studio Code?\"].describe()"
   ]
  },
  {
   "cell_type": "code",
   "execution_count": 69,
   "id": "91093e0c",
   "metadata": {},
   "outputs": [
    {
     "data": {
      "text/plain": [
       "count    24.000000\n",
       "mean      1.000000\n",
       "std       0.390095\n",
       "min       0.000000\n",
       "25%       1.000000\n",
       "50%       1.000000\n",
       "75%       1.000000\n",
       "max       2.000000\n",
       "Name: How much experience in years do you have in using an LLM(ChatGPT, CoPilot, Gemini)?, dtype: float64"
      ]
     },
     "execution_count": 69,
     "metadata": {},
     "output_type": "execute_result"
    }
   ],
   "source": [
    "demo_df[\"How much experience in years do you have in using an LLM(ChatGPT, CoPilot, Gemini)?\"].describe()"
   ]
  },
  {
   "cell_type": "markdown",
   "id": "64cb4814",
   "metadata": {},
   "source": [
    "## Results"
   ]
  },
  {
   "cell_type": "code",
   "execution_count": 158,
   "id": "1e66a762",
   "metadata": {},
   "outputs": [],
   "source": [
    "df = pd.read_csv(\"dataclean.csv\")\n",
    "df.time = pd.to_timedelta(df.time, unit=\"s\")"
   ]
  },
  {
   "cell_type": "code",
   "execution_count": 159,
   "id": "856e7b3a",
   "metadata": {},
   "outputs": [
    {
     "data": {
      "text/html": [
       "<div>\n",
       "<style scoped>\n",
       "    .dataframe tbody tr th:only-of-type {\n",
       "        vertical-align: middle;\n",
       "    }\n",
       "\n",
       "    .dataframe tbody tr th {\n",
       "        vertical-align: top;\n",
       "    }\n",
       "\n",
       "    .dataframe thead th {\n",
       "        text-align: right;\n",
       "    }\n",
       "</style>\n",
       "<table border=\"1\" class=\"dataframe\">\n",
       "  <thead>\n",
       "    <tr style=\"text-align: right;\">\n",
       "      <th></th>\n",
       "      <th>exam_set</th>\n",
       "      <th>llm_support</th>\n",
       "      <th>experiment_subject</th>\n",
       "      <th>test_ratio</th>\n",
       "      <th>grade</th>\n",
       "      <th>task_no</th>\n",
       "      <th>time</th>\n",
       "      <th>no_prompts</th>\n",
       "      <th>points</th>\n",
       "    </tr>\n",
       "  </thead>\n",
       "  <tbody>\n",
       "    <tr>\n",
       "      <th>0</th>\n",
       "      <td>2</td>\n",
       "      <td>True</td>\n",
       "      <td>1</td>\n",
       "      <td>100</td>\n",
       "      <td>12</td>\n",
       "      <td>1</td>\n",
       "      <td>0 days 00:01:47</td>\n",
       "      <td>1.0</td>\n",
       "      <td>20.0</td>\n",
       "    </tr>\n",
       "    <tr>\n",
       "      <th>1</th>\n",
       "      <td>2</td>\n",
       "      <td>True</td>\n",
       "      <td>1</td>\n",
       "      <td>100</td>\n",
       "      <td>12</td>\n",
       "      <td>2</td>\n",
       "      <td>0 days 00:01:31</td>\n",
       "      <td>1.0</td>\n",
       "      <td>10.0</td>\n",
       "    </tr>\n",
       "    <tr>\n",
       "      <th>2</th>\n",
       "      <td>2</td>\n",
       "      <td>True</td>\n",
       "      <td>1</td>\n",
       "      <td>100</td>\n",
       "      <td>12</td>\n",
       "      <td>3</td>\n",
       "      <td>0 days 00:01:09</td>\n",
       "      <td>1.0</td>\n",
       "      <td>15.0</td>\n",
       "    </tr>\n",
       "    <tr>\n",
       "      <th>3</th>\n",
       "      <td>2</td>\n",
       "      <td>True</td>\n",
       "      <td>1</td>\n",
       "      <td>100</td>\n",
       "      <td>12</td>\n",
       "      <td>4</td>\n",
       "      <td>0 days 00:01:54</td>\n",
       "      <td>1.0</td>\n",
       "      <td>20.0</td>\n",
       "    </tr>\n",
       "    <tr>\n",
       "      <th>4</th>\n",
       "      <td>2</td>\n",
       "      <td>True</td>\n",
       "      <td>1</td>\n",
       "      <td>100</td>\n",
       "      <td>12</td>\n",
       "      <td>5</td>\n",
       "      <td>0 days 00:02:26</td>\n",
       "      <td>0.0</td>\n",
       "      <td>15.0</td>\n",
       "    </tr>\n",
       "    <tr>\n",
       "      <th>...</th>\n",
       "      <td>...</td>\n",
       "      <td>...</td>\n",
       "      <td>...</td>\n",
       "      <td>...</td>\n",
       "      <td>...</td>\n",
       "      <td>...</td>\n",
       "      <td>...</td>\n",
       "      <td>...</td>\n",
       "      <td>...</td>\n",
       "    </tr>\n",
       "    <tr>\n",
       "      <th>427</th>\n",
       "      <td>1</td>\n",
       "      <td>True</td>\n",
       "      <td>24</td>\n",
       "      <td>89</td>\n",
       "      <td>12</td>\n",
       "      <td>5</td>\n",
       "      <td>0 days 00:02:27</td>\n",
       "      <td>1.0</td>\n",
       "      <td>15.0</td>\n",
       "    </tr>\n",
       "    <tr>\n",
       "      <th>428</th>\n",
       "      <td>1</td>\n",
       "      <td>True</td>\n",
       "      <td>24</td>\n",
       "      <td>89</td>\n",
       "      <td>12</td>\n",
       "      <td>6</td>\n",
       "      <td>0 days 00:00:42</td>\n",
       "      <td>1.0</td>\n",
       "      <td>10.0</td>\n",
       "    </tr>\n",
       "    <tr>\n",
       "      <th>429</th>\n",
       "      <td>1</td>\n",
       "      <td>True</td>\n",
       "      <td>24</td>\n",
       "      <td>89</td>\n",
       "      <td>12</td>\n",
       "      <td>7</td>\n",
       "      <td>0 days 00:04:50</td>\n",
       "      <td>1.0</td>\n",
       "      <td>15.0</td>\n",
       "    </tr>\n",
       "    <tr>\n",
       "      <th>430</th>\n",
       "      <td>1</td>\n",
       "      <td>True</td>\n",
       "      <td>24</td>\n",
       "      <td>89</td>\n",
       "      <td>12</td>\n",
       "      <td>8</td>\n",
       "      <td>0 days 00:02:33</td>\n",
       "      <td>1.0</td>\n",
       "      <td>20.0</td>\n",
       "    </tr>\n",
       "    <tr>\n",
       "      <th>431</th>\n",
       "      <td>1</td>\n",
       "      <td>True</td>\n",
       "      <td>24</td>\n",
       "      <td>89</td>\n",
       "      <td>12</td>\n",
       "      <td>9</td>\n",
       "      <td>0 days 00:03:20</td>\n",
       "      <td>1.0</td>\n",
       "      <td>15.0</td>\n",
       "    </tr>\n",
       "  </tbody>\n",
       "</table>\n",
       "<p>432 rows × 9 columns</p>\n",
       "</div>"
      ],
      "text/plain": [
       "     exam_set  llm_support  experiment_subject  test_ratio  grade  task_no  \\\n",
       "0           2         True                   1         100     12        1   \n",
       "1           2         True                   1         100     12        2   \n",
       "2           2         True                   1         100     12        3   \n",
       "3           2         True                   1         100     12        4   \n",
       "4           2         True                   1         100     12        5   \n",
       "..        ...          ...                 ...         ...    ...      ...   \n",
       "427         1         True                  24          89     12        5   \n",
       "428         1         True                  24          89     12        6   \n",
       "429         1         True                  24          89     12        7   \n",
       "430         1         True                  24          89     12        8   \n",
       "431         1         True                  24          89     12        9   \n",
       "\n",
       "               time  no_prompts  points  \n",
       "0   0 days 00:01:47         1.0    20.0  \n",
       "1   0 days 00:01:31         1.0    10.0  \n",
       "2   0 days 00:01:09         1.0    15.0  \n",
       "3   0 days 00:01:54         1.0    20.0  \n",
       "4   0 days 00:02:26         0.0    15.0  \n",
       "..              ...         ...     ...  \n",
       "427 0 days 00:02:27         1.0    15.0  \n",
       "428 0 days 00:00:42         1.0    10.0  \n",
       "429 0 days 00:04:50         1.0    15.0  \n",
       "430 0 days 00:02:33         1.0    20.0  \n",
       "431 0 days 00:03:20         1.0    15.0  \n",
       "\n",
       "[432 rows x 9 columns]"
      ]
     },
     "execution_count": 159,
     "metadata": {},
     "output_type": "execute_result"
    }
   ],
   "source": [
    "df"
   ]
  },
  {
   "cell_type": "markdown",
   "id": "e89e655b",
   "metadata": {
    "slideshow": {
     "slide_type": "slide"
    }
   },
   "source": [
    "###  RQ1: How does a local LLM affect students’ task completion time in an IP exam?"
   ]
  },
  {
   "cell_type": "code",
   "execution_count": 495,
   "id": "ce574ea6",
   "metadata": {},
   "outputs": [],
   "source": [
    "df_time_with_treatment = df[df.llm_support == True].groupby(\"experiment_subject\")[\"time\"].sum().reset_index()\n",
    "df_time_with_treatment.drop(columns=[\"experiment_subject\"], inplace=True)\n",
    "# Divisions and multiplications are to convert number of seconds in five minute bins for counting\n",
    "df_time_with_treatment.time  = df_time_with_treatment.time.dt.seconds // 60 // 5 * 5\n",
    "df_time_with_treatment.rename(columns={\"time\": \"with treatment\"}, inplace=True)\n",
    "df_time_wo_treatment = df[df.llm_support == False].groupby(\"experiment_subject\")[\"time\"].sum().reset_index()\n",
    "df_time_wo_treatment.drop(columns=[\"experiment_subject\"], inplace=True)\n",
    "df_time_wo_treatment.time = df_time_wo_treatment.time.dt.seconds // 60 // 5 * 5\n",
    "df_time_wo_treatment.rename(columns={\"time\": \"without treatment\"}, inplace=True)\n",
    "df_times = pd.merge(df_time_with_treatment, df_time_wo_treatment, left_index=True, right_index=True)"
   ]
  },
  {
   "cell_type": "code",
   "execution_count": 496,
   "id": "b9349fe3",
   "metadata": {},
   "outputs": [
    {
     "data": {
      "image/png": "[encoded data removed]",
      "text/plain": [
       "<Figure size 432x288 with 1 Axes>"
      ]
     },
     "metadata": {
      "needs_background": "light"
     },
     "output_type": "display_data"
    }
   ],
   "source": [
    "sns.histplot(df_times, color='blue', multiple=\"dodge\", kde=True, \n",
    "             binrange=(0, 35), binwidth=5, shrink=.8)\n",
    "plt.savefig(\"images/time_comparison.pdf\", bbox_inches=\"tight\")"
   ]
  },
  {
   "cell_type": "code",
   "execution_count": 500,
   "id": "c1411df4",
   "metadata": {},
   "outputs": [
    {
     "data": {
      "text/html": [
       "<div>\n",
       "<style scoped>\n",
       "    .dataframe tbody tr th:only-of-type {\n",
       "        vertical-align: middle;\n",
       "    }\n",
       "\n",
       "    .dataframe tbody tr th {\n",
       "        vertical-align: top;\n",
       "    }\n",
       "\n",
       "    .dataframe thead th {\n",
       "        text-align: right;\n",
       "    }\n",
       "</style>\n",
       "<table border=\"1\" class=\"dataframe\">\n",
       "  <thead>\n",
       "    <tr style=\"text-align: right;\">\n",
       "      <th></th>\n",
       "      <th>with treatment</th>\n",
       "      <th>without treatment</th>\n",
       "    </tr>\n",
       "  </thead>\n",
       "  <tbody>\n",
       "    <tr>\n",
       "      <th>count</th>\n",
       "      <td>24</td>\n",
       "      <td>24</td>\n",
       "    </tr>\n",
       "    <tr>\n",
       "      <th>mean</th>\n",
       "      <td>0 days 00:19:15.625000</td>\n",
       "      <td>0 days 00:25:08.083333333</td>\n",
       "    </tr>\n",
       "    <tr>\n",
       "      <th>std</th>\n",
       "      <td>0 days 00:06:26.521703367</td>\n",
       "      <td>0 days 00:03:23.501931764</td>\n",
       "    </tr>\n",
       "    <tr>\n",
       "      <th>min</th>\n",
       "      <td>0 days 00:08:58</td>\n",
       "      <td>0 days 00:18:26</td>\n",
       "    </tr>\n",
       "    <tr>\n",
       "      <th>25%</th>\n",
       "      <td>0 days 00:12:31.250000</td>\n",
       "      <td>0 days 00:22:47.750000</td>\n",
       "    </tr>\n",
       "    <tr>\n",
       "      <th>50%</th>\n",
       "      <td>0 days 00:19:58</td>\n",
       "      <td>0 days 00:26:42</td>\n",
       "    </tr>\n",
       "    <tr>\n",
       "      <th>75%</th>\n",
       "      <td>0 days 00:22:48.250000</td>\n",
       "      <td>0 days 00:27:43.250000</td>\n",
       "    </tr>\n",
       "    <tr>\n",
       "      <th>max</th>\n",
       "      <td>0 days 00:34:14</td>\n",
       "      <td>0 days 00:29:53</td>\n",
       "    </tr>\n",
       "  </tbody>\n",
       "</table>\n",
       "</div>"
      ],
      "text/plain": [
       "                  with treatment          without treatment\n",
       "count                         24                         24\n",
       "mean      0 days 00:19:15.625000  0 days 00:25:08.083333333\n",
       "std    0 days 00:06:26.521703367  0 days 00:03:23.501931764\n",
       "min              0 days 00:08:58            0 days 00:18:26\n",
       "25%       0 days 00:12:31.250000     0 days 00:22:47.750000\n",
       "50%              0 days 00:19:58            0 days 00:26:42\n",
       "75%       0 days 00:22:48.250000     0 days 00:27:43.250000\n",
       "max              0 days 00:34:14            0 days 00:29:53"
      ]
     },
     "execution_count": 500,
     "metadata": {},
     "output_type": "execute_result"
    }
   ],
   "source": [
    "df_time_with_treatment = df[df.llm_support == True].groupby(\"experiment_subject\")[\"time\"].sum().reset_index()\n",
    "df_time_with_treatment.drop(columns=[\"experiment_subject\"], inplace=True)\n",
    "df_time_with_treatment.rename(columns={\"time\": \"with treatment\"}, inplace=True)\n",
    "df_time_wo_treatment = df[df.llm_support == False].groupby(\"experiment_subject\")[\"time\"].sum().reset_index()\n",
    "df_time_wo_treatment.drop(columns=[\"experiment_subject\"], inplace=True)\n",
    "df_time_wo_treatment.rename(columns={\"time\": \"without treatment\"}, inplace=True)\n",
    "df_times = pd.merge(df_time_with_treatment, df_time_wo_treatment, left_index=True, right_index=True)\n",
    "df_times.describe()"
   ]
  },
  {
   "cell_type": "code",
   "execution_count": 503,
   "id": "ddff754c",
   "metadata": {},
   "outputs": [
    {
     "data": {
      "text/plain": [
       "MannwhitneyuResult(statistic=116.0, pvalue=0.0004056716724965548)"
      ]
     },
     "execution_count": 503,
     "metadata": {},
     "output_type": "execute_result"
    }
   ],
   "source": [
    "mannwhitneyu(df_times[\"with treatment\"], df_times[\"without treatment\"])"
   ]
  },
  {
   "cell_type": "code",
   "execution_count": 524,
   "id": "cb5c9385",
   "metadata": {},
   "outputs": [
    {
     "data": {
      "text/html": [
       "<div>\n",
       "<style scoped>\n",
       "    .dataframe tbody tr th:only-of-type {\n",
       "        vertical-align: middle;\n",
       "    }\n",
       "\n",
       "    .dataframe tbody tr th {\n",
       "        vertical-align: top;\n",
       "    }\n",
       "\n",
       "    .dataframe thead th {\n",
       "        text-align: right;\n",
       "    }\n",
       "</style>\n",
       "<table border=\"1\" class=\"dataframe\">\n",
       "  <thead>\n",
       "    <tr style=\"text-align: right;\">\n",
       "      <th></th>\n",
       "      <th>without treatment</th>\n",
       "      <th>with treatment</th>\n",
       "    </tr>\n",
       "  </thead>\n",
       "  <tbody>\n",
       "    <tr>\n",
       "      <th>count</th>\n",
       "      <td>24</td>\n",
       "      <td>24</td>\n",
       "    </tr>\n",
       "    <tr>\n",
       "      <th>mean</th>\n",
       "      <td>0 days 00:25:08.083333333</td>\n",
       "      <td>0 days 00:19:15.625000</td>\n",
       "    </tr>\n",
       "    <tr>\n",
       "      <th>std</th>\n",
       "      <td>0 days 00:03:23.501931764</td>\n",
       "      <td>0 days 00:06:26.521703367</td>\n",
       "    </tr>\n",
       "    <tr>\n",
       "      <th>min</th>\n",
       "      <td>0 days 00:18:26</td>\n",
       "      <td>0 days 00:08:58</td>\n",
       "    </tr>\n",
       "    <tr>\n",
       "      <th>25%</th>\n",
       "      <td>0 days 00:22:47.750000</td>\n",
       "      <td>0 days 00:12:31.250000</td>\n",
       "    </tr>\n",
       "    <tr>\n",
       "      <th>50%</th>\n",
       "      <td>0 days 00:26:42</td>\n",
       "      <td>0 days 00:19:58</td>\n",
       "    </tr>\n",
       "    <tr>\n",
       "      <th>75%</th>\n",
       "      <td>0 days 00:27:43.250000</td>\n",
       "      <td>0 days 00:22:48.250000</td>\n",
       "    </tr>\n",
       "    <tr>\n",
       "      <th>max</th>\n",
       "      <td>0 days 00:29:53</td>\n",
       "      <td>0 days 00:34:14</td>\n",
       "    </tr>\n",
       "  </tbody>\n",
       "</table>\n",
       "</div>"
      ],
      "text/plain": [
       "               without treatment             with treatment\n",
       "count                         24                         24\n",
       "mean   0 days 00:25:08.083333333     0 days 00:19:15.625000\n",
       "std    0 days 00:03:23.501931764  0 days 00:06:26.521703367\n",
       "min              0 days 00:18:26            0 days 00:08:58\n",
       "25%       0 days 00:22:47.750000     0 days 00:12:31.250000\n",
       "50%              0 days 00:26:42            0 days 00:19:58\n",
       "75%       0 days 00:27:43.250000     0 days 00:22:48.250000\n",
       "max              0 days 00:29:53            0 days 00:34:14"
      ]
     },
     "execution_count": 524,
     "metadata": {},
     "output_type": "execute_result"
    }
   ],
   "source": [
    "df_times[[\"without treatment\", \"with treatment\"]].describe()"
   ]
  },
  {
   "cell_type": "code",
   "execution_count": 536,
   "id": "b2dcdbdd",
   "metadata": {},
   "outputs": [
    {
     "data": {
      "text/plain": [
       "('decrease', ['without treatment', 'with treatment'], 23.37)"
      ]
     },
     "execution_count": 536,
     "metadata": {},
     "output_type": "execute_result"
    }
   ],
   "source": [
    "def compute_improvement_pct(df, where=\"mean\"):\n",
    "    \"\"\" Computes the percent-wise increase or decrease from withtout treatment to\n",
    "    with treatment, per default for the mean.\n",
    "    \n",
    "    Alternative values for where are \"median\", \"min\", \"max\", \"q1\", \"q2\"\n",
    "    \"\"\"\n",
    "    if where == \"median\":\n",
    "        where = \"50%\"\n",
    "    elif where == \"q1\":\n",
    "        where = \"25%\"\n",
    "    elif where == \"q3\":\n",
    "        where = \"75%\"\n",
    "    # requires that input dataframe has without and with treatment columns\n",
    "    col_order = [\"without treatment\", \"with treatment\"]\n",
    "    change_ratio = df[col_order].describe().loc[where].pct_change()[\"with treatment\"]\n",
    "    growth = \"increase\" if change_ratio >= 0 else \"decrease\"\n",
    "    change_in_pct = round(abs(change_ratio) * 100, 2)\n",
    "    return growth, col_order, change_in_pct\n",
    "\n",
    "compute_improvement_pct(df_times)"
   ]
  },
  {
   "cell_type": "markdown",
   "id": "ea2cb44c",
   "metadata": {},
   "source": [
    "###  RQ2: How does a local LLM affect correctness of students’ source code in an IP exam?\n",
    "\n",
    "**TODO**: Run again with fixed and updated imput data"
   ]
  },
  {
   "cell_type": "code",
   "execution_count": 492,
   "id": "d4efbd1e",
   "metadata": {},
   "outputs": [],
   "source": [
    "df_test_ratios_with_treatment = df[df.llm_support == True].groupby(\"experiment_subject\")[\"test_ratio\"].first().reset_index()\n",
    "df_test_ratios_wo_treatment = df[df.llm_support == False].groupby(\"experiment_subject\")[\"test_ratio\"].first().reset_index()\n",
    "df_test_ratios = pd.merge(df_test_ratios_with_treatment, df_test_ratios_wo_treatment, on=\"experiment_subject\")\n",
    "df_test_ratios.rename(columns={\"test_ratio_x\": \"with treatment\", \"test_ratio_y\": \"without treatment\"}, inplace=True)\n",
    "df_test_ratios.drop(columns=[\"experiment_subject\"], inplace=True)"
   ]
  },
  {
   "cell_type": "code",
   "execution_count": 494,
   "id": "3d96d3a5",
   "metadata": {},
   "outputs": [
    {
     "data": {
      "image/png": "[encoded data removed]",
      "text/plain": [
       "<Figure size 432x288 with 1 Axes>"
      ]
     },
     "metadata": {
      "needs_background": "light"
     },
     "output_type": "display_data"
    }
   ],
   "source": [
    "sns.histplot(df_test_ratios, color='blue', multiple=\"dodge\", kde=True, \n",
    "             binrange=(0, 100), binwidth=10, shrink=.8)\n",
    "plt.savefig(\"images/test_ratio_comparison.pdf\", bbox_inches=\"tight\")"
   ]
  },
  {
   "cell_type": "code",
   "execution_count": 505,
   "id": "563ad514",
   "metadata": {},
   "outputs": [
    {
     "data": {
      "text/html": [
       "<div>\n",
       "<style scoped>\n",
       "    .dataframe tbody tr th:only-of-type {\n",
       "        vertical-align: middle;\n",
       "    }\n",
       "\n",
       "    .dataframe tbody tr th {\n",
       "        vertical-align: top;\n",
       "    }\n",
       "\n",
       "    .dataframe thead th {\n",
       "        text-align: right;\n",
       "    }\n",
       "</style>\n",
       "<table border=\"1\" class=\"dataframe\">\n",
       "  <thead>\n",
       "    <tr style=\"text-align: right;\">\n",
       "      <th></th>\n",
       "      <th>with treatment</th>\n",
       "      <th>without treatment</th>\n",
       "    </tr>\n",
       "  </thead>\n",
       "  <tbody>\n",
       "    <tr>\n",
       "      <th>count</th>\n",
       "      <td>24.000000</td>\n",
       "      <td>24.000000</td>\n",
       "    </tr>\n",
       "    <tr>\n",
       "      <th>mean</th>\n",
       "      <td>95.500000</td>\n",
       "      <td>66.291667</td>\n",
       "    </tr>\n",
       "    <tr>\n",
       "      <th>std</th>\n",
       "      <td>8.707818</td>\n",
       "      <td>27.724544</td>\n",
       "    </tr>\n",
       "    <tr>\n",
       "      <th>min</th>\n",
       "      <td>75.000000</td>\n",
       "      <td>12.000000</td>\n",
       "    </tr>\n",
       "    <tr>\n",
       "      <th>25%</th>\n",
       "      <td>89.000000</td>\n",
       "      <td>54.750000</td>\n",
       "    </tr>\n",
       "    <tr>\n",
       "      <th>50%</th>\n",
       "      <td>96.000000</td>\n",
       "      <td>69.000000</td>\n",
       "    </tr>\n",
       "    <tr>\n",
       "      <th>75%</th>\n",
       "      <td>100.750000</td>\n",
       "      <td>90.000000</td>\n",
       "    </tr>\n",
       "    <tr>\n",
       "      <th>max</th>\n",
       "      <td>108.000000</td>\n",
       "      <td>100.000000</td>\n",
       "    </tr>\n",
       "  </tbody>\n",
       "</table>\n",
       "</div>"
      ],
      "text/plain": [
       "       with treatment  without treatment\n",
       "count       24.000000          24.000000\n",
       "mean        95.500000          66.291667\n",
       "std          8.707818          27.724544\n",
       "min         75.000000          12.000000\n",
       "25%         89.000000          54.750000\n",
       "50%         96.000000          69.000000\n",
       "75%        100.750000          90.000000\n",
       "max        108.000000         100.000000"
      ]
     },
     "execution_count": 505,
     "metadata": {},
     "output_type": "execute_result"
    }
   ],
   "source": [
    "df_test_ratios.describe()"
   ]
  },
  {
   "cell_type": "code",
   "execution_count": 506,
   "id": "c582afeb",
   "metadata": {},
   "outputs": [
    {
     "data": {
      "text/plain": [
       "MannwhitneyuResult(statistic=491.5, pvalue=2.6928567991721185e-05)"
      ]
     },
     "execution_count": 506,
     "metadata": {},
     "output_type": "execute_result"
    }
   ],
   "source": [
    "mannwhitneyu(df_test_ratios[\"with treatment\"], df_test_ratios[\"without treatment\"])"
   ]
  },
  {
   "cell_type": "code",
   "execution_count": 537,
   "id": "1e05dc75",
   "metadata": {},
   "outputs": [
    {
     "data": {
      "text/plain": [
       "('increase', ['without treatment', 'with treatment'], 44.06)"
      ]
     },
     "execution_count": 537,
     "metadata": {},
     "output_type": "execute_result"
    }
   ],
   "source": [
    "compute_improvement_pct(df_test_ratios)"
   ]
  },
  {
   "cell_type": "markdown",
   "id": "47e51ef6",
   "metadata": {},
   "source": [
    "### RQ3: How does a local LLM affect students’ grades in an IP exam?"
   ]
  },
  {
   "cell_type": "code",
   "execution_count": 369,
   "id": "184d5a5c",
   "metadata": {},
   "outputs": [],
   "source": [
    "df_points_with_treatment = df[df.llm_support == True].groupby(\"experiment_subject\")[\"points\"].sum().reset_index()\n",
    "df_points_wo_treatment = df[df.llm_support == False].groupby(\"experiment_subject\")[\"points\"].sum().reset_index()\n",
    "df_points = pd.merge(df_points_with_treatment, df_points_wo_treatment, on=\"experiment_subject\", how=\"outer\")\n",
    "df_points.rename(columns={\"points_x\": \"with treatment\", \"points_y\": \"without treatment\"}, inplace=True)\n",
    "df_points.drop(columns=[\"experiment_subject\"], inplace=True)"
   ]
  },
  {
   "cell_type": "code",
   "execution_count": 439,
   "id": "0ba0fdcc",
   "metadata": {},
   "outputs": [
    {
     "data": {
      "image/png": "[encoded data removed]",
      "text/plain": [
       "<Figure size 432x288 with 1 Axes>"
      ]
     },
     "metadata": {
      "needs_background": "light"
     },
     "output_type": "display_data"
    }
   ],
   "source": [
    "sns.histplot(df_points, color='blue', multiple=\"dodge\", kde=True, \n",
    "             binrange=(min_points, max_points), binwidth=binwidth,\n",
    "             shrink=.8)\n",
    "plt.savefig(\"images/point_comparison.pdf\", bbox_inches=\"tight\")"
   ]
  },
  {
   "cell_type": "code",
   "execution_count": 507,
   "id": "ea2f386d",
   "metadata": {},
   "outputs": [
    {
     "data": {
      "text/html": [
       "<div>\n",
       "<style scoped>\n",
       "    .dataframe tbody tr th:only-of-type {\n",
       "        vertical-align: middle;\n",
       "    }\n",
       "\n",
       "    .dataframe tbody tr th {\n",
       "        vertical-align: top;\n",
       "    }\n",
       "\n",
       "    .dataframe thead th {\n",
       "        text-align: right;\n",
       "    }\n",
       "</style>\n",
       "<table border=\"1\" class=\"dataframe\">\n",
       "  <thead>\n",
       "    <tr style=\"text-align: right;\">\n",
       "      <th></th>\n",
       "      <th>with treatment</th>\n",
       "      <th>without treatment</th>\n",
       "    </tr>\n",
       "  </thead>\n",
       "  <tbody>\n",
       "    <tr>\n",
       "      <th>count</th>\n",
       "      <td>24.000000</td>\n",
       "      <td>24.000000</td>\n",
       "    </tr>\n",
       "    <tr>\n",
       "      <th>mean</th>\n",
       "      <td>111.583333</td>\n",
       "      <td>84.500000</td>\n",
       "    </tr>\n",
       "    <tr>\n",
       "      <th>std</th>\n",
       "      <td>8.208779</td>\n",
       "      <td>26.362028</td>\n",
       "    </tr>\n",
       "    <tr>\n",
       "      <th>min</th>\n",
       "      <td>97.000000</td>\n",
       "      <td>14.000000</td>\n",
       "    </tr>\n",
       "    <tr>\n",
       "      <th>25%</th>\n",
       "      <td>104.250000</td>\n",
       "      <td>73.500000</td>\n",
       "    </tr>\n",
       "    <tr>\n",
       "      <th>50%</th>\n",
       "      <td>113.500000</td>\n",
       "      <td>87.500000</td>\n",
       "    </tr>\n",
       "    <tr>\n",
       "      <th>75%</th>\n",
       "      <td>118.500000</td>\n",
       "      <td>102.000000</td>\n",
       "    </tr>\n",
       "    <tr>\n",
       "      <th>max</th>\n",
       "      <td>120.000000</td>\n",
       "      <td>119.000000</td>\n",
       "    </tr>\n",
       "  </tbody>\n",
       "</table>\n",
       "</div>"
      ],
      "text/plain": [
       "       with treatment  without treatment\n",
       "count       24.000000          24.000000\n",
       "mean       111.583333          84.500000\n",
       "std          8.208779          26.362028\n",
       "min         97.000000          14.000000\n",
       "25%        104.250000          73.500000\n",
       "50%        113.500000          87.500000\n",
       "75%        118.500000         102.000000\n",
       "max        120.000000         119.000000"
      ]
     },
     "execution_count": 507,
     "metadata": {},
     "output_type": "execute_result"
    }
   ],
   "source": [
    "df_points.describe()"
   ]
  },
  {
   "cell_type": "code",
   "execution_count": 508,
   "id": "fbde4832",
   "metadata": {},
   "outputs": [
    {
     "data": {
      "text/plain": [
       "MannwhitneyuResult(statistic=494.0, pvalue=2.1943369188347926e-05)"
      ]
     },
     "execution_count": 508,
     "metadata": {},
     "output_type": "execute_result"
    }
   ],
   "source": [
    "mannwhitneyu(df_points[\"with treatment\"], df_points[\"without treatment\"])"
   ]
  },
  {
   "cell_type": "code",
   "execution_count": 538,
   "id": "170acea9",
   "metadata": {},
   "outputs": [
    {
     "data": {
      "text/plain": [
       "('increase', ['without treatment', 'with treatment'], 32.05)"
      ]
     },
     "execution_count": 538,
     "metadata": {},
     "output_type": "execute_result"
    }
   ],
   "source": [
    "compute_improvement_pct(df_points)"
   ]
  },
  {
   "cell_type": "code",
   "execution_count": 462,
   "id": "195777da",
   "metadata": {},
   "outputs": [
    {
     "data": {
      "image/png": "[encoded data removed]",
      "text/plain": [
       "<Figure size 432x288 with 1 Axes>"
      ]
     },
     "metadata": {
      "needs_background": "light"
     },
     "output_type": "display_data"
    }
   ],
   "source": [
    "df_grades_with_treatment = df[df.llm_support == True].groupby(\"experiment_subject\")[\"grade\"].first().reset_index()\n",
    "df_grades_wo_treatment = df[df.llm_support == False].groupby(\"experiment_subject\")[\"grade\"].first().reset_index()\n",
    "df_grades = pd.merge(df_grades_with_treatment, df_grades_wo_treatment, on=\"experiment_subject\") # , left_index=True, right_index=True)\n",
    "df_grades.rename(columns={\"grade_x\": \"with treatment\", \"grade_y\": \"without treatment\"}, inplace=True)\n",
    "df_grades.drop(columns=[\"experiment_subject\"], inplace=True)\n",
    "\n",
    "sns.histplot(df_grades, color='blue', multiple=\"dodge\", kde=True, \n",
    "             binrange=(-3, 12), binwidth=1, shrink=.8)\n",
    "plt.savefig(\"images/grade_comparison.pdf\", bbox_inches=\"tight\")"
   ]
  },
  {
   "cell_type": "code",
   "execution_count": 509,
   "id": "fe1e4bba",
   "metadata": {},
   "outputs": [
    {
     "data": {
      "text/html": [
       "<div>\n",
       "<style scoped>\n",
       "    .dataframe tbody tr th:only-of-type {\n",
       "        vertical-align: middle;\n",
       "    }\n",
       "\n",
       "    .dataframe tbody tr th {\n",
       "        vertical-align: top;\n",
       "    }\n",
       "\n",
       "    .dataframe thead th {\n",
       "        text-align: right;\n",
       "    }\n",
       "</style>\n",
       "<table border=\"1\" class=\"dataframe\">\n",
       "  <thead>\n",
       "    <tr style=\"text-align: right;\">\n",
       "      <th></th>\n",
       "      <th>with treatment</th>\n",
       "      <th>without treatment</th>\n",
       "    </tr>\n",
       "  </thead>\n",
       "  <tbody>\n",
       "    <tr>\n",
       "      <th>count</th>\n",
       "      <td>24.000000</td>\n",
       "      <td>24.000000</td>\n",
       "    </tr>\n",
       "    <tr>\n",
       "      <th>mean</th>\n",
       "      <td>11.416667</td>\n",
       "      <td>7.791667</td>\n",
       "    </tr>\n",
       "    <tr>\n",
       "      <th>std</th>\n",
       "      <td>0.928611</td>\n",
       "      <td>4.032252</td>\n",
       "    </tr>\n",
       "    <tr>\n",
       "      <th>min</th>\n",
       "      <td>10.000000</td>\n",
       "      <td>-3.000000</td>\n",
       "    </tr>\n",
       "    <tr>\n",
       "      <th>25%</th>\n",
       "      <td>10.000000</td>\n",
       "      <td>6.250000</td>\n",
       "    </tr>\n",
       "    <tr>\n",
       "      <th>50%</th>\n",
       "      <td>12.000000</td>\n",
       "      <td>8.500000</td>\n",
       "    </tr>\n",
       "    <tr>\n",
       "      <th>75%</th>\n",
       "      <td>12.000000</td>\n",
       "      <td>10.500000</td>\n",
       "    </tr>\n",
       "    <tr>\n",
       "      <th>max</th>\n",
       "      <td>12.000000</td>\n",
       "      <td>12.000000</td>\n",
       "    </tr>\n",
       "  </tbody>\n",
       "</table>\n",
       "</div>"
      ],
      "text/plain": [
       "       with treatment  without treatment\n",
       "count       24.000000          24.000000\n",
       "mean        11.416667           7.791667\n",
       "std          0.928611           4.032252\n",
       "min         10.000000          -3.000000\n",
       "25%         10.000000           6.250000\n",
       "50%         12.000000           8.500000\n",
       "75%         12.000000          10.500000\n",
       "max         12.000000          12.000000"
      ]
     },
     "execution_count": 509,
     "metadata": {},
     "output_type": "execute_result"
    }
   ],
   "source": [
    "df_grades.describe()"
   ]
  },
  {
   "cell_type": "code",
   "execution_count": 510,
   "id": "6c900e53",
   "metadata": {},
   "outputs": [
    {
     "data": {
      "text/plain": [
       "MannwhitneyuResult(statistic=462.0, pvalue=0.00012301770813022747)"
      ]
     },
     "execution_count": 510,
     "metadata": {},
     "output_type": "execute_result"
    }
   ],
   "source": [
    "mannwhitneyu(df_grades[\"with treatment\"], df_grades[\"without treatment\"])"
   ]
  },
  {
   "cell_type": "code",
   "execution_count": 539,
   "id": "5436979c",
   "metadata": {},
   "outputs": [
    {
     "data": {
      "text/plain": [
       "('increase', ['without treatment', 'with treatment'], 46.52)"
      ]
     },
     "execution_count": 539,
     "metadata": {},
     "output_type": "execute_result"
    }
   ],
   "source": [
    "compute_improvement_pct(df_grades)"
   ]
  },
  {
   "cell_type": "markdown",
   "id": "bacae664",
   "metadata": {},
   "source": [
    "### RQ4: How does the way students prompt a local LLM affect their grade?"
   ]
  },
  {
   "cell_type": "code",
   "execution_count": 469,
   "id": "6a0d77ee",
   "metadata": {},
   "outputs": [
    {
     "data": {
      "image/png": "[encoded data removed]",
      "text/plain": [
       "<Figure size 432x288 with 1 Axes>"
      ]
     },
     "metadata": {
      "needs_background": "light"
     },
     "output_type": "display_data"
    }
   ],
   "source": [
    "df_prompts = df[df.llm_support == True].groupby(\"experiment_subject\")[\"no_prompts\"].sum().reset_index()\n",
    "df_prompts.drop(columns=[\"experiment_subject\"], inplace=True)\n",
    "\n",
    "sns.histplot(df_prompts, color='blue', multiple=\"dodge\", kde=True, \n",
    "             binrange=(0, df_prompts.max().max()), binwidth=1, shrink=.8)\n",
    "plt.savefig(\"images/prompt_histogram.pdf\", bbox_inches=\"tight\")"
   ]
  },
  {
   "cell_type": "code",
   "execution_count": 484,
   "id": "af66b5fe",
   "metadata": {},
   "outputs": [
    {
     "data": {
      "image/png": "[encoded data removed]",
      "text/plain": [
       "<Figure size 432x288 with 1 Axes>"
      ]
     },
     "metadata": {
      "needs_background": "light"
     },
     "output_type": "display_data"
    }
   ],
   "source": [
    "df_prompts = df[df.llm_support == True].groupby(\"experiment_subject\")[\"no_prompts\"].sum().reset_index()\n",
    "df_prompts_grades = pd.merge(df_prompts, df_grades_with_treatment, on=\"experiment_subject\")\n",
    "df_prompts_grades.drop(columns=[\"experiment_subject\"], inplace=True)\n",
    "sns.scatterplot(data=df_prompts_grades, x=\"no_prompts\", y=\"grade\")\n",
    "plt.ylim(-3, 13)\n",
    "plt.savefig(\"images/grade_prompt_comparison.pdf\", bbox_inches=\"tight\")"
   ]
  },
  {
   "cell_type": "code",
   "execution_count": 486,
   "id": "bab69dec",
   "metadata": {},
   "outputs": [
    {
     "data": {
      "text/plain": [
       "SpearmanrResult(correlation=0.2560509901961664, pvalue=0.2271685140863654)"
      ]
     },
     "execution_count": 486,
     "metadata": {},
     "output_type": "execute_result"
    }
   ],
   "source": [
    "spearmanr(df_prompts_grades.no_prompts, df_prompts_grades.grade)"
   ]
  }
 ],
 "metadata": {
  "kernelspec": {
   "display_name": "Python 3 (ipykernel)",
   "language": "python",
   "name": "python3"
  },
  "language_info": {
   "codemirror_mode": {
    "name": "ipython",
    "version": 3
   },
   "file_extension": ".py",
   "mimetype": "text/x-python",
   "name": "python",
   "nbconvert_exporter": "python",
   "pygments_lexer": "ipython3",
   "version": "3.9.12"
  }
 },
 "nbformat": 4,
 "nbformat_minor": 5
}
