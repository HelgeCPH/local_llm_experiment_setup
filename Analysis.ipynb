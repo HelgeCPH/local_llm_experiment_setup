{
 "cells": [
  {
   "cell_type": "markdown",
   "id": "5200c630",
   "metadata": {},
   "source": [
    "# Data Analysis Notebook\n",
    "\n",
    "## What is this?\n",
    "\n",
    "This notebook contains all code that is used to analysis the data for the paper \"Faster, More Accurate Results, and Better Grades: The Effect of a Local LLM in an Introductory Programming Exam\".\n",
    "\n",
    "## How to use it?\n",
    "\n",
    "If you want to reproduce the results and figures reported in the paper, execute each code cell in consecutive order. In particular, the code cells in section \"Data Cleansing\" have to be executed _before_ the remaining code cells!"
   ]
  },
  {
   "cell_type": "code",
   "execution_count": 176,
   "id": "0d9b474c",
   "metadata": {},
   "outputs": [],
   "source": [
    "import pandas as pd\n",
    "import numpy as np\n",
    "import matplotlib.pyplot as plt\n",
    "import seaborn as sns\n",
    "import scipy.stats as stats\n",
    "from scipy.stats import mannwhitneyu, spearmanr, anderson"
   ]
  },
  {
   "cell_type": "code",
   "execution_count": 215,
   "id": "e66660fc",
   "metadata": {},
   "outputs": [],
   "source": [
    "df = pd.read_csv(\"data.csv\", delimiter=\";\")"
   ]
  },
  {
   "cell_type": "code",
   "execution_count": 216,
   "id": "74b5e708",
   "metadata": {},
   "outputs": [
    {
     "data": {
      "text/plain": [
       "count     48.000000\n",
       "mean      80.979167\n",
       "std       24.523102\n",
       "min       12.000000\n",
       "25%       73.750000\n",
       "50%       90.000000\n",
       "75%      100.000000\n",
       "max      100.000000\n",
       "Name: Unit Test, dtype: float64"
      ]
     },
     "execution_count": 216,
     "metadata": {},
     "output_type": "execute_result"
    }
   ],
   "source": [
    "df[\"Unit Test\"].describe()"
   ]
  },
  {
   "cell_type": "markdown",
   "id": "27c92ba5",
   "metadata": {},
   "source": [
    "## Data Cleansing\n",
    "\n",
    "The columns `Task x`, contain the time (in seconds) it takes an experiment subject to solve the respective task `x`. In case two space separated integer values are recorded in this column, the first one denotes the time in seconds and the second records the number of prompts that were used.\n",
    "\n",
    "Since this is a dense notation, we split them into separate columns to facilitate later analysis."
   ]
  },
  {
   "cell_type": "code",
   "execution_count": 3,
   "id": "3a7b0ec4",
   "metadata": {},
   "outputs": [],
   "source": [
    "# Generate a separate CSV file only for the demographics data\n",
    "demographics_questions = [\n",
    "    \"In what subject was your bachelor?\", \n",
    "    \"How many years of developer experience do you have?\",\n",
    "    \"How many months is it since you coded in Java?\", \n",
    "    \"How many years of experience do you have with Visual Studio Code?\",\n",
    "    \"How much experience in years do you have in using an LLM(ChatGPT, CoPilot, Gemini)?\",\n",
    "    \"Which operating system do you usually use\"\n",
    "]\n",
    "df[[\"Participant\", ] + demographics_questions].dropna().to_csv(\"demographics.csv\", index=False)"
   ]
  },
  {
   "cell_type": "code",
   "execution_count": 217,
   "id": "8e5cfa92",
   "metadata": {},
   "outputs": [],
   "source": [
    "%%bash\n",
    "# Generate a separate CSV file only for the numerical data\n",
    "python datacleansing.py\n",
    "# After this step, a file dataclean.csv is available"
   ]
  },
  {
   "cell_type": "markdown",
   "id": "1c03290b",
   "metadata": {},
   "source": [
    "## Demographics"
   ]
  },
  {
   "cell_type": "code",
   "execution_count": 5,
   "id": "46f0a88e",
   "metadata": {},
   "outputs": [
    {
     "data": {
      "text/html": [
       "<div>\n",
       "<style scoped>\n",
       "    .dataframe tbody tr th:only-of-type {\n",
       "        vertical-align: middle;\n",
       "    }\n",
       "\n",
       "    .dataframe tbody tr th {\n",
       "        vertical-align: top;\n",
       "    }\n",
       "\n",
       "    .dataframe thead th {\n",
       "        text-align: right;\n",
       "    }\n",
       "</style>\n",
       "<table border=\"1\" class=\"dataframe\">\n",
       "  <thead>\n",
       "    <tr style=\"text-align: right;\">\n",
       "      <th></th>\n",
       "      <th>Participant</th>\n",
       "      <th>In what subject was your bachelor?</th>\n",
       "      <th>How many years of developer experience do you have?</th>\n",
       "      <th>How many months is it since you coded in Java?</th>\n",
       "      <th>How many years of experience do you have with Visual Studio Code?</th>\n",
       "      <th>How much experience in years do you have in using an LLM(ChatGPT, CoPilot, Gemini)?</th>\n",
       "      <th>Which operating system do you usually use</th>\n",
       "    </tr>\n",
       "  </thead>\n",
       "  <tbody>\n",
       "    <tr>\n",
       "      <th>0</th>\n",
       "      <td>1</td>\n",
       "      <td>Business Economics &amp; Information System</td>\n",
       "      <td>4.0</td>\n",
       "      <td>0.0</td>\n",
       "      <td>2.0</td>\n",
       "      <td>2.0</td>\n",
       "      <td>MacOS</td>\n",
       "    </tr>\n",
       "    <tr>\n",
       "      <th>1</th>\n",
       "      <td>2</td>\n",
       "      <td>International sales and marketing</td>\n",
       "      <td>2.0</td>\n",
       "      <td>0.0</td>\n",
       "      <td>2.0</td>\n",
       "      <td>0.5</td>\n",
       "      <td>Windows</td>\n",
       "    </tr>\n",
       "    <tr>\n",
       "      <th>2</th>\n",
       "      <td>3</td>\n",
       "      <td>Innovation and Entrepreneurship</td>\n",
       "      <td>1.0</td>\n",
       "      <td>0.0</td>\n",
       "      <td>1.0</td>\n",
       "      <td>1.0</td>\n",
       "      <td>MacOS</td>\n",
       "    </tr>\n",
       "    <tr>\n",
       "      <th>3</th>\n",
       "      <td>4</td>\n",
       "      <td>Visual Design (Game and Interaction Design)</td>\n",
       "      <td>4.0</td>\n",
       "      <td>2.0</td>\n",
       "      <td>2.0</td>\n",
       "      <td>0.0</td>\n",
       "      <td>Windows</td>\n",
       "    </tr>\n",
       "    <tr>\n",
       "      <th>4</th>\n",
       "      <td>5</td>\n",
       "      <td>Communication &amp; IT</td>\n",
       "      <td>2.0</td>\n",
       "      <td>3.0</td>\n",
       "      <td>2.0</td>\n",
       "      <td>1.0</td>\n",
       "      <td>MacOS</td>\n",
       "    </tr>\n",
       "    <tr>\n",
       "      <th>5</th>\n",
       "      <td>6</td>\n",
       "      <td>Physiotherapy</td>\n",
       "      <td>2.0</td>\n",
       "      <td>3.0</td>\n",
       "      <td>2.0</td>\n",
       "      <td>1.5</td>\n",
       "      <td>MacOS</td>\n",
       "    </tr>\n",
       "    <tr>\n",
       "      <th>6</th>\n",
       "      <td>7</td>\n",
       "      <td>Global Business Informatics</td>\n",
       "      <td>2.0</td>\n",
       "      <td>9.0</td>\n",
       "      <td>2.0</td>\n",
       "      <td>1.0</td>\n",
       "      <td>Windows</td>\n",
       "    </tr>\n",
       "    <tr>\n",
       "      <th>7</th>\n",
       "      <td>8</td>\n",
       "      <td>Literaturvidenskab</td>\n",
       "      <td>2.0</td>\n",
       "      <td>12.0</td>\n",
       "      <td>2.5</td>\n",
       "      <td>1.5</td>\n",
       "      <td>MacOS</td>\n",
       "    </tr>\n",
       "    <tr>\n",
       "      <th>8</th>\n",
       "      <td>9</td>\n",
       "      <td>Global Business Informatics</td>\n",
       "      <td>2.0</td>\n",
       "      <td>13.0</td>\n",
       "      <td>2.0</td>\n",
       "      <td>1.0</td>\n",
       "      <td>MacOS</td>\n",
       "    </tr>\n",
       "    <tr>\n",
       "      <th>9</th>\n",
       "      <td>10</td>\n",
       "      <td>Economy</td>\n",
       "      <td>1.5</td>\n",
       "      <td>8.0</td>\n",
       "      <td>1.5</td>\n",
       "      <td>0.5</td>\n",
       "      <td>MacOS</td>\n",
       "    </tr>\n",
       "    <tr>\n",
       "      <th>10</th>\n",
       "      <td>11</td>\n",
       "      <td>Modern India and South Asia Studies</td>\n",
       "      <td>1.5</td>\n",
       "      <td>8.0</td>\n",
       "      <td>1.5</td>\n",
       "      <td>0.5</td>\n",
       "      <td>Windows</td>\n",
       "    </tr>\n",
       "    <tr>\n",
       "      <th>11</th>\n",
       "      <td>12</td>\n",
       "      <td>Digital Design and Interactive Technologies</td>\n",
       "      <td>1.5</td>\n",
       "      <td>2.0</td>\n",
       "      <td>6.0</td>\n",
       "      <td>1.5</td>\n",
       "      <td>Windows</td>\n",
       "    </tr>\n",
       "    <tr>\n",
       "      <th>12</th>\n",
       "      <td>13</td>\n",
       "      <td>Sound Design</td>\n",
       "      <td>2.0</td>\n",
       "      <td>1.0</td>\n",
       "      <td>3.0</td>\n",
       "      <td>1.0</td>\n",
       "      <td>MacOS</td>\n",
       "    </tr>\n",
       "    <tr>\n",
       "      <th>13</th>\n",
       "      <td>14</td>\n",
       "      <td>Bachelor of education</td>\n",
       "      <td>0.0</td>\n",
       "      <td>7.0</td>\n",
       "      <td>1.5</td>\n",
       "      <td>1.0</td>\n",
       "      <td>Windows</td>\n",
       "    </tr>\n",
       "    <tr>\n",
       "      <th>14</th>\n",
       "      <td>15</td>\n",
       "      <td>Energy Engineering</td>\n",
       "      <td>2.0</td>\n",
       "      <td>12.0</td>\n",
       "      <td>2.0</td>\n",
       "      <td>1.0</td>\n",
       "      <td>Linux</td>\n",
       "    </tr>\n",
       "    <tr>\n",
       "      <th>15</th>\n",
       "      <td>16</td>\n",
       "      <td>Business economics &amp; IT</td>\n",
       "      <td>3.0</td>\n",
       "      <td>0.0</td>\n",
       "      <td>3.0</td>\n",
       "      <td>1.0</td>\n",
       "      <td>MacOS</td>\n",
       "    </tr>\n",
       "    <tr>\n",
       "      <th>16</th>\n",
       "      <td>17</td>\n",
       "      <td>Business</td>\n",
       "      <td>2.0</td>\n",
       "      <td>3.0</td>\n",
       "      <td>2.0</td>\n",
       "      <td>1.0</td>\n",
       "      <td>Windows</td>\n",
       "    </tr>\n",
       "    <tr>\n",
       "      <th>17</th>\n",
       "      <td>18</td>\n",
       "      <td>Gastronomy (Food Science and Agriculture)</td>\n",
       "      <td>1.5</td>\n",
       "      <td>0.0</td>\n",
       "      <td>1.5</td>\n",
       "      <td>1.0</td>\n",
       "      <td>MacOS</td>\n",
       "    </tr>\n",
       "    <tr>\n",
       "      <th>18</th>\n",
       "      <td>19</td>\n",
       "      <td>International Business in Asia</td>\n",
       "      <td>1.0</td>\n",
       "      <td>6.0</td>\n",
       "      <td>1.5</td>\n",
       "      <td>1.0</td>\n",
       "      <td>MacOS</td>\n",
       "    </tr>\n",
       "    <tr>\n",
       "      <th>19</th>\n",
       "      <td>20</td>\n",
       "      <td>IT &amp; Communication</td>\n",
       "      <td>2.0</td>\n",
       "      <td>0.0</td>\n",
       "      <td>3.0</td>\n",
       "      <td>1.0</td>\n",
       "      <td>MacOS</td>\n",
       "    </tr>\n",
       "    <tr>\n",
       "      <th>20</th>\n",
       "      <td>21</td>\n",
       "      <td>Radiograph</td>\n",
       "      <td>1.5</td>\n",
       "      <td>6.0</td>\n",
       "      <td>1.5</td>\n",
       "      <td>1.0</td>\n",
       "      <td>MacOS</td>\n",
       "    </tr>\n",
       "    <tr>\n",
       "      <th>21</th>\n",
       "      <td>22</td>\n",
       "      <td>Software Design</td>\n",
       "      <td>4.0</td>\n",
       "      <td>12.0</td>\n",
       "      <td>3.0</td>\n",
       "      <td>1.0</td>\n",
       "      <td>MacOS</td>\n",
       "    </tr>\n",
       "    <tr>\n",
       "      <th>22</th>\n",
       "      <td>23</td>\n",
       "      <td>Communication</td>\n",
       "      <td>1.0</td>\n",
       "      <td>6.0</td>\n",
       "      <td>1.5</td>\n",
       "      <td>1.0</td>\n",
       "      <td>Windows</td>\n",
       "    </tr>\n",
       "    <tr>\n",
       "      <th>23</th>\n",
       "      <td>24</td>\n",
       "      <td>International Business</td>\n",
       "      <td>1.0</td>\n",
       "      <td>3.0</td>\n",
       "      <td>1.5</td>\n",
       "      <td>1.0</td>\n",
       "      <td>MacOS</td>\n",
       "    </tr>\n",
       "  </tbody>\n",
       "</table>\n",
       "</div>"
      ],
      "text/plain": [
       "    Participant           In what subject was your bachelor?  \\\n",
       "0             1     Business Economics & Information System    \n",
       "1             2            International sales and marketing   \n",
       "2             3             Innovation and Entrepreneurship    \n",
       "3             4  Visual Design (Game and Interaction Design)   \n",
       "4             5                           Communication & IT   \n",
       "5             6                                Physiotherapy   \n",
       "6             7                  Global Business Informatics   \n",
       "7             8                           Literaturvidenskab   \n",
       "8             9                  Global Business Informatics   \n",
       "9            10                                      Economy   \n",
       "10           11          Modern India and South Asia Studies   \n",
       "11           12  Digital Design and Interactive Technologies   \n",
       "12           13                                 Sound Design   \n",
       "13           14                        Bachelor of education   \n",
       "14           15                           Energy Engineering   \n",
       "15           16                      Business economics & IT   \n",
       "16           17                                     Business   \n",
       "17           18    Gastronomy (Food Science and Agriculture)   \n",
       "18           19               International Business in Asia   \n",
       "19           20                           IT & Communication   \n",
       "20           21                                   Radiograph   \n",
       "21           22                              Software Design   \n",
       "22           23                                Communication   \n",
       "23           24                       International Business   \n",
       "\n",
       "    How many years of developer experience do you have?  \\\n",
       "0                                                 4.0     \n",
       "1                                                 2.0     \n",
       "2                                                 1.0     \n",
       "3                                                 4.0     \n",
       "4                                                 2.0     \n",
       "5                                                 2.0     \n",
       "6                                                 2.0     \n",
       "7                                                 2.0     \n",
       "8                                                 2.0     \n",
       "9                                                 1.5     \n",
       "10                                                1.5     \n",
       "11                                                1.5     \n",
       "12                                                2.0     \n",
       "13                                                0.0     \n",
       "14                                                2.0     \n",
       "15                                                3.0     \n",
       "16                                                2.0     \n",
       "17                                                1.5     \n",
       "18                                                1.0     \n",
       "19                                                2.0     \n",
       "20                                                1.5     \n",
       "21                                                4.0     \n",
       "22                                                1.0     \n",
       "23                                                1.0     \n",
       "\n",
       "    How many months is it since you coded in Java?  \\\n",
       "0                                              0.0   \n",
       "1                                              0.0   \n",
       "2                                              0.0   \n",
       "3                                              2.0   \n",
       "4                                              3.0   \n",
       "5                                              3.0   \n",
       "6                                              9.0   \n",
       "7                                             12.0   \n",
       "8                                             13.0   \n",
       "9                                              8.0   \n",
       "10                                             8.0   \n",
       "11                                             2.0   \n",
       "12                                             1.0   \n",
       "13                                             7.0   \n",
       "14                                            12.0   \n",
       "15                                             0.0   \n",
       "16                                             3.0   \n",
       "17                                             0.0   \n",
       "18                                             6.0   \n",
       "19                                             0.0   \n",
       "20                                             6.0   \n",
       "21                                            12.0   \n",
       "22                                             6.0   \n",
       "23                                             3.0   \n",
       "\n",
       "    How many years of experience do you have with Visual Studio Code?  \\\n",
       "0                                                 2.0                   \n",
       "1                                                 2.0                   \n",
       "2                                                 1.0                   \n",
       "3                                                 2.0                   \n",
       "4                                                 2.0                   \n",
       "5                                                 2.0                   \n",
       "6                                                 2.0                   \n",
       "7                                                 2.5                   \n",
       "8                                                 2.0                   \n",
       "9                                                 1.5                   \n",
       "10                                                1.5                   \n",
       "11                                                6.0                   \n",
       "12                                                3.0                   \n",
       "13                                                1.5                   \n",
       "14                                                2.0                   \n",
       "15                                                3.0                   \n",
       "16                                                2.0                   \n",
       "17                                                1.5                   \n",
       "18                                                1.5                   \n",
       "19                                                3.0                   \n",
       "20                                                1.5                   \n",
       "21                                                3.0                   \n",
       "22                                                1.5                   \n",
       "23                                                1.5                   \n",
       "\n",
       "    How much experience in years do you have in using an LLM(ChatGPT, CoPilot, Gemini)?  \\\n",
       "0                                                 2.0                                     \n",
       "1                                                 0.5                                     \n",
       "2                                                 1.0                                     \n",
       "3                                                 0.0                                     \n",
       "4                                                 1.0                                     \n",
       "5                                                 1.5                                     \n",
       "6                                                 1.0                                     \n",
       "7                                                 1.5                                     \n",
       "8                                                 1.0                                     \n",
       "9                                                 0.5                                     \n",
       "10                                                0.5                                     \n",
       "11                                                1.5                                     \n",
       "12                                                1.0                                     \n",
       "13                                                1.0                                     \n",
       "14                                                1.0                                     \n",
       "15                                                1.0                                     \n",
       "16                                                1.0                                     \n",
       "17                                                1.0                                     \n",
       "18                                                1.0                                     \n",
       "19                                                1.0                                     \n",
       "20                                                1.0                                     \n",
       "21                                                1.0                                     \n",
       "22                                                1.0                                     \n",
       "23                                                1.0                                     \n",
       "\n",
       "   Which operating system do you usually use  \n",
       "0                                      MacOS  \n",
       "1                                    Windows  \n",
       "2                                      MacOS  \n",
       "3                                    Windows  \n",
       "4                                      MacOS  \n",
       "5                                      MacOS  \n",
       "6                                    Windows  \n",
       "7                                      MacOS  \n",
       "8                                      MacOS  \n",
       "9                                      MacOS  \n",
       "10                                   Windows  \n",
       "11                                   Windows  \n",
       "12                                     MacOS  \n",
       "13                                   Windows  \n",
       "14                                     Linux  \n",
       "15                                     MacOS  \n",
       "16                                   Windows  \n",
       "17                                     MacOS  \n",
       "18                                     MacOS  \n",
       "19                                     MacOS  \n",
       "20                                     MacOS  \n",
       "21                                     MacOS  \n",
       "22                                   Windows  \n",
       "23                                     MacOS  "
      ]
     },
     "execution_count": 5,
     "metadata": {},
     "output_type": "execute_result"
    }
   ],
   "source": [
    "demo_df = pd.read_csv(\"demographics.csv\")\n",
    "demo_df"
   ]
  },
  {
   "cell_type": "code",
   "execution_count": 6,
   "id": "5d62c116",
   "metadata": {},
   "outputs": [],
   "source": [
    "sector_mapping = {\n",
    "    \"Business Economics & Information System\": \"business and economics\",\n",
    "    \"International sales and marketing\": \"business and economics\",\n",
    "    \"Innovation and Entrepreneurship\": \"business and economics\",\n",
    "    \"Visual Design (Game and Interaction Design)\": \"communications and media\",\n",
    "    \"Communication & IT\": \"IT and technology\",\n",
    "    \"Physiotherapy\": \"health and medicine\",\n",
    "    \"Global Business Informatics\": \"IT and technology\" ,\n",
    "    \"Literaturvidenskab\": \"communications and media\",\n",
    "    \"Global Business Informatics\": \"IT and technology\",\n",
    "    \"Economy\": \"business and economics\",\n",
    "    \"Modern India and South Asia Studies\": \"social sciences\",\n",
    "    \"Digital Design and Interactive Technologies\": \"communications and media\",\n",
    "    \"Sound Design\": \"IT and technology\",\n",
    "    \"Bachelor of education\": \"education\",\n",
    "    \"Energy Engineering\": \"IT and technology\",\n",
    "    \"Business economics & IT\": \"business and economics\",\n",
    "    \"Business\": \"business and economics\",\n",
    "    \"Gastronomy (Food Science and Agriculture)\": \"gastronomy\",\n",
    "    \"International Business in Asia\": \"business and economics\",\n",
    "    \"IT & Communication\": \"communications and media\",\n",
    "    \"Radiograph\": \"health and medicine\",\n",
    "    \"Software Design\": \"IT and technology\",\n",
    "    \"Communication\": \"communications and media\",\n",
    "    \"International Business\": \"business and economics\",\n",
    "}\n",
    "demo_df[\"sector\"] = demo_df[\"In what subject was your bachelor?\"].apply(lambda el: sector_mapping[el.strip()])"
   ]
  },
  {
   "cell_type": "code",
   "execution_count": 7,
   "id": "fb9909af",
   "metadata": {},
   "outputs": [
    {
     "data": {
      "text/plain": [
       "sector\n",
       "IT and technology           6\n",
       "business and economics      8\n",
       "communications and media    5\n",
       "education                   1\n",
       "gastronomy                  1\n",
       "health and medicine         2\n",
       "social sciences             1\n",
       "Name: Participant, dtype: int64"
      ]
     },
     "execution_count": 7,
     "metadata": {},
     "output_type": "execute_result"
    }
   ],
   "source": [
    "demo_df.groupby(\"sector\")[\"Participant\"].count()"
   ]
  },
  {
   "cell_type": "code",
   "execution_count": 8,
   "id": "2bc53abc",
   "metadata": {},
   "outputs": [
    {
     "data": {
      "text/plain": [
       "count    24.000000\n",
       "mean      1.937500\n",
       "std       0.981486\n",
       "min       0.000000\n",
       "25%       1.500000\n",
       "50%       2.000000\n",
       "75%       2.000000\n",
       "max       4.000000\n",
       "Name: How many years of developer experience do you have?, dtype: float64"
      ]
     },
     "execution_count": 8,
     "metadata": {},
     "output_type": "execute_result"
    }
   ],
   "source": [
    "demo_df[\"How many years of developer experience do you have?\"].describe()"
   ]
  },
  {
   "cell_type": "code",
   "execution_count": 9,
   "id": "ee63b6f7",
   "metadata": {},
   "outputs": [
    {
     "data": {
      "text/plain": [
       "count    24.000000\n",
       "mean      4.833333\n",
       "std       4.429807\n",
       "min       0.000000\n",
       "25%       0.750000\n",
       "50%       3.000000\n",
       "75%       8.000000\n",
       "max      13.000000\n",
       "Name: How many months is it since you coded in Java?, dtype: float64"
      ]
     },
     "execution_count": 9,
     "metadata": {},
     "output_type": "execute_result"
    }
   ],
   "source": [
    "demo_df[\"How many months is it since you coded in Java?\"].describe()"
   ]
  },
  {
   "cell_type": "code",
   "execution_count": 10,
   "id": "92938e69",
   "metadata": {},
   "outputs": [
    {
     "data": {
      "text/plain": [
       "count    24.000000\n",
       "mean      2.145833\n",
       "std       0.994323\n",
       "min       1.000000\n",
       "25%       1.500000\n",
       "50%       2.000000\n",
       "75%       2.125000\n",
       "max       6.000000\n",
       "Name: How many years of experience do you have with Visual Studio Code?, dtype: float64"
      ]
     },
     "execution_count": 10,
     "metadata": {},
     "output_type": "execute_result"
    }
   ],
   "source": [
    "demo_df[\"How many years of experience do you have with Visual Studio Code?\"].describe()"
   ]
  },
  {
   "cell_type": "code",
   "execution_count": 11,
   "id": "31a165e2",
   "metadata": {},
   "outputs": [
    {
     "data": {
      "text/plain": [
       "count    24.000000\n",
       "mean      1.000000\n",
       "std       0.390095\n",
       "min       0.000000\n",
       "25%       1.000000\n",
       "50%       1.000000\n",
       "75%       1.000000\n",
       "max       2.000000\n",
       "Name: How much experience in years do you have in using an LLM(ChatGPT, CoPilot, Gemini)?, dtype: float64"
      ]
     },
     "execution_count": 11,
     "metadata": {},
     "output_type": "execute_result"
    }
   ],
   "source": [
    "demo_df[\"How much experience in years do you have in using an LLM(ChatGPT, CoPilot, Gemini)?\"].describe()"
   ]
  },
  {
   "cell_type": "markdown",
   "id": "a3009f0e",
   "metadata": {},
   "source": [
    "## Results"
   ]
  },
  {
   "cell_type": "code",
   "execution_count": 348,
   "id": "32c197c2",
   "metadata": {},
   "outputs": [],
   "source": [
    "df = pd.read_csv(\"dataclean.csv\")\n",
    "df.time = pd.to_timedelta(df.time, unit=\"s\")"
   ]
  },
  {
   "cell_type": "markdown",
   "id": "418c3cb4",
   "metadata": {
    "slideshow": {
     "slide_type": "slide"
    }
   },
   "source": [
    "###  RQ1: How does a local LLM affect students’ task completion time in an IP exam?"
   ]
  },
  {
   "cell_type": "code",
   "execution_count": 349,
   "id": "7f9650cb",
   "metadata": {},
   "outputs": [],
   "source": [
    "mask = (df.llm_support == True)\n",
    "df.loc[mask, \"treatment\"] = \"with\"\n",
    "mask = (df.llm_support == False)\n",
    "df.loc[mask, \"treatment\"] = \"without\""
   ]
  },
  {
   "cell_type": "code",
   "execution_count": 397,
   "id": "18ea6d32",
   "metadata": {},
   "outputs": [
    {
     "data": {
      "text/plain": [
       "[[<matplotlib.axis.YTick at 0x7fdd4357ed30>,\n",
       "  <matplotlib.axis.YTick at 0x7fdd4357e5b0>,\n",
       "  <matplotlib.axis.YTick at 0x7fdd434cd6d0>,\n",
       "  <matplotlib.axis.YTick at 0x7fdd434c8d90>,\n",
       "  <matplotlib.axis.YTick at 0x7fdd4353cee0>,\n",
       "  <matplotlib.axis.YTick at 0x7fdd434d4040>,\n",
       "  <matplotlib.axis.YTick at 0x7fdd434d4670>,\n",
       "  <matplotlib.axis.YTick at 0x7fdd434d4dc0>,\n",
       "  <matplotlib.axis.YTick at 0x7fdd434da550>,\n",
       "  <matplotlib.axis.YTick at 0x7fdd43578cd0>,\n",
       "  <matplotlib.axis.YTick at 0x7fdd43520100>,\n",
       "  <matplotlib.axis.YTick at 0x7fdd43528400>,\n",
       "  <matplotlib.axis.YTick at 0x7fdd434dae80>,\n",
       "  <matplotlib.axis.YTick at 0x7fdd434de190>,\n",
       "  <matplotlib.axis.YTick at 0x7fdd434de9a0>,\n",
       "  <matplotlib.axis.YTick at 0x7fdd434e8130>]]"
      ]
     },
     "execution_count": 397,
     "metadata": {},
     "output_type": "execute_result"
    },
    {
     "data": {
      "image/png": "[encoded data removed]",
      "text/plain": [
       "<Figure size 432x288 with 1 Axes>"
      ]
     },
     "metadata": {},
     "output_type": "display_data"
    }
   ],
   "source": [
    "df_times = df.groupby([\"treatment\", \"experiment_subject\"])[\"time\"].sum().reset_index()\n",
    "df_times[\"time_in_5min_bins\"] = df_times.time.dt.seconds // 60 // 5 * 5\n",
    "df_times[\"bin_labels\"] = df_times.time_in_5min_bins.apply(lambda el: f\"{el:02d}-{el+5}\") \n",
    "\n",
    "df_times.sort_values(by=\"bin_labels\", inplace=True)\n",
    "p = sns.histplot(data=df_times, x=\"bin_labels\", hue=\"treatment\", multiple=\"dodge\", \n",
    "                 binwidth=5, kde=True,  shrink=.8)\n",
    "p.set(xlabel=\"Time in bins of five minutes\")\n",
    "p.set(yticks=(range(df_times.groupby(\"time_in_5min_bins\").bin_labels.count().max())))"
   ]
  },
  {
   "cell_type": "code",
   "execution_count": 92,
   "id": "5f93dbb5",
   "metadata": {},
   "outputs": [],
   "source": [
    "df_time_with_treatment = df[df.llm_support == True].groupby(\"experiment_subject\")[\"time\"].sum().reset_index()\n",
    "df_time_with_treatment.drop(columns=[\"experiment_subject\"], inplace=True)\n",
    "# Divisions and multiplications are to convert number of seconds in five minute bins for counting\n",
    "df_time_with_treatment.time  = df_time_with_treatment.time.dt.seconds // 60 // 5 * 5\n",
    "df_time_with_treatment.rename(columns={\"time\": \"with treatment\"}, inplace=True)\n",
    "df_time_wo_treatment = df[df.llm_support == False].groupby(\"experiment_subject\")[\"time\"].sum().reset_index()\n",
    "df_time_wo_treatment.drop(columns=[\"experiment_subject\"], inplace=True)\n",
    "df_time_wo_treatment.time = df_time_wo_treatment.time.dt.seconds // 60 // 5 * 5\n",
    "df_time_wo_treatment.rename(columns={\"time\": \"without treatment\"}, inplace=True)\n",
    "df_times = pd.merge(df_time_with_treatment, df_time_wo_treatment, left_index=True, right_index=True)"
   ]
  },
  {
   "cell_type": "code",
   "execution_count": 148,
   "id": "87a8c1f7",
   "metadata": {},
   "outputs": [
    {
     "data": {
      "image/png": "[encoded data removed]",
      "text/plain": [
       "<Figure size 432x288 with 1 Axes>"
      ]
     },
     "metadata": {
      "needs_background": "light"
     },
     "output_type": "display_data"
    }
   ],
   "source": [
    "p = sns.histplot(df_times, multiple=\"dodge\", kde=True, \n",
    "                 binrange=(0, 35), binwidth=5, shrink=.8)\n",
    "\n",
    "xrange = np.arange(0, 36, 2.5)\n",
    "labels = [\"\" for _ in range(len(xrange))]\n",
    "for idx in range(1, 14, 2):\n",
    "    labels[idx] = f\"{int(xrange[idx-1])}-{int(xrange[idx+1])}\"\n",
    "p.set_xticks(xrange, labels=labels) \n",
    "p.set_yticks(range(max((df_times[\"with treatment\"].value_counts().max(), \n",
    "                        df_times[\"without treatment\"].value_counts().max())) + 1)) \n",
    "plt.savefig(\"images/time_comparison.pdf\", bbox_inches=\"tight\")"
   ]
  },
  {
   "cell_type": "code",
   "execution_count": 236,
   "id": "4bda554f",
   "metadata": {},
   "outputs": [
    {
     "data": {
      "text/plain": [
       "[Text(0, 0.5, 'Time in minutes')]"
      ]
     },
     "execution_count": 236,
     "metadata": {},
     "output_type": "execute_result"
    },
    {
     "data": {
      "image/png": "[encoded data removed]",
      "text/plain": [
       "<Figure size 432x288 with 1 Axes>"
      ]
     },
     "metadata": {
      "needs_background": "light"
     },
     "output_type": "display_data"
    }
   ],
   "source": [
    "df_time_with_treatment = df[df.llm_support == True].groupby(\"experiment_subject\")[\"time\"].sum().reset_index()\n",
    "df_time_with_treatment.drop(columns=[\"experiment_subject\"], inplace=True)\n",
    "df_time_with_treatment[\"treatment\"] = \"with treatment\"\n",
    "df_time_wo_treatment = df[df.llm_support == False].groupby(\"experiment_subject\")[\"time\"].sum().reset_index()\n",
    "df_time_wo_treatment.drop(columns=[\"experiment_subject\"], inplace=True)\n",
    "df_time_wo_treatment[\"treatment\"] = \"without treatment\"\n",
    "\n",
    "df_times = pd.concat((df_time_with_treatment, df_time_wo_treatment), axis=0, ignore_index=True)\n",
    "df_times.time = df_times.time.dt.total_seconds() / 60\n",
    "\n",
    "p1 = sns.boxplot(data=df_times, x=\"treatment\", y=\"time\", boxprops={\"facecolor\": \"None\"})\n",
    "p2 = sns.swarmplot(data=df_times, x=\"treatment\", y=\"time\", zorder=.5)\n",
    "p1.set(xlabel=None)\n",
    "p1.set(ylabel=\"Time in minutes\")"
   ]
  },
  {
   "cell_type": "code",
   "execution_count": 281,
   "id": "ee0094b0",
   "metadata": {},
   "outputs": [
    {
     "data": {
      "text/plain": [
       "[Text(0, 0.5, 'Time in minutes')]"
      ]
     },
     "execution_count": 281,
     "metadata": {},
     "output_type": "execute_result"
    },
    {
     "data": {
      "image/png": "[encoded data removed]",
      "text/plain": [
       "<Figure size 432x288 with 1 Axes>"
      ]
     },
     "metadata": {
      "needs_background": "light"
     },
     "output_type": "display_data"
    }
   ],
   "source": [
    "p1 = sns.violinplot(data=df_times, x=\"treatment\", y=\"time\", inner=\"quart\", boxprops={\"facecolor\": \"None\"})\n",
    "p2 = sns.swarmplot(data=df_times, x=\"treatment\", y=\"time\", zorder=.5)\n",
    "p1.set(xlabel=None)\n",
    "p1.set(ylabel=\"Time in minutes\")"
   ]
  },
  {
   "cell_type": "code",
   "execution_count": 179,
   "id": "98ba329d",
   "metadata": {},
   "outputs": [
    {
     "data": {
      "text/html": [
       "<div>\n",
       "<style scoped>\n",
       "    .dataframe tbody tr th:only-of-type {\n",
       "        vertical-align: middle;\n",
       "    }\n",
       "\n",
       "    .dataframe tbody tr th {\n",
       "        vertical-align: top;\n",
       "    }\n",
       "\n",
       "    .dataframe thead th {\n",
       "        text-align: right;\n",
       "    }\n",
       "</style>\n",
       "<table border=\"1\" class=\"dataframe\">\n",
       "  <thead>\n",
       "    <tr style=\"text-align: right;\">\n",
       "      <th></th>\n",
       "      <th>with treatment</th>\n",
       "      <th>without treatment</th>\n",
       "    </tr>\n",
       "  </thead>\n",
       "  <tbody>\n",
       "    <tr>\n",
       "      <th>count</th>\n",
       "      <td>24</td>\n",
       "      <td>24</td>\n",
       "    </tr>\n",
       "    <tr>\n",
       "      <th>mean</th>\n",
       "      <td>0 days 00:19:15.625000</td>\n",
       "      <td>0 days 00:25:08.083333333</td>\n",
       "    </tr>\n",
       "    <tr>\n",
       "      <th>std</th>\n",
       "      <td>0 days 00:06:26.521703367</td>\n",
       "      <td>0 days 00:03:23.501931764</td>\n",
       "    </tr>\n",
       "    <tr>\n",
       "      <th>min</th>\n",
       "      <td>0 days 00:08:58</td>\n",
       "      <td>0 days 00:18:26</td>\n",
       "    </tr>\n",
       "    <tr>\n",
       "      <th>25%</th>\n",
       "      <td>0 days 00:12:31.250000</td>\n",
       "      <td>0 days 00:22:47.750000</td>\n",
       "    </tr>\n",
       "    <tr>\n",
       "      <th>50%</th>\n",
       "      <td>0 days 00:19:58</td>\n",
       "      <td>0 days 00:26:42</td>\n",
       "    </tr>\n",
       "    <tr>\n",
       "      <th>75%</th>\n",
       "      <td>0 days 00:22:48.250000</td>\n",
       "      <td>0 days 00:27:43.250000</td>\n",
       "    </tr>\n",
       "    <tr>\n",
       "      <th>max</th>\n",
       "      <td>0 days 00:34:14</td>\n",
       "      <td>0 days 00:29:53</td>\n",
       "    </tr>\n",
       "  </tbody>\n",
       "</table>\n",
       "</div>"
      ],
      "text/plain": [
       "                  with treatment          without treatment\n",
       "count                         24                         24\n",
       "mean      0 days 00:19:15.625000  0 days 00:25:08.083333333\n",
       "std    0 days 00:06:26.521703367  0 days 00:03:23.501931764\n",
       "min              0 days 00:08:58            0 days 00:18:26\n",
       "25%       0 days 00:12:31.250000     0 days 00:22:47.750000\n",
       "50%              0 days 00:19:58            0 days 00:26:42\n",
       "75%       0 days 00:22:48.250000     0 days 00:27:43.250000\n",
       "max              0 days 00:34:14            0 days 00:29:53"
      ]
     },
     "execution_count": 179,
     "metadata": {},
     "output_type": "execute_result"
    }
   ],
   "source": [
    "df_time_with_treatment = df[df.llm_support == True].groupby(\"experiment_subject\")[\"time\"].sum().reset_index()\n",
    "df_time_with_treatment.drop(columns=[\"experiment_subject\"], inplace=True)\n",
    "df_time_with_treatment.rename(columns={\"time\": \"with treatment\"}, inplace=True)\n",
    "df_time_wo_treatment = df[df.llm_support == False].groupby(\"experiment_subject\")[\"time\"].sum().reset_index()\n",
    "df_time_wo_treatment.drop(columns=[\"experiment_subject\"], inplace=True)\n",
    "df_time_wo_treatment.rename(columns={\"time\": \"without treatment\"}, inplace=True)\n",
    "df_times = pd.merge(df_time_with_treatment, df_time_wo_treatment, left_index=True, right_index=True)\n",
    "df_times.describe()"
   ]
  },
  {
   "cell_type": "markdown",
   "id": "dc5e5341",
   "metadata": {},
   "source": [
    "Test if data is normally distributed. Visual inspection of the histogram above suggests that the collected time data from the \"with treatment\" group is normally distributed, whereas the data from the \"without treatment\" group does not.\n",
    "\n",
    "To test if the data is normally distributed, we conduct an Anderson-Darling test, which tests the _\"null hypothesis that a random sample was drawn from a normal distribution (with unspecified mean and standard deviation)\"_, see [docs](https://docs.scipy.org/doc/scipy/reference/generated/scipy.stats.anderson.html).\n",
    "\n",
    "Since the value of the statistic is smaller than the critical value at a significance level of 5%, we cannot reject the null hypothesis for the \"with treatment\" group."
   ]
  },
  {
   "cell_type": "code",
   "execution_count": 184,
   "id": "47c4461a",
   "metadata": {},
   "outputs": [
    {
     "data": {
      "text/plain": [
       "AndersonResult(statistic=0.5434872299135982, critical_values=array([0.513, 0.584, 0.701, 0.817, 0.972]), significance_level=array([15. , 10. ,  5. ,  2.5,  1. ]))"
      ]
     },
     "execution_count": 184,
     "metadata": {},
     "output_type": "execute_result"
    }
   ],
   "source": [
    "anderson(df_times[\"with treatment\"])"
   ]
  },
  {
   "cell_type": "markdown",
   "id": "861cd590",
   "metadata": {},
   "source": [
    "However, for the \"without treatment\" group, the value of the statistic exceeds the critical value at a significance level of 5%, therefore we reject the null hypothesis here."
   ]
  },
  {
   "cell_type": "code",
   "execution_count": 185,
   "id": "0054c39a",
   "metadata": {},
   "outputs": [
    {
     "data": {
      "text/plain": [
       "AndersonResult(statistic=0.803778836614363, critical_values=array([0.513, 0.584, 0.701, 0.817, 0.972]), significance_level=array([15. , 10. ,  5. ,  2.5,  1. ]))"
      ]
     },
     "execution_count": 185,
     "metadata": {},
     "output_type": "execute_result"
    }
   ],
   "source": [
    "anderson(df_times[\"without treatment\"])"
   ]
  },
  {
   "cell_type": "markdown",
   "id": "87c5d734",
   "metadata": {},
   "source": [
    "Since the data for the \"without treatment\" group is not uniformly distributed, we cannot apply a Student's T-test to assess the means of the two groups. But we can apply a Mann-Whitney-U test to test if the median of the two groups differ significantly. \n",
    "\n",
    "Null hypothesis $H_0$: the distributions of both populations are identical.\n",
    "The alternative hypothesis $H_1$ is that the distributions are not identical.\n",
    "Since the value of the statistic below is large and since the p-value is smaller than 0.05, we reject the null hypothesis, i.e., the distributions of both populations is different and the difference in the median listed below is statistically significant."
   ]
  },
  {
   "cell_type": "code",
   "execution_count": 17,
   "id": "363fc7f1",
   "metadata": {},
   "outputs": [
    {
     "data": {
      "text/plain": [
       "MannwhitneyuResult(statistic=116.0, pvalue=0.0004056716724965548)"
      ]
     },
     "execution_count": 17,
     "metadata": {},
     "output_type": "execute_result"
    }
   ],
   "source": [
    "mannwhitneyu(df_times[\"with treatment\"], df_times[\"without treatment\"])"
   ]
  },
  {
   "cell_type": "code",
   "execution_count": 187,
   "id": "24d9d18a",
   "metadata": {},
   "outputs": [
    {
     "data": {
      "text/html": [
       "<div>\n",
       "<style scoped>\n",
       "    .dataframe tbody tr th:only-of-type {\n",
       "        vertical-align: middle;\n",
       "    }\n",
       "\n",
       "    .dataframe tbody tr th {\n",
       "        vertical-align: top;\n",
       "    }\n",
       "\n",
       "    .dataframe thead th {\n",
       "        text-align: right;\n",
       "    }\n",
       "</style>\n",
       "<table border=\"1\" class=\"dataframe\">\n",
       "  <thead>\n",
       "    <tr style=\"text-align: right;\">\n",
       "      <th></th>\n",
       "      <th>without treatment</th>\n",
       "      <th>with treatment</th>\n",
       "    </tr>\n",
       "  </thead>\n",
       "  <tbody>\n",
       "    <tr>\n",
       "      <th>count</th>\n",
       "      <td>24</td>\n",
       "      <td>24</td>\n",
       "    </tr>\n",
       "    <tr>\n",
       "      <th>mean</th>\n",
       "      <td>0 days 00:25:08.083333333</td>\n",
       "      <td>0 days 00:19:15.625000</td>\n",
       "    </tr>\n",
       "    <tr>\n",
       "      <th>std</th>\n",
       "      <td>0 days 00:03:23.501931764</td>\n",
       "      <td>0 days 00:06:26.521703367</td>\n",
       "    </tr>\n",
       "    <tr>\n",
       "      <th>min</th>\n",
       "      <td>0 days 00:18:26</td>\n",
       "      <td>0 days 00:08:58</td>\n",
       "    </tr>\n",
       "    <tr>\n",
       "      <th>25%</th>\n",
       "      <td>0 days 00:22:47.750000</td>\n",
       "      <td>0 days 00:12:31.250000</td>\n",
       "    </tr>\n",
       "    <tr>\n",
       "      <th>50%</th>\n",
       "      <td>0 days 00:26:42</td>\n",
       "      <td>0 days 00:19:58</td>\n",
       "    </tr>\n",
       "    <tr>\n",
       "      <th>75%</th>\n",
       "      <td>0 days 00:27:43.250000</td>\n",
       "      <td>0 days 00:22:48.250000</td>\n",
       "    </tr>\n",
       "    <tr>\n",
       "      <th>max</th>\n",
       "      <td>0 days 00:29:53</td>\n",
       "      <td>0 days 00:34:14</td>\n",
       "    </tr>\n",
       "  </tbody>\n",
       "</table>\n",
       "</div>"
      ],
      "text/plain": [
       "               without treatment             with treatment\n",
       "count                         24                         24\n",
       "mean   0 days 00:25:08.083333333     0 days 00:19:15.625000\n",
       "std    0 days 00:03:23.501931764  0 days 00:06:26.521703367\n",
       "min              0 days 00:18:26            0 days 00:08:58\n",
       "25%       0 days 00:22:47.750000     0 days 00:12:31.250000\n",
       "50%              0 days 00:26:42            0 days 00:19:58\n",
       "75%       0 days 00:27:43.250000     0 days 00:22:48.250000\n",
       "max              0 days 00:29:53            0 days 00:34:14"
      ]
     },
     "execution_count": 187,
     "metadata": {},
     "output_type": "execute_result"
    }
   ],
   "source": [
    "df_times[[\"without treatment\", \"with treatment\"]].describe()"
   ]
  },
  {
   "cell_type": "code",
   "execution_count": 186,
   "id": "12333825",
   "metadata": {},
   "outputs": [
    {
     "data": {
      "text/plain": [
       "('decrease', ['without treatment', 'with treatment'], 25.22)"
      ]
     },
     "execution_count": 186,
     "metadata": {},
     "output_type": "execute_result"
    }
   ],
   "source": [
    "def compute_improvement_pct(df, where=\"median\"):\n",
    "    \"\"\" Computes the percent-wise increase or decrease from withtout treatment to\n",
    "    with treatment, per default for the mean.\n",
    "    \n",
    "    Alternative values for where are \"mean\", \"min\", \"max\", \"q1\", \"q2\"\n",
    "    \"\"\"\n",
    "    if where == \"median\":\n",
    "        where = \"50%\"\n",
    "    elif where == \"q1\":\n",
    "        where = \"25%\"\n",
    "    elif where == \"q3\":\n",
    "        where = \"75%\"\n",
    "    # requires that input dataframe has without and with treatment columns\n",
    "    col_order = [\"without treatment\", \"with treatment\"]\n",
    "    change_ratio = df[col_order].describe().loc[where].pct_change()[\"with treatment\"]\n",
    "    growth = \"increase\" if change_ratio >= 0 else \"decrease\"\n",
    "    change_in_pct = round(abs(change_ratio) * 100, 2)\n",
    "    return growth, col_order, change_in_pct\n",
    "\n",
    "compute_improvement_pct(df_times)"
   ]
  },
  {
   "cell_type": "markdown",
   "id": "20bc9e8d",
   "metadata": {},
   "source": [
    "###  RQ2: How does a local LLM affect correctness of students’ source code in an IP exam?\n",
    "\n",
    "**TODO**: Run again with fixed and updated imput data"
   ]
  },
  {
   "cell_type": "code",
   "execution_count": 220,
   "id": "c5496851",
   "metadata": {},
   "outputs": [],
   "source": [
    "df_test_ratios_with_treatment = df[df.llm_support == True].groupby(\"experiment_subject\")[\"test_ratio\"].first().reset_index()\n",
    "df_test_ratios_wo_treatment = df[df.llm_support == False].groupby(\"experiment_subject\")[\"test_ratio\"].first().reset_index()\n",
    "df_test_ratios = pd.merge(df_test_ratios_with_treatment, df_test_ratios_wo_treatment, on=\"experiment_subject\")\n",
    "df_test_ratios.rename(columns={\"test_ratio_x\": \"with treatment\", \"test_ratio_y\": \"without treatment\"}, inplace=True)\n",
    "df_test_ratios.drop(columns=[\"experiment_subject\"], inplace=True)"
   ]
  },
  {
   "cell_type": "code",
   "execution_count": 221,
   "id": "d1801c2a",
   "metadata": {},
   "outputs": [
    {
     "data": {
      "image/png": "[encoded data removed]",
      "text/plain": [
       "<Figure size 432x288 with 1 Axes>"
      ]
     },
     "metadata": {
      "needs_background": "light"
     },
     "output_type": "display_data"
    }
   ],
   "source": [
    "sns.histplot(df_test_ratios, multiple=\"dodge\", kde=True, \n",
    "             binrange=(0, 100), binwidth=10, shrink=.8)\n",
    "plt.savefig(\"images/test_ratio_comparison.pdf\", bbox_inches=\"tight\")"
   ]
  },
  {
   "cell_type": "code",
   "execution_count": 234,
   "id": "55501dcf",
   "metadata": {},
   "outputs": [
    {
     "data": {
      "text/plain": [
       "[Text(0, 0.5, 'Test ratio in %')]"
      ]
     },
     "execution_count": 234,
     "metadata": {},
     "output_type": "execute_result"
    },
    {
     "data": {
      "image/png": "[encoded data removed]",
      "text/plain": [
       "<Figure size 432x288 with 1 Axes>"
      ]
     },
     "metadata": {
      "needs_background": "light"
     },
     "output_type": "display_data"
    }
   ],
   "source": [
    "df_test_ratios_with_treatment = df[df.llm_support == True].groupby(\"experiment_subject\")[\"test_ratio\"].first().reset_index()\n",
    "df_test_ratios_with_treatment[\"treatment\"] = \"with treatment\"\n",
    "df_test_ratios_wo_treatment = df[df.llm_support == False].groupby(\"experiment_subject\")[\"test_ratio\"].first().reset_index()\n",
    "df_test_ratios_wo_treatment[\"treatment\"] = \"without treatment\"\n",
    "df_test_ratios = pd.concat((df_test_ratios_with_treatment, df_test_ratios_wo_treatment), axis=0, ignore_index=True)\n",
    "\n",
    "p1 = sns.boxplot(data=df_test_ratios, x=\"treatment\", y=\"test_ratio\", boxprops={\"facecolor\": \"None\"})\n",
    "p2 = sns.swarmplot(data=df_test_ratios, x=\"treatment\", y=\"test_ratio\", zorder=.5)\n",
    "p1.set(xlabel=None)\n",
    "p1.set(ylabel=\"Test ratio in %\")"
   ]
  },
  {
   "cell_type": "code",
   "execution_count": 226,
   "id": "8d20e698",
   "metadata": {},
   "outputs": [
    {
     "data": {
      "text/plain": [
       "<AxesSubplot:xlabel='treatment', ylabel='test_ratio'>"
      ]
     },
     "execution_count": 226,
     "metadata": {},
     "output_type": "execute_result"
    },
    {
     "data": {
      "image/png": "[encoded data removed]",
      "text/plain": [
       "<Figure size 432x288 with 1 Axes>"
      ]
     },
     "metadata": {
      "needs_background": "light"
     },
     "output_type": "display_data"
    }
   ],
   "source": [
    "sns.violinplot(data=df_test_ratios, x=\"treatment\", y=\"test_ratio\", inner=\"quart\")"
   ]
  },
  {
   "cell_type": "code",
   "execution_count": 239,
   "id": "da41e793",
   "metadata": {},
   "outputs": [
    {
     "data": {
      "text/html": [
       "<div>\n",
       "<style scoped>\n",
       "    .dataframe tbody tr th:only-of-type {\n",
       "        vertical-align: middle;\n",
       "    }\n",
       "\n",
       "    .dataframe tbody tr th {\n",
       "        vertical-align: top;\n",
       "    }\n",
       "\n",
       "    .dataframe thead th {\n",
       "        text-align: right;\n",
       "    }\n",
       "</style>\n",
       "<table border=\"1\" class=\"dataframe\">\n",
       "  <thead>\n",
       "    <tr style=\"text-align: right;\">\n",
       "      <th></th>\n",
       "      <th>with treatment</th>\n",
       "      <th>without treatment</th>\n",
       "    </tr>\n",
       "  </thead>\n",
       "  <tbody>\n",
       "    <tr>\n",
       "      <th>count</th>\n",
       "      <td>24.000000</td>\n",
       "      <td>24.000000</td>\n",
       "    </tr>\n",
       "    <tr>\n",
       "      <th>mean</th>\n",
       "      <td>94.083333</td>\n",
       "      <td>67.875000</td>\n",
       "    </tr>\n",
       "    <tr>\n",
       "      <th>std</th>\n",
       "      <td>7.143965</td>\n",
       "      <td>28.627005</td>\n",
       "    </tr>\n",
       "    <tr>\n",
       "      <th>min</th>\n",
       "      <td>75.000000</td>\n",
       "      <td>12.000000</td>\n",
       "    </tr>\n",
       "    <tr>\n",
       "      <th>25%</th>\n",
       "      <td>89.000000</td>\n",
       "      <td>54.750000</td>\n",
       "    </tr>\n",
       "    <tr>\n",
       "      <th>50%</th>\n",
       "      <td>96.000000</td>\n",
       "      <td>72.500000</td>\n",
       "    </tr>\n",
       "    <tr>\n",
       "      <th>75%</th>\n",
       "      <td>100.000000</td>\n",
       "      <td>90.500000</td>\n",
       "    </tr>\n",
       "    <tr>\n",
       "      <th>max</th>\n",
       "      <td>100.000000</td>\n",
       "      <td>100.000000</td>\n",
       "    </tr>\n",
       "  </tbody>\n",
       "</table>\n",
       "</div>"
      ],
      "text/plain": [
       "       with treatment  without treatment\n",
       "count       24.000000          24.000000\n",
       "mean        94.083333          67.875000\n",
       "std          7.143965          28.627005\n",
       "min         75.000000          12.000000\n",
       "25%         89.000000          54.750000\n",
       "50%         96.000000          72.500000\n",
       "75%        100.000000          90.500000\n",
       "max        100.000000         100.000000"
      ]
     },
     "execution_count": 239,
     "metadata": {},
     "output_type": "execute_result"
    }
   ],
   "source": [
    "df_test_ratios_with_treatment = df[df.llm_support == True].groupby(\"experiment_subject\")[\"test_ratio\"].first().reset_index()\n",
    "df_test_ratios_wo_treatment = df[df.llm_support == False].groupby(\"experiment_subject\")[\"test_ratio\"].first().reset_index()\n",
    "df_test_ratios = pd.merge(df_test_ratios_with_treatment, df_test_ratios_wo_treatment, on=\"experiment_subject\")\n",
    "df_test_ratios.rename(columns={\"test_ratio_x\": \"with treatment\", \"test_ratio_y\": \"without treatment\"}, inplace=True)\n",
    "df_test_ratios.drop(columns=[\"experiment_subject\"], inplace=True)\n",
    "df_test_ratios.describe()"
   ]
  },
  {
   "cell_type": "code",
   "execution_count": 242,
   "id": "d639b08a",
   "metadata": {},
   "outputs": [
    {
     "data": {
      "text/plain": [
       "AndersonResult(statistic=1.6231796884959273, critical_values=array([0.513, 0.584, 0.701, 0.817, 0.972]), significance_level=array([15. , 10. ,  5. ,  2.5,  1. ]))"
      ]
     },
     "execution_count": 242,
     "metadata": {},
     "output_type": "execute_result"
    }
   ],
   "source": [
    "anderson(df_test_ratios[\"with treatment\"])"
   ]
  },
  {
   "cell_type": "code",
   "execution_count": 243,
   "id": "7df9d36b",
   "metadata": {},
   "outputs": [
    {
     "data": {
      "text/plain": [
       "AndersonResult(statistic=0.7631029260096156, critical_values=array([0.513, 0.584, 0.701, 0.817, 0.972]), significance_level=array([15. , 10. ,  5. ,  2.5,  1. ]))"
      ]
     },
     "execution_count": 243,
     "metadata": {},
     "output_type": "execute_result"
    }
   ],
   "source": [
    "anderson(df_test_ratios[\"without treatment\"])"
   ]
  },
  {
   "cell_type": "code",
   "execution_count": 240,
   "id": "0c8e9f3e",
   "metadata": {},
   "outputs": [
    {
     "data": {
      "text/plain": [
       "MannwhitneyuResult(statistic=462.5, pvalue=0.00026680993018062443)"
      ]
     },
     "execution_count": 240,
     "metadata": {},
     "output_type": "execute_result"
    }
   ],
   "source": [
    "mannwhitneyu(df_test_ratios[\"with treatment\"], df_test_ratios[\"without treatment\"])"
   ]
  },
  {
   "cell_type": "code",
   "execution_count": 241,
   "id": "30a9f3ea",
   "metadata": {},
   "outputs": [
    {
     "data": {
      "text/plain": [
       "('increase', ['without treatment', 'with treatment'], 32.41)"
      ]
     },
     "execution_count": 241,
     "metadata": {},
     "output_type": "execute_result"
    }
   ],
   "source": [
    "compute_improvement_pct(df_test_ratios)"
   ]
  },
  {
   "cell_type": "markdown",
   "id": "b04ecc93",
   "metadata": {},
   "source": [
    "### RQ3: How does a local LLM affect students’ grades in an IP exam?"
   ]
  },
  {
   "cell_type": "code",
   "execution_count": 25,
   "id": "6d22f044",
   "metadata": {},
   "outputs": [],
   "source": [
    "df_points_with_treatment = df[df.llm_support == True].groupby(\"experiment_subject\")[\"points\"].sum().reset_index()\n",
    "df_points_wo_treatment = df[df.llm_support == False].groupby(\"experiment_subject\")[\"points\"].sum().reset_index()\n",
    "df_points = pd.merge(df_points_with_treatment, df_points_wo_treatment, on=\"experiment_subject\", how=\"outer\")\n",
    "df_points.rename(columns={\"points_x\": \"with treatment\", \"points_y\": \"without treatment\"}, inplace=True)\n",
    "df_points.drop(columns=[\"experiment_subject\"], inplace=True)"
   ]
  },
  {
   "cell_type": "code",
   "execution_count": 27,
   "id": "9c4c52af",
   "metadata": {},
   "outputs": [
    {
     "data": {
      "image/png": "[encoded data removed]",
      "text/plain": [
       "<Figure size 432x288 with 1 Axes>"
      ]
     },
     "metadata": {
      "needs_background": "light"
     },
     "output_type": "display_data"
    }
   ],
   "source": [
    "min_points, max_points, binwidth = 0, 120, 10\n",
    "sns.histplot(df_points, color='blue', multiple=\"dodge\", kde=True, \n",
    "             binrange=(min_points, max_points), binwidth=binwidth,\n",
    "             shrink=.8)\n",
    "plt.savefig(\"images/point_comparison.pdf\", bbox_inches=\"tight\")"
   ]
  },
  {
   "cell_type": "code",
   "execution_count": 290,
   "id": "37e4f44b",
   "metadata": {},
   "outputs": [
    {
     "data": {
      "text/plain": [
       "[Text(0, 0.5, 'Number of points')]"
      ]
     },
     "execution_count": 290,
     "metadata": {},
     "output_type": "execute_result"
    },
    {
     "data": {
      "image/png": "[encoded data removed]",
      "text/plain": [
       "<Figure size 432x288 with 1 Axes>"
      ]
     },
     "metadata": {
      "needs_background": "light"
     },
     "output_type": "display_data"
    }
   ],
   "source": [
    "df_points_with_treatment = df[df.llm_support == True].groupby(\"experiment_subject\")[\"points\"].sum().reset_index()\n",
    "df_points_with_treatment[\"treatment\"] = \"with treatment\"\n",
    "df_points_wo_treatment = df[df.llm_support == False].groupby(\"experiment_subject\")[\"points\"].sum().reset_index()\n",
    "df_points_wo_treatment[\"treatment\"] = \"without treatment\"\n",
    "\n",
    "df_points = pd.concat((df_points_with_treatment, df_points_wo_treatment), axis=0, ignore_index=True)\n",
    "df_points.drop(columns=[\"experiment_subject\"], inplace=True)\n",
    "\n",
    "p1 = sns.boxplot(data=df_points, x=\"treatment\", y=\"points\", boxprops={\"facecolor\": \"None\"}, whis=[0, 100])\n",
    "p2 = sns.swarmplot(data=df_points, x=\"treatment\", y=\"points\", zorder=.5)\n",
    "p1.set(xlabel=None)\n",
    "p1.set(ylabel=\"Number of points\")"
   ]
  },
  {
   "cell_type": "code",
   "execution_count": 288,
   "id": "7092d86d",
   "metadata": {},
   "outputs": [
    {
     "data": {
      "text/plain": [
       "[Text(0, 0.5, 'Number of points')]"
      ]
     },
     "execution_count": 288,
     "metadata": {},
     "output_type": "execute_result"
    },
    {
     "data": {
      "image/png": "[encoded data removed]",
      "text/plain": [
       "<Figure size 432x288 with 1 Axes>"
      ]
     },
     "metadata": {
      "needs_background": "light"
     },
     "output_type": "display_data"
    }
   ],
   "source": [
    "p1 = sns.violinplot(data=df_points, x=\"treatment\", y=\"points\", inner=\"quart\")\n",
    "p1.set(xlabel=None)\n",
    "p1.set(ylabel=\"Number of points\")"
   ]
  },
  {
   "cell_type": "code",
   "execution_count": 248,
   "id": "9429cc5d",
   "metadata": {},
   "outputs": [
    {
     "data": {
      "text/html": [
       "<div>\n",
       "<style scoped>\n",
       "    .dataframe tbody tr th:only-of-type {\n",
       "        vertical-align: middle;\n",
       "    }\n",
       "\n",
       "    .dataframe tbody tr th {\n",
       "        vertical-align: top;\n",
       "    }\n",
       "\n",
       "    .dataframe thead th {\n",
       "        text-align: right;\n",
       "    }\n",
       "</style>\n",
       "<table border=\"1\" class=\"dataframe\">\n",
       "  <thead>\n",
       "    <tr style=\"text-align: right;\">\n",
       "      <th></th>\n",
       "      <th>with treatment</th>\n",
       "      <th>without treatment</th>\n",
       "    </tr>\n",
       "  </thead>\n",
       "  <tbody>\n",
       "    <tr>\n",
       "      <th>count</th>\n",
       "      <td>24.000000</td>\n",
       "      <td>24.000000</td>\n",
       "    </tr>\n",
       "    <tr>\n",
       "      <th>mean</th>\n",
       "      <td>111.583333</td>\n",
       "      <td>84.500000</td>\n",
       "    </tr>\n",
       "    <tr>\n",
       "      <th>std</th>\n",
       "      <td>8.208779</td>\n",
       "      <td>26.362028</td>\n",
       "    </tr>\n",
       "    <tr>\n",
       "      <th>min</th>\n",
       "      <td>97.000000</td>\n",
       "      <td>14.000000</td>\n",
       "    </tr>\n",
       "    <tr>\n",
       "      <th>25%</th>\n",
       "      <td>104.250000</td>\n",
       "      <td>73.500000</td>\n",
       "    </tr>\n",
       "    <tr>\n",
       "      <th>50%</th>\n",
       "      <td>113.500000</td>\n",
       "      <td>87.500000</td>\n",
       "    </tr>\n",
       "    <tr>\n",
       "      <th>75%</th>\n",
       "      <td>118.500000</td>\n",
       "      <td>102.000000</td>\n",
       "    </tr>\n",
       "    <tr>\n",
       "      <th>max</th>\n",
       "      <td>120.000000</td>\n",
       "      <td>119.000000</td>\n",
       "    </tr>\n",
       "  </tbody>\n",
       "</table>\n",
       "</div>"
      ],
      "text/plain": [
       "       with treatment  without treatment\n",
       "count       24.000000          24.000000\n",
       "mean       111.583333          84.500000\n",
       "std          8.208779          26.362028\n",
       "min         97.000000          14.000000\n",
       "25%        104.250000          73.500000\n",
       "50%        113.500000          87.500000\n",
       "75%        118.500000         102.000000\n",
       "max        120.000000         119.000000"
      ]
     },
     "execution_count": 248,
     "metadata": {},
     "output_type": "execute_result"
    }
   ],
   "source": [
    "df_points_with_treatment = df[df.llm_support == True].groupby(\"experiment_subject\")[\"points\"].sum().reset_index()\n",
    "df_points_wo_treatment = df[df.llm_support == False].groupby(\"experiment_subject\")[\"points\"].sum().reset_index()\n",
    "df_points = pd.merge(df_points_with_treatment, df_points_wo_treatment, on=\"experiment_subject\", how=\"outer\")\n",
    "df_points.rename(columns={\"points_x\": \"with treatment\", \"points_y\": \"without treatment\"}, inplace=True)\n",
    "df_points.drop(columns=[\"experiment_subject\"], inplace=True)\n",
    "df_points.describe()"
   ]
  },
  {
   "cell_type": "code",
   "execution_count": 249,
   "id": "944d8d52",
   "metadata": {},
   "outputs": [
    {
     "data": {
      "text/plain": [
       "AndersonResult(statistic=1.2443488934861264, critical_values=array([0.513, 0.584, 0.701, 0.817, 0.972]), significance_level=array([15. , 10. ,  5. ,  2.5,  1. ]))"
      ]
     },
     "execution_count": 249,
     "metadata": {},
     "output_type": "execute_result"
    }
   ],
   "source": [
    "anderson(df_points[\"with treatment\"])"
   ]
  },
  {
   "cell_type": "code",
   "execution_count": 250,
   "id": "eeef6f5d",
   "metadata": {},
   "outputs": [
    {
     "data": {
      "text/plain": [
       "AndersonResult(statistic=0.4447877817152488, critical_values=array([0.513, 0.584, 0.701, 0.817, 0.972]), significance_level=array([15. , 10. ,  5. ,  2.5,  1. ]))"
      ]
     },
     "execution_count": 250,
     "metadata": {},
     "output_type": "execute_result"
    }
   ],
   "source": [
    "anderson(df_points[\"without treatment\"])"
   ]
  },
  {
   "cell_type": "code",
   "execution_count": 29,
   "id": "e8900cce",
   "metadata": {},
   "outputs": [
    {
     "data": {
      "text/plain": [
       "MannwhitneyuResult(statistic=494.0, pvalue=2.1943369188347926e-05)"
      ]
     },
     "execution_count": 29,
     "metadata": {},
     "output_type": "execute_result"
    }
   ],
   "source": [
    "mannwhitneyu(df_points[\"with treatment\"], df_points[\"without treatment\"])"
   ]
  },
  {
   "cell_type": "code",
   "execution_count": 251,
   "id": "3866aa4c",
   "metadata": {},
   "outputs": [
    {
     "data": {
      "text/plain": [
       "('increase', ['without treatment', 'with treatment'], 29.71)"
      ]
     },
     "execution_count": 251,
     "metadata": {},
     "output_type": "execute_result"
    }
   ],
   "source": [
    "compute_improvement_pct(df_points)"
   ]
  },
  {
   "cell_type": "code",
   "execution_count": 325,
   "id": "5761a44e",
   "metadata": {},
   "outputs": [],
   "source": [
    "def map_grade(danish_grade):\n",
    "    grades = [-3, 0, 2, 4, 7, 10, 12]\n",
    "    numerical_grades = range(7)\n",
    "    grade_map = dict(zip(grades, numerical_grades))\n",
    "    return grade_map[danish_grade]\n",
    "\n",
    "\n",
    "def map_grade_to_str_label(danish_grade):\n",
    "    grades = [-3, 0, 2, 4, 7, 10, 12]\n",
    "    grade_labels = [\"-3\", \"00\", \"02\", \"4\", \"7\", \"10\", \"12\"]\n",
    "    grade_map = dict(zip(grades, grade_labels))\n",
    "    return grade_map[danish_grade]"
   ]
  },
  {
   "cell_type": "code",
   "execution_count": 326,
   "id": "190b668b",
   "metadata": {},
   "outputs": [
    {
     "data": {
      "image/png": "[encoded data removed]",
      "text/plain": [
       "<Figure size 432x288 with 1 Axes>"
      ]
     },
     "metadata": {
      "needs_background": "light"
     },
     "output_type": "display_data"
    }
   ],
   "source": [
    "df[\"grade_label\"] = df.grade.apply(map_grade_to_str_label)\n",
    "df_grades_with_treatment = df[df.llm_support == True].groupby(\"experiment_subject\")[\"numerical_grade\"].first().reset_index()\n",
    "df_grades_with_treatment[\"treatment\"] = \"with treatment\"\n",
    "df_grades_wo_treatment = df[df.llm_support == False].groupby(\"experiment_subject\")[\"numerical_grade\"].first().reset_index()\n",
    "df_grades_wo_treatment[\"treatment\"] = \"without treatment\"\n",
    "\n",
    "#df_grades = pd.merge(df_grades_with_treatment, df_grades_wo_treatment, on=\"experiment_subject\") # , left_index=True, right_index=True)\n",
    "df_grades = pd.concat((df_grades_with_treatment, df_grades_wo_treatment), axis=0, ignore_index=True)\n",
    "#df_grades.rename(columns={\"numerical_grade_x\": \"with treatment\", \"numerical_grade_y\": \"without treatment\"}, inplace=True)\n",
    "df_grades.drop(columns=[\"experiment_subject\"], inplace=True)\n",
    "df_grades\n",
    "p = sns.histplot(data=df_grades, x=\"numerical_grade\", hue=\"treatment\", multiple=\"dodge\", kde=True,  shrink=.8) \n",
    "p.set_xticks(range(7), labels=[\"-3\", \"00\", \"02\", \"4\", \"7\", \"10\", \"12\"]) \n",
    "plt.savefig(\"images/grade_comparison.pdf\", bbox_inches=\"tight\")"
   ]
  },
  {
   "cell_type": "code",
   "execution_count": 327,
   "id": "116d1af1",
   "metadata": {},
   "outputs": [
    {
     "data": {
      "text/plain": [
       "<AxesSubplot:xlabel='grade_label', ylabel='Count'>"
      ]
     },
     "execution_count": 327,
     "metadata": {},
     "output_type": "execute_result"
    },
    {
     "data": {
      "image/png": "[encoded data removed]",
      "text/plain": [
       "<Figure size 432x288 with 1 Axes>"
      ]
     },
     "metadata": {
      "needs_background": "light"
     },
     "output_type": "display_data"
    }
   ],
   "source": [
    "sns.histplot(data=df, x=\"grade_label\", hue=\"llm_support\", multiple=\"dodge\", kde=True,  shrink=.8) \n"
   ]
  },
  {
   "cell_type": "code",
   "execution_count": 319,
   "id": "27fa2720",
   "metadata": {},
   "outputs": [
    {
     "data": {
      "text/html": [
       "<div>\n",
       "<style scoped>\n",
       "    .dataframe tbody tr th:only-of-type {\n",
       "        vertical-align: middle;\n",
       "    }\n",
       "\n",
       "    .dataframe tbody tr th {\n",
       "        vertical-align: top;\n",
       "    }\n",
       "\n",
       "    .dataframe thead th {\n",
       "        text-align: right;\n",
       "    }\n",
       "</style>\n",
       "<table border=\"1\" class=\"dataframe\">\n",
       "  <thead>\n",
       "    <tr style=\"text-align: right;\">\n",
       "      <th></th>\n",
       "      <th>total_bill</th>\n",
       "      <th>tip</th>\n",
       "      <th>sex</th>\n",
       "      <th>smoker</th>\n",
       "      <th>day</th>\n",
       "      <th>time</th>\n",
       "      <th>size</th>\n",
       "    </tr>\n",
       "  </thead>\n",
       "  <tbody>\n",
       "    <tr>\n",
       "      <th>0</th>\n",
       "      <td>16.99</td>\n",
       "      <td>1.01</td>\n",
       "      <td>Female</td>\n",
       "      <td>No</td>\n",
       "      <td>Sun</td>\n",
       "      <td>Dinner</td>\n",
       "      <td>2</td>\n",
       "    </tr>\n",
       "    <tr>\n",
       "      <th>1</th>\n",
       "      <td>10.34</td>\n",
       "      <td>1.66</td>\n",
       "      <td>Male</td>\n",
       "      <td>No</td>\n",
       "      <td>Sun</td>\n",
       "      <td>Dinner</td>\n",
       "      <td>3</td>\n",
       "    </tr>\n",
       "    <tr>\n",
       "      <th>2</th>\n",
       "      <td>21.01</td>\n",
       "      <td>3.50</td>\n",
       "      <td>Male</td>\n",
       "      <td>No</td>\n",
       "      <td>Sun</td>\n",
       "      <td>Dinner</td>\n",
       "      <td>3</td>\n",
       "    </tr>\n",
       "    <tr>\n",
       "      <th>3</th>\n",
       "      <td>23.68</td>\n",
       "      <td>3.31</td>\n",
       "      <td>Male</td>\n",
       "      <td>No</td>\n",
       "      <td>Sun</td>\n",
       "      <td>Dinner</td>\n",
       "      <td>2</td>\n",
       "    </tr>\n",
       "    <tr>\n",
       "      <th>4</th>\n",
       "      <td>24.59</td>\n",
       "      <td>3.61</td>\n",
       "      <td>Female</td>\n",
       "      <td>No</td>\n",
       "      <td>Sun</td>\n",
       "      <td>Dinner</td>\n",
       "      <td>4</td>\n",
       "    </tr>\n",
       "    <tr>\n",
       "      <th>...</th>\n",
       "      <td>...</td>\n",
       "      <td>...</td>\n",
       "      <td>...</td>\n",
       "      <td>...</td>\n",
       "      <td>...</td>\n",
       "      <td>...</td>\n",
       "      <td>...</td>\n",
       "    </tr>\n",
       "    <tr>\n",
       "      <th>239</th>\n",
       "      <td>29.03</td>\n",
       "      <td>5.92</td>\n",
       "      <td>Male</td>\n",
       "      <td>No</td>\n",
       "      <td>Sat</td>\n",
       "      <td>Dinner</td>\n",
       "      <td>3</td>\n",
       "    </tr>\n",
       "    <tr>\n",
       "      <th>240</th>\n",
       "      <td>27.18</td>\n",
       "      <td>2.00</td>\n",
       "      <td>Female</td>\n",
       "      <td>Yes</td>\n",
       "      <td>Sat</td>\n",
       "      <td>Dinner</td>\n",
       "      <td>2</td>\n",
       "    </tr>\n",
       "    <tr>\n",
       "      <th>241</th>\n",
       "      <td>22.67</td>\n",
       "      <td>2.00</td>\n",
       "      <td>Male</td>\n",
       "      <td>Yes</td>\n",
       "      <td>Sat</td>\n",
       "      <td>Dinner</td>\n",
       "      <td>2</td>\n",
       "    </tr>\n",
       "    <tr>\n",
       "      <th>242</th>\n",
       "      <td>17.82</td>\n",
       "      <td>1.75</td>\n",
       "      <td>Male</td>\n",
       "      <td>No</td>\n",
       "      <td>Sat</td>\n",
       "      <td>Dinner</td>\n",
       "      <td>2</td>\n",
       "    </tr>\n",
       "    <tr>\n",
       "      <th>243</th>\n",
       "      <td>18.78</td>\n",
       "      <td>3.00</td>\n",
       "      <td>Female</td>\n",
       "      <td>No</td>\n",
       "      <td>Thur</td>\n",
       "      <td>Dinner</td>\n",
       "      <td>2</td>\n",
       "    </tr>\n",
       "  </tbody>\n",
       "</table>\n",
       "<p>244 rows × 7 columns</p>\n",
       "</div>"
      ],
      "text/plain": [
       "     total_bill   tip     sex smoker   day    time  size\n",
       "0         16.99  1.01  Female     No   Sun  Dinner     2\n",
       "1         10.34  1.66    Male     No   Sun  Dinner     3\n",
       "2         21.01  3.50    Male     No   Sun  Dinner     3\n",
       "3         23.68  3.31    Male     No   Sun  Dinner     2\n",
       "4         24.59  3.61  Female     No   Sun  Dinner     4\n",
       "..          ...   ...     ...    ...   ...     ...   ...\n",
       "239       29.03  5.92    Male     No   Sat  Dinner     3\n",
       "240       27.18  2.00  Female    Yes   Sat  Dinner     2\n",
       "241       22.67  2.00    Male    Yes   Sat  Dinner     2\n",
       "242       17.82  1.75    Male     No   Sat  Dinner     2\n",
       "243       18.78  3.00  Female     No  Thur  Dinner     2\n",
       "\n",
       "[244 rows x 7 columns]"
      ]
     },
     "execution_count": 319,
     "metadata": {},
     "output_type": "execute_result"
    },
    {
     "data": {
      "image/png": "[encoded data removed]",
      "text/plain": [
       "<Figure size 432x288 with 1 Axes>"
      ]
     },
     "metadata": {
      "needs_background": "light"
     },
     "output_type": "display_data"
    }
   ],
   "source": [
    "tips = sns.load_dataset(\"tips\")\n",
    "sns.histplot(data=tips, x=\"day\", hue=\"sex\", multiple=\"dodge\", shrink=.8)\n",
    "tips"
   ]
  },
  {
   "cell_type": "code",
   "execution_count": 292,
   "id": "0b60c4be",
   "metadata": {},
   "outputs": [
    {
     "data": {
      "text/plain": [
       "[<matplotlib.axis.YTick at 0x7fdd4886bc10>,\n",
       " <matplotlib.axis.YTick at 0x7fdd4886b490>,\n",
       " <matplotlib.axis.YTick at 0x7fdd48864bb0>,\n",
       " <matplotlib.axis.YTick at 0x7fdd4883d220>,\n",
       " <matplotlib.axis.YTick at 0x7fdd4883d970>,\n",
       " <matplotlib.axis.YTick at 0x7fdd487c0100>,\n",
       " <matplotlib.axis.YTick at 0x7fdd487c0850>]"
      ]
     },
     "execution_count": 292,
     "metadata": {},
     "output_type": "execute_result"
    },
    {
     "data": {
      "image/png": "[encoded data removed]",
      "text/plain": [
       "<Figure size 432x288 with 1 Axes>"
      ]
     },
     "metadata": {
      "needs_background": "light"
     },
     "output_type": "display_data"
    }
   ],
   "source": [
    "df_grades_with_treatment = df[df.llm_support == True].groupby(\"experiment_subject\")[\"grade\"].first().reset_index()\n",
    "df_grades_with_treatment[\"treatment\"] = \"with treatment\"\n",
    "df_grades_wo_treatment = df[df.llm_support == False].groupby(\"experiment_subject\")[\"grade\"].first().reset_index()\n",
    "df_grades_wo_treatment[\"treatment\"] = \"without treatment\"\n",
    "\n",
    "df_grades = pd.concat((df_grades_with_treatment, df_grades_wo_treatment), axis=0, ignore_index=True)\n",
    "df_grades.drop(columns=[\"experiment_subject\"], inplace=True)\n",
    "\n",
    "df_grades[\"numerical_grade\"] = df_grades.grade.apply(map_grade)\n",
    "p1 = sns.boxplot(data=df_grades, x=\"treatment\", y=\"numerical_grade\", boxprops={\"facecolor\": \"None\"})\n",
    "p2 = sns.swarmplot(data=df_grades, x=\"treatment\", y=\"numerical_grade\", zorder=.5)\n",
    "p1.set(xlabel=None)\n",
    "p1.set(ylabel=\"Grade\")\n",
    "p1.set_yticks(range(7), labels=[\"-3\", \"00\", \"02\", \"4\", \"7\", \"10\", \"12\"]) "
   ]
  },
  {
   "cell_type": "code",
   "execution_count": 252,
   "id": "d168aa1d",
   "metadata": {},
   "outputs": [
    {
     "data": {
      "text/html": [
       "<div>\n",
       "<style scoped>\n",
       "    .dataframe tbody tr th:only-of-type {\n",
       "        vertical-align: middle;\n",
       "    }\n",
       "\n",
       "    .dataframe tbody tr th {\n",
       "        vertical-align: top;\n",
       "    }\n",
       "\n",
       "    .dataframe thead th {\n",
       "        text-align: right;\n",
       "    }\n",
       "</style>\n",
       "<table border=\"1\" class=\"dataframe\">\n",
       "  <thead>\n",
       "    <tr style=\"text-align: right;\">\n",
       "      <th></th>\n",
       "      <th>with treatment</th>\n",
       "      <th>without treatment</th>\n",
       "    </tr>\n",
       "  </thead>\n",
       "  <tbody>\n",
       "    <tr>\n",
       "      <th>count</th>\n",
       "      <td>24.000000</td>\n",
       "      <td>24.000000</td>\n",
       "    </tr>\n",
       "    <tr>\n",
       "      <th>mean</th>\n",
       "      <td>11.416667</td>\n",
       "      <td>7.791667</td>\n",
       "    </tr>\n",
       "    <tr>\n",
       "      <th>std</th>\n",
       "      <td>0.928611</td>\n",
       "      <td>4.032252</td>\n",
       "    </tr>\n",
       "    <tr>\n",
       "      <th>min</th>\n",
       "      <td>10.000000</td>\n",
       "      <td>-3.000000</td>\n",
       "    </tr>\n",
       "    <tr>\n",
       "      <th>25%</th>\n",
       "      <td>10.000000</td>\n",
       "      <td>6.250000</td>\n",
       "    </tr>\n",
       "    <tr>\n",
       "      <th>50%</th>\n",
       "      <td>12.000000</td>\n",
       "      <td>8.500000</td>\n",
       "    </tr>\n",
       "    <tr>\n",
       "      <th>75%</th>\n",
       "      <td>12.000000</td>\n",
       "      <td>10.500000</td>\n",
       "    </tr>\n",
       "    <tr>\n",
       "      <th>max</th>\n",
       "      <td>12.000000</td>\n",
       "      <td>12.000000</td>\n",
       "    </tr>\n",
       "  </tbody>\n",
       "</table>\n",
       "</div>"
      ],
      "text/plain": [
       "       with treatment  without treatment\n",
       "count       24.000000          24.000000\n",
       "mean        11.416667           7.791667\n",
       "std          0.928611           4.032252\n",
       "min         10.000000          -3.000000\n",
       "25%         10.000000           6.250000\n",
       "50%         12.000000           8.500000\n",
       "75%         12.000000          10.500000\n",
       "max         12.000000          12.000000"
      ]
     },
     "execution_count": 252,
     "metadata": {},
     "output_type": "execute_result"
    }
   ],
   "source": [
    "df_grades.describe()"
   ]
  },
  {
   "cell_type": "code",
   "execution_count": 253,
   "id": "b5d56ad5",
   "metadata": {},
   "outputs": [
    {
     "data": {
      "text/plain": [
       "AndersonResult(statistic=5.1648645777396, critical_values=array([0.513, 0.584, 0.701, 0.817, 0.972]), significance_level=array([15. , 10. ,  5. ,  2.5,  1. ]))"
      ]
     },
     "execution_count": 253,
     "metadata": {},
     "output_type": "execute_result"
    }
   ],
   "source": [
    "anderson(df_grades[\"with treatment\"])"
   ]
  },
  {
   "cell_type": "code",
   "execution_count": 254,
   "id": "73fed5a9",
   "metadata": {},
   "outputs": [
    {
     "data": {
      "text/plain": [
       "AndersonResult(statistic=1.0218881095046655, critical_values=array([0.513, 0.584, 0.701, 0.817, 0.972]), significance_level=array([15. , 10. ,  5. ,  2.5,  1. ]))"
      ]
     },
     "execution_count": 254,
     "metadata": {},
     "output_type": "execute_result"
    }
   ],
   "source": [
    "anderson(df_grades[\"without treatment\"])"
   ]
  },
  {
   "cell_type": "code",
   "execution_count": 255,
   "id": "28591117",
   "metadata": {},
   "outputs": [
    {
     "data": {
      "text/plain": [
       "MannwhitneyuResult(statistic=462.0, pvalue=0.00012301770813022747)"
      ]
     },
     "execution_count": 255,
     "metadata": {},
     "output_type": "execute_result"
    }
   ],
   "source": [
    "mannwhitneyu(df_grades[\"with treatment\"], df_grades[\"without treatment\"])"
   ]
  },
  {
   "cell_type": "code",
   "execution_count": 256,
   "id": "50ec3900",
   "metadata": {},
   "outputs": [
    {
     "data": {
      "text/plain": [
       "('increase', ['without treatment', 'with treatment'], 41.18)"
      ]
     },
     "execution_count": 256,
     "metadata": {},
     "output_type": "execute_result"
    }
   ],
   "source": [
    "compute_improvement_pct(df_grades)"
   ]
  },
  {
   "cell_type": "markdown",
   "id": "3ddb85cb",
   "metadata": {},
   "source": [
    "### RQ4: How does the way students prompt a local LLM affect their grade?"
   ]
  },
  {
   "cell_type": "code",
   "execution_count": 55,
   "id": "72bb7b1e",
   "metadata": {},
   "outputs": [
    {
     "data": {
      "image/png": "[encoded data removed]",
      "text/plain": [
       "<Figure size 432x288 with 1 Axes>"
      ]
     },
     "metadata": {
      "needs_background": "light"
     },
     "output_type": "display_data"
    }
   ],
   "source": [
    "df_prompts = df[df.llm_support == True].groupby(\"experiment_subject\")[\"no_prompts\"].sum().reset_index()\n",
    "df_prompts.drop(columns=[\"experiment_subject\"], inplace=True)\n",
    "\n",
    "sns.histplot(df_prompts, color='blue', multiple=\"dodge\", kde=True, \n",
    "             binrange=(0, df_prompts.no_prompts.max()), binwidth=1, shrink=.8)\n",
    "plt.savefig(\"images/prompt_histogram.pdf\", bbox_inches=\"tight\")"
   ]
  },
  {
   "cell_type": "code",
   "execution_count": 36,
   "id": "3ab7c93d",
   "metadata": {},
   "outputs": [
    {
     "data": {
      "image/png": "[encoded data removed]",
      "text/plain": [
       "<Figure size 432x288 with 1 Axes>"
      ]
     },
     "metadata": {
      "needs_background": "light"
     },
     "output_type": "display_data"
    }
   ],
   "source": [
    "df_prompts = df[df.llm_support == True].groupby(\"experiment_subject\")[\"no_prompts\"].sum().reset_index()\n",
    "df_prompts_grades = pd.merge(df_prompts, df_grades_with_treatment, on=\"experiment_subject\")\n",
    "df_prompts_grades.drop(columns=[\"experiment_subject\"], inplace=True)\n",
    "sns.scatterplot(data=df_prompts_grades, x=\"no_prompts\", y=\"grade\")\n",
    "plt.ylim(-3, 13)\n",
    "plt.savefig(\"images/grade_prompt_comparison.pdf\", bbox_inches=\"tight\")"
   ]
  },
  {
   "cell_type": "code",
   "execution_count": 37,
   "id": "2e707038",
   "metadata": {},
   "outputs": [
    {
     "data": {
      "text/plain": [
       "SpearmanrResult(correlation=0.2560509901961664, pvalue=0.2271685140863654)"
      ]
     },
     "execution_count": 37,
     "metadata": {},
     "output_type": "execute_result"
    }
   ],
   "source": [
    "spearmanr(df_prompts_grades.no_prompts, df_prompts_grades.grade)"
   ]
  }
 ],
 "metadata": {
  "kernelspec": {
   "display_name": "Python 3 (ipykernel)",
   "language": "python",
   "name": "python3"
  },
  "language_info": {
   "codemirror_mode": {
    "name": "ipython",
    "version": 3
   },
   "file_extension": ".py",
   "mimetype": "text/x-python",
   "name": "python",
   "nbconvert_exporter": "python",
   "pygments_lexer": "ipython3",
   "version": "3.9.12"
  }
 },
 "nbformat": 4,
 "nbformat_minor": 5
}
